{
  "nbformat": 4,
  "nbformat_minor": 0,
  "metadata": {
    "colab": {
      "provenance": [],
      "include_colab_link": true
    },
    "kernelspec": {
      "name": "python3",
      "display_name": "Python 3"
    },
    "language_info": {
      "name": "python"
    }
  },
  "cells": [
    {
      "cell_type": "markdown",
      "metadata": {
        "id": "view-in-github",
        "colab_type": "text"
      },
      "source": [
        "<a href=\"https://colab.research.google.com/github/tamburins/ESAA_2023/blob/main/ESAA_5_15(579_590)ipynb.ipynb\" target=\"_parent\"><img src=\"https://colab.research.google.com/assets/colab-badge.svg\" alt=\"Open In Colab\"/></a>"
      ]
    },
    {
      "cell_type": "markdown",
      "source": [
        "## 05 콘텐츠 기반 필터링 실습 - TMDB 5000 영화 데이터 세트\n",
        "이는 유명 영화 데이터 정보 사이트인 imdb의 영화중 주요 5000개 영화에 대한 메타정보를 새롭게 가공해 캐글에서 제공하는 데이터세트이다.\n",
        "\n",
        "### 장르 속성을 이용한 영화 콘텐츠 기반 필터링\n",
        "콘텐츠 기반 필터링은 사용자가 특정 영화를 감상하고 그 영화를 좋아했다면 그 영화와 비슷한 특성/속성 구성요소도등을 가진 다른 영화를 추천하는 것이다,\n",
        "\n",
        "이렇게 영화 혹은 상품,서비스간 유사성을 판단하는 기준이 영화를 구성하는 다양한 콘텐츠를 기반으로 하는 것이 바로 콘텐츠 기반 필터링이다.\n",
        "\n",
        "콘텐츠 기반 필터링 추천 시스템을 영화를 선택하는데 중요한 요소인 영홪아르 속성을 기반으로 만들어보자. 장르 ㄱ칼러값의 유사도를 비교한 뒤 그중 높은 평점을 가지는 영화를 추천하는 방식이다.\n",
        "\n",
        "### 데이터 로딩 및 가공"
      ],
      "metadata": {
        "id": "r5YJDd2PAAJo"
      }
    },
    {
      "cell_type": "code",
      "source": [
        "from google.colab import drive\n",
        "drive.mount('/content/drive')"
      ],
      "metadata": {
        "colab": {
          "base_uri": "https://localhost:8080/"
        },
        "id": "aEXA7Gbp0MLV",
        "outputId": "42493603-cd8c-4f11-85d1-63fbbbedb892"
      },
      "execution_count": 1,
      "outputs": [
        {
          "output_type": "stream",
          "name": "stdout",
          "text": [
            "Mounted at /content/drive\n"
          ]
        }
      ]
    },
    {
      "cell_type": "code",
      "source": [
        "import numpy as np\n",
        "import pandas as pd\n",
        "import warnings; warnings.filterwarnings('ignore')\n",
        "\n",
        "movies = pd.read_csv('/content/drive/MyDrive/ESAA/OB/tmdb_5000_movies.csv')\n",
        "print(movies)\n",
        "movies.head(1)"
      ],
      "metadata": {
        "id": "7adpYDuvBUeP",
        "colab": {
          "base_uri": "https://localhost:8080/",
          "height": 1000
        },
        "outputId": "f1a8c405-9e3e-4965-b7fe-423ced815f52"
      },
      "execution_count": 4,
      "outputs": [
        {
          "output_type": "stream",
          "name": "stdout",
          "text": [
            "         budget                                             genres  \\\n",
            "0     237000000  [{\"id\": 28, \"name\": \"Action\"}, {\"id\": 12, \"nam...   \n",
            "1     300000000  [{\"id\": 12, \"name\": \"Adventure\"}, {\"id\": 14, \"...   \n",
            "2     245000000  [{\"id\": 28, \"name\": \"Action\"}, {\"id\": 12, \"nam...   \n",
            "3     250000000  [{\"id\": 28, \"name\": \"Action\"}, {\"id\": 80, \"nam...   \n",
            "4     260000000  [{\"id\": 28, \"name\": \"Action\"}, {\"id\": 12, \"nam...   \n",
            "...         ...                                                ...   \n",
            "4798     220000  [{\"id\": 28, \"name\": \"Action\"}, {\"id\": 80, \"nam...   \n",
            "4799       9000  [{\"id\": 35, \"name\": \"Comedy\"}, {\"id\": 10749, \"...   \n",
            "4800          0  [{\"id\": 35, \"name\": \"Comedy\"}, {\"id\": 18, \"nam...   \n",
            "4801          0                                                 []   \n",
            "4802          0                [{\"id\": 99, \"name\": \"Documentary\"}]   \n",
            "\n",
            "                                               homepage      id  \\\n",
            "0                           http://www.avatarmovie.com/   19995   \n",
            "1          http://disney.go.com/disneypictures/pirates/     285   \n",
            "2           http://www.sonypictures.com/movies/spectre/  206647   \n",
            "3                    http://www.thedarkknightrises.com/   49026   \n",
            "4                  http://movies.disney.com/john-carter   49529   \n",
            "...                                                 ...     ...   \n",
            "4798                                                NaN    9367   \n",
            "4799                                                NaN   72766   \n",
            "4800  http://www.hallmarkchannel.com/signedsealeddel...  231617   \n",
            "4801                        http://shanghaicalling.com/  126186   \n",
            "4802                                                NaN   25975   \n",
            "\n",
            "                                               keywords original_language  \\\n",
            "0     [{\"id\": 1463, \"name\": \"culture clash\"}, {\"id\":...                en   \n",
            "1     [{\"id\": 270, \"name\": \"ocean\"}, {\"id\": 726, \"na...                en   \n",
            "2     [{\"id\": 470, \"name\": \"spy\"}, {\"id\": 818, \"name...                en   \n",
            "3     [{\"id\": 849, \"name\": \"dc comics\"}, {\"id\": 853,...                en   \n",
            "4     [{\"id\": 818, \"name\": \"based on novel\"}, {\"id\":...                en   \n",
            "...                                                 ...               ...   \n",
            "4798  [{\"id\": 5616, \"name\": \"united states\\u2013mexi...                es   \n",
            "4799                                                 []                en   \n",
            "4800  [{\"id\": 248, \"name\": \"date\"}, {\"id\": 699, \"nam...                en   \n",
            "4801                                                 []                en   \n",
            "4802  [{\"id\": 1523, \"name\": \"obsession\"}, {\"id\": 224...                en   \n",
            "\n",
            "                                original_title  \\\n",
            "0                                       Avatar   \n",
            "1     Pirates of the Caribbean: At World's End   \n",
            "2                                      Spectre   \n",
            "3                        The Dark Knight Rises   \n",
            "4                                  John Carter   \n",
            "...                                        ...   \n",
            "4798                               El Mariachi   \n",
            "4799                                 Newlyweds   \n",
            "4800                 Signed, Sealed, Delivered   \n",
            "4801                          Shanghai Calling   \n",
            "4802                         My Date with Drew   \n",
            "\n",
            "                                               overview  popularity  \\\n",
            "0     In the 22nd century, a paraplegic Marine is di...  150.437577   \n",
            "1     Captain Barbossa, long believed to be dead, ha...  139.082615   \n",
            "2     A cryptic message from Bond’s past sends him o...  107.376788   \n",
            "3     Following the death of District Attorney Harve...  112.312950   \n",
            "4     John Carter is a war-weary, former military ca...   43.926995   \n",
            "...                                                 ...         ...   \n",
            "4798  El Mariachi just wants to play his guitar and ...   14.269792   \n",
            "4799  A newlywed couple's honeymoon is upended by th...    0.642552   \n",
            "4800  \"Signed, Sealed, Delivered\" introduces a dedic...    1.444476   \n",
            "4801  When ambitious New York attorney Sam is sent t...    0.857008   \n",
            "4802  Ever since the second grade when he first saw ...    1.929883   \n",
            "\n",
            "                                   production_companies  \\\n",
            "0     [{\"name\": \"Ingenious Film Partners\", \"id\": 289...   \n",
            "1     [{\"name\": \"Walt Disney Pictures\", \"id\": 2}, {\"...   \n",
            "2     [{\"name\": \"Columbia Pictures\", \"id\": 5}, {\"nam...   \n",
            "3     [{\"name\": \"Legendary Pictures\", \"id\": 923}, {\"...   \n",
            "4           [{\"name\": \"Walt Disney Pictures\", \"id\": 2}]   \n",
            "...                                                 ...   \n",
            "4798           [{\"name\": \"Columbia Pictures\", \"id\": 5}]   \n",
            "4799                                                 []   \n",
            "4800  [{\"name\": \"Front Street Pictures\", \"id\": 3958}...   \n",
            "4801                                                 []   \n",
            "4802  [{\"name\": \"rusty bear entertainment\", \"id\": 87...   \n",
            "\n",
            "                                   production_countries release_date  \\\n",
            "0     [{\"iso_3166_1\": \"US\", \"name\": \"United States o...   2009-12-10   \n",
            "1     [{\"iso_3166_1\": \"US\", \"name\": \"United States o...   2007-05-19   \n",
            "2     [{\"iso_3166_1\": \"GB\", \"name\": \"United Kingdom\"...   2015-10-26   \n",
            "3     [{\"iso_3166_1\": \"US\", \"name\": \"United States o...   2012-07-16   \n",
            "4     [{\"iso_3166_1\": \"US\", \"name\": \"United States o...   2012-03-07   \n",
            "...                                                 ...          ...   \n",
            "4798  [{\"iso_3166_1\": \"MX\", \"name\": \"Mexico\"}, {\"iso...   1992-09-04   \n",
            "4799                                                 []   2011-12-26   \n",
            "4800  [{\"iso_3166_1\": \"US\", \"name\": \"United States o...   2013-10-13   \n",
            "4801  [{\"iso_3166_1\": \"US\", \"name\": \"United States o...   2012-05-03   \n",
            "4802  [{\"iso_3166_1\": \"US\", \"name\": \"United States o...   2005-08-05   \n",
            "\n",
            "         revenue  runtime                                   spoken_languages  \\\n",
            "0     2787965087    162.0  [{\"iso_639_1\": \"en\", \"name\": \"English\"}, {\"iso...   \n",
            "1      961000000    169.0           [{\"iso_639_1\": \"en\", \"name\": \"English\"}]   \n",
            "2      880674609    148.0  [{\"iso_639_1\": \"fr\", \"name\": \"Fran\\u00e7ais\"},...   \n",
            "3     1084939099    165.0           [{\"iso_639_1\": \"en\", \"name\": \"English\"}]   \n",
            "4      284139100    132.0           [{\"iso_639_1\": \"en\", \"name\": \"English\"}]   \n",
            "...          ...      ...                                                ...   \n",
            "4798     2040920     81.0      [{\"iso_639_1\": \"es\", \"name\": \"Espa\\u00f1ol\"}]   \n",
            "4799           0     85.0                                                 []   \n",
            "4800           0    120.0           [{\"iso_639_1\": \"en\", \"name\": \"English\"}]   \n",
            "4801           0     98.0           [{\"iso_639_1\": \"en\", \"name\": \"English\"}]   \n",
            "4802           0     90.0           [{\"iso_639_1\": \"en\", \"name\": \"English\"}]   \n",
            "\n",
            "        status                                            tagline  \\\n",
            "0     Released                        Enter the World of Pandora.   \n",
            "1     Released     At the end of the world, the adventure begins.   \n",
            "2     Released                              A Plan No One Escapes   \n",
            "3     Released                                    The Legend Ends   \n",
            "4     Released               Lost in our world, found in another.   \n",
            "...        ...                                                ...   \n",
            "4798  Released  He didn't come looking for trouble, but troubl...   \n",
            "4799  Released  A newlywed couple's honeymoon is upended by th...   \n",
            "4800  Released                                                NaN   \n",
            "4801  Released                           A New Yorker in Shanghai   \n",
            "4802  Released                                                NaN   \n",
            "\n",
            "                                         title  vote_average  vote_count  \n",
            "0                                       Avatar           7.2       11800  \n",
            "1     Pirates of the Caribbean: At World's End           6.9        4500  \n",
            "2                                      Spectre           6.3        4466  \n",
            "3                        The Dark Knight Rises           7.6        9106  \n",
            "4                                  John Carter           6.1        2124  \n",
            "...                                        ...           ...         ...  \n",
            "4798                               El Mariachi           6.6         238  \n",
            "4799                                 Newlyweds           5.9           5  \n",
            "4800                 Signed, Sealed, Delivered           7.0           6  \n",
            "4801                          Shanghai Calling           5.7           7  \n",
            "4802                         My Date with Drew           6.3          16  \n",
            "\n",
            "[4803 rows x 20 columns]\n"
          ]
        },
        {
          "output_type": "execute_result",
          "data": {
            "text/plain": [
              "      budget                                             genres  \\\n",
              "0  237000000  [{\"id\": 28, \"name\": \"Action\"}, {\"id\": 12, \"nam...   \n",
              "\n",
              "                      homepage     id  \\\n",
              "0  http://www.avatarmovie.com/  19995   \n",
              "\n",
              "                                            keywords original_language  \\\n",
              "0  [{\"id\": 1463, \"name\": \"culture clash\"}, {\"id\":...                en   \n",
              "\n",
              "  original_title                                           overview  \\\n",
              "0         Avatar  In the 22nd century, a paraplegic Marine is di...   \n",
              "\n",
              "   popularity                               production_companies  \\\n",
              "0  150.437577  [{\"name\": \"Ingenious Film Partners\", \"id\": 289...   \n",
              "\n",
              "                                production_countries release_date     revenue  \\\n",
              "0  [{\"iso_3166_1\": \"US\", \"name\": \"United States o...   2009-12-10  2787965087   \n",
              "\n",
              "   runtime                                   spoken_languages    status  \\\n",
              "0    162.0  [{\"iso_639_1\": \"en\", \"name\": \"English\"}, {\"iso...  Released   \n",
              "\n",
              "                       tagline   title  vote_average  vote_count  \n",
              "0  Enter the World of Pandora.  Avatar           7.2       11800  "
            ],
            "text/html": [
              "\n",
              "  <div id=\"df-5db5e36e-271e-42a1-9bd6-03e95d4b59cd\">\n",
              "    <div class=\"colab-df-container\">\n",
              "      <div>\n",
              "<style scoped>\n",
              "    .dataframe tbody tr th:only-of-type {\n",
              "        vertical-align: middle;\n",
              "    }\n",
              "\n",
              "    .dataframe tbody tr th {\n",
              "        vertical-align: top;\n",
              "    }\n",
              "\n",
              "    .dataframe thead th {\n",
              "        text-align: right;\n",
              "    }\n",
              "</style>\n",
              "<table border=\"1\" class=\"dataframe\">\n",
              "  <thead>\n",
              "    <tr style=\"text-align: right;\">\n",
              "      <th></th>\n",
              "      <th>budget</th>\n",
              "      <th>genres</th>\n",
              "      <th>homepage</th>\n",
              "      <th>id</th>\n",
              "      <th>keywords</th>\n",
              "      <th>original_language</th>\n",
              "      <th>original_title</th>\n",
              "      <th>overview</th>\n",
              "      <th>popularity</th>\n",
              "      <th>production_companies</th>\n",
              "      <th>production_countries</th>\n",
              "      <th>release_date</th>\n",
              "      <th>revenue</th>\n",
              "      <th>runtime</th>\n",
              "      <th>spoken_languages</th>\n",
              "      <th>status</th>\n",
              "      <th>tagline</th>\n",
              "      <th>title</th>\n",
              "      <th>vote_average</th>\n",
              "      <th>vote_count</th>\n",
              "    </tr>\n",
              "  </thead>\n",
              "  <tbody>\n",
              "    <tr>\n",
              "      <th>0</th>\n",
              "      <td>237000000</td>\n",
              "      <td>[{\"id\": 28, \"name\": \"Action\"}, {\"id\": 12, \"nam...</td>\n",
              "      <td>http://www.avatarmovie.com/</td>\n",
              "      <td>19995</td>\n",
              "      <td>[{\"id\": 1463, \"name\": \"culture clash\"}, {\"id\":...</td>\n",
              "      <td>en</td>\n",
              "      <td>Avatar</td>\n",
              "      <td>In the 22nd century, a paraplegic Marine is di...</td>\n",
              "      <td>150.437577</td>\n",
              "      <td>[{\"name\": \"Ingenious Film Partners\", \"id\": 289...</td>\n",
              "      <td>[{\"iso_3166_1\": \"US\", \"name\": \"United States o...</td>\n",
              "      <td>2009-12-10</td>\n",
              "      <td>2787965087</td>\n",
              "      <td>162.0</td>\n",
              "      <td>[{\"iso_639_1\": \"en\", \"name\": \"English\"}, {\"iso...</td>\n",
              "      <td>Released</td>\n",
              "      <td>Enter the World of Pandora.</td>\n",
              "      <td>Avatar</td>\n",
              "      <td>7.2</td>\n",
              "      <td>11800</td>\n",
              "    </tr>\n",
              "  </tbody>\n",
              "</table>\n",
              "</div>\n",
              "      <button class=\"colab-df-convert\" onclick=\"convertToInteractive('df-5db5e36e-271e-42a1-9bd6-03e95d4b59cd')\"\n",
              "              title=\"Convert this dataframe to an interactive table.\"\n",
              "              style=\"display:none;\">\n",
              "        \n",
              "  <svg xmlns=\"http://www.w3.org/2000/svg\" height=\"24px\"viewBox=\"0 0 24 24\"\n",
              "       width=\"24px\">\n",
              "    <path d=\"M0 0h24v24H0V0z\" fill=\"none\"/>\n",
              "    <path d=\"M18.56 5.44l.94 2.06.94-2.06 2.06-.94-2.06-.94-.94-2.06-.94 2.06-2.06.94zm-11 1L8.5 8.5l.94-2.06 2.06-.94-2.06-.94L8.5 2.5l-.94 2.06-2.06.94zm10 10l.94 2.06.94-2.06 2.06-.94-2.06-.94-.94-2.06-.94 2.06-2.06.94z\"/><path d=\"M17.41 7.96l-1.37-1.37c-.4-.4-.92-.59-1.43-.59-.52 0-1.04.2-1.43.59L10.3 9.45l-7.72 7.72c-.78.78-.78 2.05 0 2.83L4 21.41c.39.39.9.59 1.41.59.51 0 1.02-.2 1.41-.59l7.78-7.78 2.81-2.81c.8-.78.8-2.07 0-2.86zM5.41 20L4 18.59l7.72-7.72 1.47 1.35L5.41 20z\"/>\n",
              "  </svg>\n",
              "      </button>\n",
              "      \n",
              "  <style>\n",
              "    .colab-df-container {\n",
              "      display:flex;\n",
              "      flex-wrap:wrap;\n",
              "      gap: 12px;\n",
              "    }\n",
              "\n",
              "    .colab-df-convert {\n",
              "      background-color: #E8F0FE;\n",
              "      border: none;\n",
              "      border-radius: 50%;\n",
              "      cursor: pointer;\n",
              "      display: none;\n",
              "      fill: #1967D2;\n",
              "      height: 32px;\n",
              "      padding: 0 0 0 0;\n",
              "      width: 32px;\n",
              "    }\n",
              "\n",
              "    .colab-df-convert:hover {\n",
              "      background-color: #E2EBFA;\n",
              "      box-shadow: 0px 1px 2px rgba(60, 64, 67, 0.3), 0px 1px 3px 1px rgba(60, 64, 67, 0.15);\n",
              "      fill: #174EA6;\n",
              "    }\n",
              "\n",
              "    [theme=dark] .colab-df-convert {\n",
              "      background-color: #3B4455;\n",
              "      fill: #D2E3FC;\n",
              "    }\n",
              "\n",
              "    [theme=dark] .colab-df-convert:hover {\n",
              "      background-color: #434B5C;\n",
              "      box-shadow: 0px 1px 3px 1px rgba(0, 0, 0, 0.15);\n",
              "      filter: drop-shadow(0px 1px 2px rgba(0, 0, 0, 0.3));\n",
              "      fill: #FFFFFF;\n",
              "    }\n",
              "  </style>\n",
              "\n",
              "      <script>\n",
              "        const buttonEl =\n",
              "          document.querySelector('#df-5db5e36e-271e-42a1-9bd6-03e95d4b59cd button.colab-df-convert');\n",
              "        buttonEl.style.display =\n",
              "          google.colab.kernel.accessAllowed ? 'block' : 'none';\n",
              "\n",
              "        async function convertToInteractive(key) {\n",
              "          const element = document.querySelector('#df-5db5e36e-271e-42a1-9bd6-03e95d4b59cd');\n",
              "          const dataTable =\n",
              "            await google.colab.kernel.invokeFunction('convertToInteractive',\n",
              "                                                     [key], {});\n",
              "          if (!dataTable) return;\n",
              "\n",
              "          const docLinkHtml = 'Like what you see? Visit the ' +\n",
              "            '<a target=\"_blank\" href=https://colab.research.google.com/notebooks/data_table.ipynb>data table notebook</a>'\n",
              "            + ' to learn more about interactive tables.';\n",
              "          element.innerHTML = '';\n",
              "          dataTable['output_type'] = 'display_data';\n",
              "          await google.colab.output.renderOutput(dataTable, element);\n",
              "          const docLink = document.createElement('div');\n",
              "          docLink.innerHTML = docLinkHtml;\n",
              "          element.appendChild(docLink);\n",
              "        }\n",
              "      </script>\n",
              "    </div>\n",
              "  </div>\n",
              "  "
            ]
          },
          "metadata": {},
          "execution_count": 4
        }
      ]
    },
    {
      "cell_type": "markdown",
      "source": [
        "movies 데이터는 4803개의 레코드와 20개의 피처로 구성돼있다. 영화제목 개요 인기도 평점 투표수  예산 키워드 등 영화에 대한 다양한 메타정보를 가지며 이 중 콘텐츠 기반 필터링 추천 분석에 사용할 주요 칼럼만 추출해 새롭게 데이터프레임으로 만든다. 추출할 주요 칼럼은 id, title, genre, vote_average, vote_count, popularity, keywords, overview이다."
      ],
      "metadata": {
        "id": "Zl_um2ZtBi8F"
      }
    },
    {
      "cell_type": "code",
      "source": [
        "movies_df = movies[['id','title', 'genres', 'vote_average', 'vote_count', 'popularity','keywords', 'overview']]"
      ],
      "metadata": {
        "id": "xHML-qFyBz-A"
      },
      "execution_count": 5,
      "outputs": []
    },
    {
      "cell_type": "markdown",
      "source": [
        "칼럼 중 파이썬 리스트 내부에 여러개의 딕셔너리 형태의 문자열로 표기된 것이 있다. 이는 한꺼번에 여러개의 값을 표한하기 위한 것으로 가공을 요한다."
      ],
      "metadata": {
        "id": "o7Gi6oaJB-rw"
      }
    },
    {
      "cell_type": "code",
      "source": [
        "pd.set_option('max_colwidth', 100)\n",
        "movies_df[['genres', 'keywords']][:1]"
      ],
      "metadata": {
        "id": "Kwk-mEnGCIwE",
        "colab": {
          "base_uri": "https://localhost:8080/",
          "height": 142
        },
        "outputId": "d9a8b83d-c8bf-4950-8a1d-7782dc1d2ab1"
      },
      "execution_count": 6,
      "outputs": [
        {
          "output_type": "execute_result",
          "data": {
            "text/plain": [
              "                                                                                                genres  \\\n",
              "0  [{\"id\": 28, \"name\": \"Action\"}, {\"id\": 12, \"name\": \"Adventure\"}, {\"id\": 14, \"name\": \"Fantasy\"}, {...   \n",
              "\n",
              "                                                                                              keywords  \n",
              "0  [{\"id\": 1463, \"name\": \"culture clash\"}, {\"id\": 2964, \"name\": \"future\"}, {\"id\": 3386, \"name\": \"sp...  "
            ],
            "text/html": [
              "\n",
              "  <div id=\"df-eea0aaed-cd1c-4f4a-be94-c43341e38491\">\n",
              "    <div class=\"colab-df-container\">\n",
              "      <div>\n",
              "<style scoped>\n",
              "    .dataframe tbody tr th:only-of-type {\n",
              "        vertical-align: middle;\n",
              "    }\n",
              "\n",
              "    .dataframe tbody tr th {\n",
              "        vertical-align: top;\n",
              "    }\n",
              "\n",
              "    .dataframe thead th {\n",
              "        text-align: right;\n",
              "    }\n",
              "</style>\n",
              "<table border=\"1\" class=\"dataframe\">\n",
              "  <thead>\n",
              "    <tr style=\"text-align: right;\">\n",
              "      <th></th>\n",
              "      <th>genres</th>\n",
              "      <th>keywords</th>\n",
              "    </tr>\n",
              "  </thead>\n",
              "  <tbody>\n",
              "    <tr>\n",
              "      <th>0</th>\n",
              "      <td>[{\"id\": 28, \"name\": \"Action\"}, {\"id\": 12, \"name\": \"Adventure\"}, {\"id\": 14, \"name\": \"Fantasy\"}, {...</td>\n",
              "      <td>[{\"id\": 1463, \"name\": \"culture clash\"}, {\"id\": 2964, \"name\": \"future\"}, {\"id\": 3386, \"name\": \"sp...</td>\n",
              "    </tr>\n",
              "  </tbody>\n",
              "</table>\n",
              "</div>\n",
              "      <button class=\"colab-df-convert\" onclick=\"convertToInteractive('df-eea0aaed-cd1c-4f4a-be94-c43341e38491')\"\n",
              "              title=\"Convert this dataframe to an interactive table.\"\n",
              "              style=\"display:none;\">\n",
              "        \n",
              "  <svg xmlns=\"http://www.w3.org/2000/svg\" height=\"24px\"viewBox=\"0 0 24 24\"\n",
              "       width=\"24px\">\n",
              "    <path d=\"M0 0h24v24H0V0z\" fill=\"none\"/>\n",
              "    <path d=\"M18.56 5.44l.94 2.06.94-2.06 2.06-.94-2.06-.94-.94-2.06-.94 2.06-2.06.94zm-11 1L8.5 8.5l.94-2.06 2.06-.94-2.06-.94L8.5 2.5l-.94 2.06-2.06.94zm10 10l.94 2.06.94-2.06 2.06-.94-2.06-.94-.94-2.06-.94 2.06-2.06.94z\"/><path d=\"M17.41 7.96l-1.37-1.37c-.4-.4-.92-.59-1.43-.59-.52 0-1.04.2-1.43.59L10.3 9.45l-7.72 7.72c-.78.78-.78 2.05 0 2.83L4 21.41c.39.39.9.59 1.41.59.51 0 1.02-.2 1.41-.59l7.78-7.78 2.81-2.81c.8-.78.8-2.07 0-2.86zM5.41 20L4 18.59l7.72-7.72 1.47 1.35L5.41 20z\"/>\n",
              "  </svg>\n",
              "      </button>\n",
              "      \n",
              "  <style>\n",
              "    .colab-df-container {\n",
              "      display:flex;\n",
              "      flex-wrap:wrap;\n",
              "      gap: 12px;\n",
              "    }\n",
              "\n",
              "    .colab-df-convert {\n",
              "      background-color: #E8F0FE;\n",
              "      border: none;\n",
              "      border-radius: 50%;\n",
              "      cursor: pointer;\n",
              "      display: none;\n",
              "      fill: #1967D2;\n",
              "      height: 32px;\n",
              "      padding: 0 0 0 0;\n",
              "      width: 32px;\n",
              "    }\n",
              "\n",
              "    .colab-df-convert:hover {\n",
              "      background-color: #E2EBFA;\n",
              "      box-shadow: 0px 1px 2px rgba(60, 64, 67, 0.3), 0px 1px 3px 1px rgba(60, 64, 67, 0.15);\n",
              "      fill: #174EA6;\n",
              "    }\n",
              "\n",
              "    [theme=dark] .colab-df-convert {\n",
              "      background-color: #3B4455;\n",
              "      fill: #D2E3FC;\n",
              "    }\n",
              "\n",
              "    [theme=dark] .colab-df-convert:hover {\n",
              "      background-color: #434B5C;\n",
              "      box-shadow: 0px 1px 3px 1px rgba(0, 0, 0, 0.15);\n",
              "      filter: drop-shadow(0px 1px 2px rgba(0, 0, 0, 0.3));\n",
              "      fill: #FFFFFF;\n",
              "    }\n",
              "  </style>\n",
              "\n",
              "      <script>\n",
              "        const buttonEl =\n",
              "          document.querySelector('#df-eea0aaed-cd1c-4f4a-be94-c43341e38491 button.colab-df-convert');\n",
              "        buttonEl.style.display =\n",
              "          google.colab.kernel.accessAllowed ? 'block' : 'none';\n",
              "\n",
              "        async function convertToInteractive(key) {\n",
              "          const element = document.querySelector('#df-eea0aaed-cd1c-4f4a-be94-c43341e38491');\n",
              "          const dataTable =\n",
              "            await google.colab.kernel.invokeFunction('convertToInteractive',\n",
              "                                                     [key], {});\n",
              "          if (!dataTable) return;\n",
              "\n",
              "          const docLinkHtml = 'Like what you see? Visit the ' +\n",
              "            '<a target=\"_blank\" href=https://colab.research.google.com/notebooks/data_table.ipynb>data table notebook</a>'\n",
              "            + ' to learn more about interactive tables.';\n",
              "          element.innerHTML = '';\n",
              "          dataTable['output_type'] = 'display_data';\n",
              "          await google.colab.output.renderOutput(dataTable, element);\n",
              "          const docLink = document.createElement('div');\n",
              "          docLink.innerHTML = docLinkHtml;\n",
              "          element.appendChild(docLink);\n",
              "        }\n",
              "      </script>\n",
              "    </div>\n",
              "  </div>\n",
              "  "
            ]
          },
          "metadata": {},
          "execution_count": 6
        }
      ]
    },
    {
      "cell_type": "markdown",
      "source": [
        "위오 ㅏ같이 장르는 여러개으 ㅣ개별 장르 데이터를 가지며 이 개별 장르의 명칭은 딕셔너리으 ㅣ키인 Name으로 추출할 수 있다. 키워드도 마찬가지의 구조로 장르 칼럼의 문자열을 분해해서 개별 장르를 파이선 리스트 객체로 추출하고자 한다. ast 파이선 모듈의 literal eval함수를 이용하면 이를 리스트 객체로 만들 수 있다."
      ],
      "metadata": {
        "id": "_y25-Q7PCU0H"
      }
    },
    {
      "cell_type": "code",
      "source": [
        "from ast import literal_eval\n",
        "movies_df['genres'] = movies_df['genres'].apply(literal_eval)\n",
        "movies_df['keywords'] = movies_df['keywords'].apply(literal_eval)"
      ],
      "metadata": {
        "id": "PWeS2G4XCpK2"
      },
      "execution_count": null,
      "outputs": []
    },
    {
      "cell_type": "markdown",
      "source": [
        "이제 장르칼럼은 문자열이 아니라 실제 리스트 내부에 여러 장르 딕셔너리로 구성된 객체를 갖는다. 장르 칼럼에서 장르명만 리스트 객체로 추출해보자. 장르 칼럼에서 name에 해당하는 값을 추출하기 위해 apply 람다식을 이용한다."
      ],
      "metadata": {
        "id": "S1UtZx-HC2Lt"
      }
    },
    {
      "cell_type": "code",
      "source": [
        "movies_df['genres']=movies_df['genres'].apply(lambda x:[y['name'] for y in x])\n",
        "movies_df['keywords']=movies_df['keywords'].apply(lambda x:[y['name'] for y in x])\n",
        "movies_df[['genres', 'keywords']][:1]"
      ],
      "metadata": {
        "id": "AspbGQvvDIHV"
      },
      "execution_count": null,
      "outputs": []
    },
    {
      "cell_type": "markdown",
      "source": [
        "### 장르 콘텐츠 유사도 측정\n",
        "여러개의 개별 장르가 리스트로 구성된 장르칼럼은 영화의 장르가 일부 동일할 경우 문자열로 변경한 뒤 countvectorizer로 피처벡터화한 행렬 데이터값을 코사인 유사도로 비교하는 것이다.\n",
        "\n",
        "문자열로 변환된 장르 칼럼을 count 기반으로 피처벡터화 변환한다.\n",
        "\n",
        "장르 문자열을 피처벡터화 행렬로 변환한 데이터세트를 코사인 유사도를 통해 비교한다. 이를 위해 데이터세트의 레콛별 타 레코드와 장르에서 코사인 유사도 값을 가지는 객체를 생성한다.\n",
        "\n",
        "장르 유사도가 높은 영화중 평점이 높은 순으로 영화를 추천한다.\n",
        "\n",
        "먼저 피처벡터행렬화를 진행한다. 리스트 객체값을 ㅗ구성된 장르칼럼을 개별 요소를 공백문자로 구분하는 문자열로 변환해 별도 칼럼으로 저장한다."
      ],
      "metadata": {
        "id": "ef5LoeP6Drhf"
      }
    },
    {
      "cell_type": "code",
      "source": [
        "from sklearn.feature_extraction.text import CountVectorizer\n",
        "\n",
        "# for applying countvectorizer, transform string which can seperate word \n",
        "movies_df['genres_literal']=movies_df['genres'].apply(lambda x: (' ').join(x))\n",
        "count_vect = CountVectorizer(min_df=0, ngram_range(1,2))\n",
        "genre_mat = count_vect.fit_transform(movies_df['genres_literal'])\n",
        "print(genre_mat.shape)"
      ],
      "metadata": {
        "id": "6jX8MK6hEPur"
      },
      "execution_count": null,
      "outputs": []
    },
    {
      "cell_type": "markdown",
      "source": [
        "countvecotizer로 변환해 피처벡터행렬을 생성했다. 이렇게 샏ㅇ성된 피처벡터행렬에 사이킷런의 코사인유사도를 계산한다. "
      ],
      "metadata": {
        "id": "f205nrHsE2jm"
      }
    },
    {
      "cell_type": "code",
      "source": [
        "from sklearn.metrics.pairwise import cosine_similarity\n",
        "\n",
        "genre_sim = cosine_similarity(genre_mat, genre_mat)\n",
        "print(genre_sim.shape)\n",
        "print(genre_sim[:1])"
      ],
      "metadata": {
        "id": "3FpbFHTJFRL-"
      },
      "execution_count": null,
      "outputs": []
    },
    {
      "cell_type": "markdown",
      "source": [
        "코사인 유사도 호출로 생성된 장르 sim 객체는 영화데이터프레임의 장르리터럴 칼럼을 피처벡터화한 행렬 데이터의 행별 유사도정볼르 가지며, 결국 영화데이터프레임의 행별 장르 유사도값을 가진다. 영화데이터프레임을 장르기준으로 콘텐츠기반 필터링을 수행하려면 영화데이터프레임의 개별 레코드에 대해 가장 장르유사도가 높은 순으로 다른 레코드를 추출해야한다.\n",
        "\n",
        "장르심 객체의 기준행렬로 비교대상이 되는 행의 유사도값이 높은 순으로 정렬된 행렬의 위치 인덱스 값을 추출한다. 값 이 높은 순으로 정렬된 비교대상행의 유사도값이 아닌 비교대상 행의 위치인덱스이다.\n",
        "\n",
        "argsort를 이용해보자.\n",
        "\n"
      ],
      "metadata": {
        "id": "thuQkuoZFf3r"
      }
    },
    {
      "cell_type": "code",
      "source": [
        "genre_sim_sorted_ind = genre_sim.argsort()[:,::-1]\n",
        "print(genre_sim_sorted_ind[:1])"
      ],
      "metadata": {
        "id": "Zrku9WIAHfgJ"
      },
      "execution_count": null,
      "outputs": []
    },
    {
      "cell_type": "markdown",
      "source": [
        "변환된 값이 의미하는 것은 0번 레코드의 경우 자신인 0번 레코드를 제외하면 3494번 레코드가 가장 유사도가 높고 그다음으로 유사도가 높은 레코드를 제시하며,  가장 유사도가 낮은 레코드는 마지막이라는것이다.\n",
        "\n",
        "이제각 레코드의 장르 코사인 유사도가 가장 높은 순으로 정렬된 타레코드의 위치인덱스값을 가진다. 이제 위치인덱스를 이ㅛㅇㅇ해 언제든지 특정 레코드와 코사인 유사도가 높은 다른 레코드를 추출할 수 있다.\n",
        "\n",
        "### 장르 콘텐츠 필터링을 이용한 영화 추천\n",
        "\n",
        "장르 유사도에 따라 영화를 추천하는 함수를 생성한다. "
      ],
      "metadata": {
        "id": "nPtHhdVzIDkq"
      }
    },
    {
      "cell_type": "code",
      "source": [
        "def find_sim_movie(df, sorted_ind, title_name, topn=10):\n",
        "  #인자로 입력된 영화데이터프레임에서 영화제목칼럼이 입력된 영화이름값의 데이터프레임 추출\n",
        "  title_movie = df[df['title']==title_name]\n",
        "\n",
        "  # title_named를 가진 데이터프레임의 인덱스 객체를 ndarray로 반환\n",
        "  # sorted_ind 인자로 입력된 genre_sim_sorted_ind 객체에서 유사도순으로 topn개의 인덱스 추출\n",
        "  title_index = title_movie.index.values\n",
        "  similar_indexes = sorted_ind[title_index, :(top_n)]\n",
        "\n",
        "  # 추출된 top n index 출력, 이는 2차원 데이터\n",
        "  # 데이터프레임에서 인덱스로 사용하기 위해 1차원 행렬로 변경\n",
        "  print(similar_indexes)\n",
        "  similar_indexes = similar_indexes.reshape(-1)\n",
        "\n",
        "  return df.iloc[similar_indexes]"
      ],
      "metadata": {
        "id": "-3yAOTIhIgWj"
      },
      "execution_count": null,
      "outputs": []
    },
    {
      "cell_type": "markdown",
      "source": [
        "함수를 이용해 영화 대부와 유사한 장르별 영화 10개를 추천해보자. "
      ],
      "metadata": {
        "id": "L6m-51QuJWgP"
      }
    },
    {
      "cell_type": "code",
      "source": [
        "similar_movies = find_sim_movie(movies_df, genre_sim_sorted_ind, 'The Godfather', 10)\n",
        "similar_movies[['title', 'vote_average']]"
      ],
      "metadata": {
        "id": "32mYfKDhJakU"
      },
      "execution_count": null,
      "outputs": []
    },
    {
      "cell_type": "markdown",
      "source": [
        "대부 2편이 가장 먼저 추천되었다 그 외의 좋은친구들도 대부와 비슷한 유형으로 이를 추천해야할 것이다. 하지만 대부를 좋아하는 고객에게 추천하기 이해하기 어려운 낯선 영화도 많다.\n",
        "\n",
        "이번에는 많은 후보군을 선정한 뒤에 영화의 평점에 따라 필터링해서 최종 추천하는 방식으로 변경한다. 영화의 평점정보인 vote_average를 이용한다. 평균점수는 왜곡될 수 있기 때문에 확인해보자."
      ],
      "metadata": {
        "id": "PpxLADt3KYVx"
      }
    },
    {
      "cell_type": "code",
      "source": [
        "movies_df[['title', 'vote_average', 'vote_count']].sort_values('vote_average', ascending=False)[:!0]"
      ],
      "metadata": {
        "id": "29aQnaL8Kx64"
      },
      "execution_count": null,
      "outputs": []
    },
    {
      "cell_type": "markdown",
      "source": [
        "쇼생크탈출이나 대부같은명작보다 높은 순위에 이름도 들어본 적 없는 영화가 높은 평점으로 있는데 이들의 평가횟수는 작다. \n",
        "평가횟수에 대한 가중치가 부여된 평점방식을 사용한다. \n",
        "\n",
        "가중평점은 투표회수와 평점을 부여하기 위한 최소투표횟수, 개별 영화에 대한 평균평점, 전체 영화에 대한 평균평점으로 표현한다."
      ],
      "metadata": {
        "id": "lORDVBTmK-CA"
      }
    },
    {
      "cell_type": "code",
      "source": [
        "C = movies_df['vote_average'].mean()\n",
        "m=movies_df['vote_count'].quantile(0.6)\n",
        "print('C: ', round(C,3), 'm :',round(m,3))"
      ],
      "metadata": {
        "id": "QmLvSLYkLXX0"
      },
      "execution_count": null,
      "outputs": []
    },
    {
      "cell_type": "markdown",
      "source": [
        "기존 평점을 새로운 가중평점으로 변경하는 함수를 생성하고 이를 이용해 새 평점정보를 생성한다. 데이터프레임의 레코드를 인자로 받아 레코드의 투표횟수와 투표평균칼럼 그리고 m,C를 이용해 레코드별 가중 평점을 반환한다."
      ],
      "metadata": {
        "id": "ALDLNO_3Mtu6"
      }
    },
    {
      "cell_type": "code",
      "source": [
        "percentile = 0.6\n",
        "m = movies['vote_count'].quantile(percentile)\n",
        "C = movies['vote_average'].mean()\n",
        "\n",
        "def weighted_vote_average(record):\n",
        "  v = record['vote_count']\n",
        "  R = record['vote_average']\n",
        "  return ( (v/(v+m)*R)+( (m/(m+v)))*C)\n",
        "\n",
        "movies['weighted_vote']=movies.apply(weighted_vote_average, axis=1)"
      ],
      "metadata": {
        "id": "tYU_ZdwXM50B"
      },
      "execution_count": null,
      "outputs": []
    },
    {
      "cell_type": "code",
      "source": [
        "movies_df[['title','vote_average','weighted_vote', 'vote_count']].sort_values('weighted_vote',ascending=False)[:10]"
      ],
      "metadata": {
        "id": "bTkMfRT7NkUB"
      },
      "execution_count": null,
      "outputs": []
    },
    {
      "cell_type": "markdown",
      "source": [
        "잘 뽑힘\n",
        "\n",
        "새 평점기준에 따라 영화를 추천하자. 장르 유사성이 높은 영화를 후보군으로 선정하고 가중평균이 넢은 순으로추천하자."
      ],
      "metadata": {
        "id": "H3x2Dj2mN4yU"
      }
    },
    {
      "cell_type": "code",
      "source": [
        "def find_sim_movie(df, sorted_ind, title_name, top_n=10):\n",
        "  title_movie = df[df['title']==title_name]\n",
        "  title_index = title_movie.index.values\n",
        "\n",
        "  # topn에 2배에 해당하는 장르 유사성이 높은 인덱스 추출\n",
        "  similar_indexes = sorted_ind[title_index, :(top_n*2)]\n",
        "  similar_indexes = similar_index.reshape(-1)\n",
        "  #except original indexes\n",
        "  similar_indexes = similar_indexes[similar_indexes!=title_index]\n",
        "  # weighted 투표수순으로 추출\n",
        "  return df.ilcc[similar_indexes].sort_values('weighted_vote',ascending=False[:top+n])\n",
        "\n",
        "similar_movies=find_sim_movie(movies_df, genre_sim_sorted_ind, 'The Godfather', 10)\n",
        "similar_movies[['title', 'vote_average','weighted_vote']]\n",
        "\n",
        "# better than before"
      ],
      "metadata": {
        "id": "K3wF4f-xOCuG"
      },
      "execution_count": null,
      "outputs": []
    }
  ]
}