{
  "nbformat": 4,
  "nbformat_minor": 0,
  "metadata": {
    "colab": {
      "provenance": [],
      "authorship_tag": "ABX9TyNHwVYb3HgDLAHd7/M+ogzW",
      "include_colab_link": true
    },
    "kernelspec": {
      "name": "python3",
      "display_name": "Python 3"
    },
    "language_info": {
      "name": "python"
    }
  },
  "cells": [
    {
      "cell_type": "markdown",
      "metadata": {
        "id": "view-in-github",
        "colab_type": "text"
      },
      "source": [
        "<a href=\"https://colab.research.google.com/github/tamburins/ESAA_2023/blob/main/ESAA_5_26(87~95%2C105~115).ipynb\" target=\"_parent\"><img src=\"https://colab.research.google.com/assets/colab-badge.svg\" alt=\"Open In Colab\"/></a>"
      ]
    },
    {
      "cell_type": "markdown",
      "source": [
        "# 04 모델 세부 설정"
      ],
      "metadata": {
        "id": "KGsRa0xNMbrs"
      }
    },
    {
      "cell_type": "code",
      "execution_count": 2,
      "metadata": {
        "id": "wM2U2VTon-89",
        "colab": {
          "base_uri": "https://localhost:8080/"
        },
        "outputId": "ea5233b7-ddf1-4025-ceb3-23c8f1110c5c"
      },
      "outputs": [
        {
          "output_type": "stream",
          "name": "stdout",
          "text": [
            "Downloading data from https://storage.googleapis.com/tensorflow/tf-keras-datasets/mnist.npz\n",
            "11490434/11490434 [==============================] - 0s 0us/step\n",
            "train set:  (60000, 28, 28) (60000,)\n",
            "test set:  (10000, 28, 28) (10000,)\n"
          ]
        }
      ],
      "source": [
        "import tensorflow as tf\n",
        "# keras innerdataset > mnist load\n",
        "mnist = tf.keras.datasets.mnist\n",
        "\n",
        "# load_data> data load\n",
        "(x_train, y_train),(x_test, y_test)=mnist.load_data()\n",
        "\n",
        "# check loaded dataset\n",
        "print('train set: ', x_train.shape, y_train.shape)\n",
        "print('test set: ', x_test.shape, y_test.shape)\n",
        "\n",
        "# normalize dta\n",
        "x_train=x_train/x_train.max()\n",
        "x_test=x_test/x_test.max()"
      ]
    },
    {
      "cell_type": "markdown",
      "source": [
        "# 4-1 초기값 설정\n",
        "glorot uniform 초기화방법을 설정하여 초기화방법을 다르게 설정한다."
      ],
      "metadata": {
        "id": "1kk7AyBaNBXn"
      }
    },
    {
      "cell_type": "code",
      "source": [
        "dense = tf.keras.layers.Dense(256, activation='relu')\n",
        "dense.get_config()['kernel_initializer']"
      ],
      "metadata": {
        "id": "qOlR1w0ANHrs",
        "colab": {
          "base_uri": "https://localhost:8080/"
        },
        "outputId": "d1c573e5-f4db-4cdb-832b-1f9e031d0e1c"
      },
      "execution_count": 3,
      "outputs": [
        {
          "output_type": "execute_result",
          "data": {
            "text/plain": [
              "{'class_name': 'GlorotUniform', 'config': {'seed': None}}"
            ]
          },
          "metadata": {},
          "execution_count": 3
        }
      ]
    },
    {
      "cell_type": "markdown",
      "source": [
        "기본값으로 설정된 glorotuniform 초기화방법을 henormal로 변경하기 ㅜ이해서 kernel initializer 매개변수에 설정한다. 손실함수와 동일하게 문자열 지정과 클래스 인스턴스 지정 모두 가능하다."
      ],
      "metadata": {
        "id": "la0OS0KRNQh_"
      }
    },
    {
      "cell_type": "code",
      "source": [
        "# 문자열 초기화\n",
        "dense = tf.keras.layers.Dense(256, kernel_initializer='he_normal', activation='relu')\n",
        "print(dense.get_config()['kernel_initializer'])\n",
        "\n",
        "# class instance 초기화\n",
        "he_normal = tf.keras.initializers.HeNormal()\n",
        "print(dense.get_config()['kernel_initializer'])\n"
      ],
      "metadata": {
        "id": "GPZjaQAeNb__",
        "colab": {
          "base_uri": "https://localhost:8080/"
        },
        "outputId": "ed0ef39b-e9f9-411d-8f7d-cd89ac5c4696"
      },
      "execution_count": 4,
      "outputs": [
        {
          "output_type": "stream",
          "name": "stdout",
          "text": [
            "{'class_name': 'HeNormal', 'config': {'seed': None}}\n",
            "{'class_name': 'HeNormal', 'config': {'seed': None}}\n"
          ]
        }
      ]
    },
    {
      "cell_type": "markdown",
      "source": [
        "케라ㅅ에서 지원하는 자주 사용되는 초기화목록은\n",
        "글로릿초기화, yann leccun 초기화, he 초기화, 정규분포, 연속균등 분포 초기화가 있다.\n",
        "\n",
        "# 4-2 규제\n",
        "모델의 과대적합 해소를 위해 l1, l2 규제를 적용하기도 한다. 기본값은 규제 없음이기 때문에 별도로 적용해야 한다."
      ],
      "metadata": {
        "id": "arUKULFANxOE"
      }
    },
    {
      "cell_type": "code",
      "source": [
        "dense = tf.keras.layers.Dense(256, activation='relu')\n",
        "dense.get_config()"
      ],
      "metadata": {
        "id": "PC14F6y8OEND",
        "colab": {
          "base_uri": "https://localhost:8080/"
        },
        "outputId": "47817977-e50e-442f-92c8-178f18a0c727"
      },
      "execution_count": 5,
      "outputs": [
        {
          "output_type": "execute_result",
          "data": {
            "text/plain": [
              "{'name': 'dense_2',\n",
              " 'trainable': True,\n",
              " 'dtype': 'float32',\n",
              " 'units': 256,\n",
              " 'activation': 'relu',\n",
              " 'use_bias': True,\n",
              " 'kernel_initializer': {'class_name': 'GlorotUniform',\n",
              "  'config': {'seed': None}},\n",
              " 'bias_initializer': {'class_name': 'Zeros', 'config': {}},\n",
              " 'kernel_regularizer': None,\n",
              " 'bias_regularizer': None,\n",
              " 'activity_regularizer': None,\n",
              " 'kernel_constraint': None,\n",
              " 'bias_constraint': None}"
            ]
          },
          "metadata": {},
          "execution_count": 5
        }
      ]
    },
    {
      "cell_type": "markdown",
      "source": [
        "모델의 과대적합 방지를 위해 모델을 구성하는레이어마다 규제를 적용할 수 있다. 케라스에서 지원하는 규제는 l1, l2규제이다."
      ],
      "metadata": {
        "id": "qaZyrMccPv3H"
      }
    },
    {
      "cell_type": "code",
      "source": [
        "dense = tf.keras.layers.Dense(256, kernel_regularizer='l1', activation='relu')\n",
        "print(dense.get_config()['kernel_regularizer'])\n",
        "\n",
        "regularizer = tf.keras.regularizers.l1(l1=0.1)\n",
        "dense=tf.keras.layers.Dense(256, kernel_regularizer=regularizer, activation='relu')\n",
        "print(dense.get_config()['kernel_regularizer'])"
      ],
      "metadata": {
        "id": "BoskEBDWP2aX",
        "colab": {
          "base_uri": "https://localhost:8080/"
        },
        "outputId": "6afce425-5d09-40be-edb6-878793a609c3"
      },
      "execution_count": 6,
      "outputs": [
        {
          "output_type": "stream",
          "name": "stdout",
          "text": [
            "{'class_name': 'L1', 'config': {'l1': 0.009999999776482582}}\n",
            "{'class_name': 'L1', 'config': {'l1': 0.10000000149011612}}\n"
          ]
        }
      ]
    },
    {
      "cell_type": "markdown",
      "source": [
        "# 4-3 드롭 아웃\n",
        "딥러닝 모델의 층이 넓고 깊어지는 모델은 과대적합 문제를 일으키기 쉬운데 확률적으로 몇개의 신호를 끊는 드롭아웃을 적용하게 되면 모델이 쉽게 과대적합되는 것을 방지할 수 있다.\n",
        "모델이 학습하는 가중치파라미터의 개수가 현저히 감소하기 때문이다. \n",
        "중요한 점은 모델이 훈련할 때는 드롭아웃이 적용되지만 예측시에는 모든 노드들이 활용된다."
      ],
      "metadata": {
        "id": "6xkBsy7eQUb1"
      }
    },
    {
      "cell_type": "code",
      "source": [
        "# 25% dropout 적용\n",
        "tf.keras.layers.Dropout(0.25)"
      ],
      "metadata": {
        "id": "D1XTX9giQ0aD",
        "colab": {
          "base_uri": "https://localhost:8080/"
        },
        "outputId": "56d2a14d-17ca-4fe9-fb82-a1cf4f57adf5"
      },
      "execution_count": 7,
      "outputs": [
        {
          "output_type": "execute_result",
          "data": {
            "text/plain": [
              "<keras.layers.regularization.dropout.Dropout at 0x7fe82d07ffa0>"
            ]
          },
          "metadata": {},
          "execution_count": 7
        }
      ]
    },
    {
      "cell_type": "markdown",
      "source": [
        "# 4-4 배치정규화\n",
        "각 층에서 활성화함수를 통과하기 전 미니배치의 스케일을 정규화한다. 다음 층으로 데이터가 전달되기 전에 스케일을 조정하기 때문에 보다 안정적인 훈련이 가능하고 성능을 크게 향상시킬 수 있다.\n",
        "\n",
        "배치 정규화층은 케라스에서 클래스 함수로 지원하기 때문에 코드를 구현할 필요 없다. model a에서 배치정규화를 적용한 모델을 model b로 지정하여 성능을 비교하자."
      ],
      "metadata": {
        "id": "ZxIqFes2Q7BS"
      }
    },
    {
      "cell_type": "code",
      "source": [
        "model_a = tf.keras.Sequential([\n",
        "    tf.keras.layers.Flatten(input_shape=(28,28)),\n",
        "    tf.keras.layers.Dense(64, activation='relu'),\n",
        "    tf.keras.layers.Dense(32, activation='relu'),\n",
        "    tf.keras.layers.Dense(10, activation='softmax')\n",
        "])"
      ],
      "metadata": {
        "id": "d4x7RMq4RPMD"
      },
      "execution_count": 8,
      "outputs": []
    },
    {
      "cell_type": "code",
      "source": [
        "model_b = tf.keras.Sequential([\n",
        "    tf.keras.layers.Flatten(input_shape=(28,28)),\n",
        "    tf.keras.layers.Dense(64),\n",
        "    tf.keras.layers.BatchNormalization(),\n",
        "    tf.keras.layers.Activation('relu'),\n",
        "    tf.keras.layers.Dense(32),\n",
        "    tf.keras.layers.BatchNormalization(),\n",
        "    tf.keras.layers.Activation('relu'),\n",
        "    tf.keras.layers.Dense(10, activation='softmax')\n",
        "])\n",
        "model_b.summary()"
      ],
      "metadata": {
        "id": "WXG2pJYJRhNa",
        "colab": {
          "base_uri": "https://localhost:8080/"
        },
        "outputId": "253515c9-c198-4aaf-ea5b-4c2af029ff2d"
      },
      "execution_count": 9,
      "outputs": [
        {
          "output_type": "stream",
          "name": "stdout",
          "text": [
            "Model: \"sequential_1\"\n",
            "_________________________________________________________________\n",
            " Layer (type)                Output Shape              Param #   \n",
            "=================================================================\n",
            " flatten_1 (Flatten)         (None, 784)               0         \n",
            "                                                                 \n",
            " dense_8 (Dense)             (None, 64)                50240     \n",
            "                                                                 \n",
            " batch_normalization (BatchN  (None, 64)               256       \n",
            " ormalization)                                                   \n",
            "                                                                 \n",
            " activation (Activation)     (None, 64)                0         \n",
            "                                                                 \n",
            " dense_9 (Dense)             (None, 32)                2080      \n",
            "                                                                 \n",
            " batch_normalization_1 (Batc  (None, 32)               128       \n",
            " hNormalization)                                                 \n",
            "                                                                 \n",
            " activation_1 (Activation)   (None, 32)                0         \n",
            "                                                                 \n",
            " dense_10 (Dense)            (None, 10)                330       \n",
            "                                                                 \n",
            "=================================================================\n",
            "Total params: 53,034\n",
            "Trainable params: 52,842\n",
            "Non-trainable params: 192\n",
            "_________________________________________________________________\n"
          ]
        }
      ]
    },
    {
      "cell_type": "markdown",
      "source": [
        "배치 정규화만 추가하였는데 손실이 안정적으로 빠르게 수렴한다. 데이터 개수가 적은 mnist 손글씨 데이터셋에서는 큰 차이가 없을 수 있으나 더 크고 복잡한 데이터셋에 대해서는 정규화 유무가 성능에 크게 영향을 미치는 경우도 있다."
      ],
      "metadata": {
        "id": "n4FKDZOTSB3G"
      }
    },
    {
      "cell_type": "markdown",
      "source": [
        "# 4-5 활성화 함수\n",
        "이번에는 다른 활성화함수를 적용해보자. 클래스 인스턴스로 선언하여 하이퍼파라미터를 변경하여 적용할 수 있다."
      ],
      "metadata": {
        "id": "NHIVFp4xSMNs"
      }
    },
    {
      "cell_type": "code",
      "source": [
        "tf.keras.layers.LeakyReLU()\n",
        "\n",
        "tf.keras.layers.LeakyReLU(alpha=0.2)"
      ],
      "metadata": {
        "id": "YrAKaP8CSSa3",
        "colab": {
          "base_uri": "https://localhost:8080/"
        },
        "outputId": "edeb5f3c-2e70-4009-9d87-acd1e7d23309"
      },
      "execution_count": 13,
      "outputs": [
        {
          "output_type": "execute_result",
          "data": {
            "text/plain": [
              "<keras.layers.activation.leaky_relu.LeakyReLU at 0x7fe8b659e770>"
            ]
          },
          "metadata": {},
          "execution_count": 13
        }
      ]
    },
    {
      "cell_type": "code",
      "source": [
        "# apply model\n",
        "model_c = tf.keras.Sequential([\n",
        "    tf.keras.layers.Flatten(input_shape=(28,28)),\n",
        "    tf.keras.layers.Dense(64),\n",
        "    #batch normalization\n",
        "    tf.keras.layers.BatchNormalization(),\n",
        "    #leakyRELU\n",
        "    tf.keras.layers.LeakyReLU(alpha=0.2),\n",
        "\n",
        "    tf.keras.layers.Dense(32),\n",
        "    tf.keras.layers.BatchNormalization(),\n",
        "    tf.keras.layers.LeakyReLU(alpha=0.2),\n",
        "    tf.keras.layers.Dense(10, activation='softmax')\n",
        "])\n",
        "\n",
        "model_c.summary()"
      ],
      "metadata": {
        "colab": {
          "base_uri": "https://localhost:8080/"
        },
        "id": "Tj3Dx1am-f0J",
        "outputId": "69a96d31-a9a6-425a-9162-755f9bc05a07"
      },
      "execution_count": 16,
      "outputs": [
        {
          "output_type": "stream",
          "name": "stdout",
          "text": [
            "Model: \"sequential_2\"\n",
            "_________________________________________________________________\n",
            " Layer (type)                Output Shape              Param #   \n",
            "=================================================================\n",
            " flatten_3 (Flatten)         (None, 784)               0         \n",
            "                                                                 \n",
            " dense_12 (Dense)            (None, 64)                50240     \n",
            "                                                                 \n",
            " batch_normalization_2 (Batc  (None, 64)               256       \n",
            " hNormalization)                                                 \n",
            "                                                                 \n",
            " leaky_re_lu_5 (LeakyReLU)   (None, 64)                0         \n",
            "                                                                 \n",
            " dense_13 (Dense)            (None, 32)                2080      \n",
            "                                                                 \n",
            " batch_normalization_3 (Batc  (None, 32)               128       \n",
            " hNormalization)                                                 \n",
            "                                                                 \n",
            " leaky_re_lu_6 (LeakyReLU)   (None, 32)                0         \n",
            "                                                                 \n",
            " dense_14 (Dense)            (None, 10)                330       \n",
            "                                                                 \n",
            "=================================================================\n",
            "Total params: 53,034\n",
            "Trainable params: 52,842\n",
            "Non-trainable params: 192\n",
            "_________________________________________________________________\n"
          ]
        }
      ]
    },
    {
      "cell_type": "markdown",
      "source": [
        "앞에서 생성한 두개의 모델과 렐루 활성화 함수로 변경한 모델까지 세가지의 10번 에폭 훈련 후 수렴속도를 확인한다.\n"
      ],
      "metadata": {
        "id": "uP2xkkdg_Iwg"
      }
    },
    {
      "cell_type": "code",
      "source": [
        "model_a.compile(optimizer='adam', loss='sparse_categorical_crossentropy', metrics=['accuracy'])\n",
        "model_b.compile(optimizer='adam', loss='sparse_categorical_crossentropy', metrics=['accuracy'])\n",
        "model_c.compile(optimizer='adam', loss='sparse_categorical_crossentropy', metrics=['accuracy'])\n",
        "\n",
        "history_a = model_a.fit(x_train, y_train, validation_data=(x_test,y_test), epochs=10)\n",
        "history_b = model_b.fit(x_train, y_train, validation_data=(x_test,y_test), epochs=10)\n",
        "history_c = model_c.fit(x_train, y_train, validation_data=(x_test,y_test), epochs=10)"
      ],
      "metadata": {
        "colab": {
          "base_uri": "https://localhost:8080/"
        },
        "id": "qnWTIzMD_Oh7",
        "outputId": "b45184aa-542d-43fd-ed51-00737de18ca4"
      },
      "execution_count": 17,
      "outputs": [
        {
          "output_type": "stream",
          "name": "stdout",
          "text": [
            "Epoch 1/10\n",
            "1875/1875 [==============================] - 10s 5ms/step - loss: 0.2931 - accuracy: 0.9163 - val_loss: 0.1538 - val_accuracy: 0.9518\n",
            "Epoch 2/10\n",
            "1875/1875 [==============================] - 6s 3ms/step - loss: 0.1333 - accuracy: 0.9603 - val_loss: 0.1134 - val_accuracy: 0.9648\n",
            "Epoch 3/10\n",
            "1875/1875 [==============================] - 6s 3ms/step - loss: 0.0975 - accuracy: 0.9711 - val_loss: 0.1084 - val_accuracy: 0.9675\n",
            "Epoch 4/10\n",
            "1875/1875 [==============================] - 7s 4ms/step - loss: 0.0766 - accuracy: 0.9765 - val_loss: 0.1144 - val_accuracy: 0.9670\n",
            "Epoch 5/10\n",
            "1875/1875 [==============================] - 6s 3ms/step - loss: 0.0640 - accuracy: 0.9809 - val_loss: 0.0910 - val_accuracy: 0.9739\n",
            "Epoch 6/10\n",
            "1875/1875 [==============================] - 7s 4ms/step - loss: 0.0545 - accuracy: 0.9836 - val_loss: 0.0947 - val_accuracy: 0.9734\n",
            "Epoch 7/10\n",
            "1875/1875 [==============================] - 5s 3ms/step - loss: 0.0455 - accuracy: 0.9856 - val_loss: 0.1010 - val_accuracy: 0.9718\n",
            "Epoch 8/10\n",
            "1875/1875 [==============================] - 7s 3ms/step - loss: 0.0415 - accuracy: 0.9865 - val_loss: 0.0993 - val_accuracy: 0.9733\n",
            "Epoch 9/10\n",
            "1875/1875 [==============================] - 6s 3ms/step - loss: 0.0351 - accuracy: 0.9884 - val_loss: 0.0984 - val_accuracy: 0.9737\n",
            "Epoch 10/10\n",
            "1875/1875 [==============================] - 7s 4ms/step - loss: 0.0300 - accuracy: 0.9905 - val_loss: 0.1086 - val_accuracy: 0.9724\n",
            "Epoch 1/10\n",
            "1875/1875 [==============================] - 10s 5ms/step - loss: 0.3242 - accuracy: 0.9103 - val_loss: 0.1322 - val_accuracy: 0.9615\n",
            "Epoch 2/10\n",
            "1875/1875 [==============================] - 8s 4ms/step - loss: 0.1404 - accuracy: 0.9574 - val_loss: 0.1166 - val_accuracy: 0.9647\n",
            "Epoch 3/10\n",
            "1875/1875 [==============================] - 7s 4ms/step - loss: 0.1119 - accuracy: 0.9657 - val_loss: 0.0893 - val_accuracy: 0.9731\n",
            "Epoch 4/10\n",
            "1875/1875 [==============================] - 8s 4ms/step - loss: 0.0965 - accuracy: 0.9700 - val_loss: 0.0895 - val_accuracy: 0.9731\n",
            "Epoch 5/10\n",
            "1875/1875 [==============================] - 7s 4ms/step - loss: 0.0816 - accuracy: 0.9743 - val_loss: 0.0878 - val_accuracy: 0.9727\n",
            "Epoch 6/10\n",
            "1875/1875 [==============================] - 9s 5ms/step - loss: 0.0742 - accuracy: 0.9761 - val_loss: 0.0849 - val_accuracy: 0.9750\n",
            "Epoch 7/10\n",
            "1875/1875 [==============================] - 8s 4ms/step - loss: 0.0667 - accuracy: 0.9777 - val_loss: 0.0748 - val_accuracy: 0.9764\n",
            "Epoch 8/10\n",
            "1875/1875 [==============================] - 7s 4ms/step - loss: 0.0603 - accuracy: 0.9798 - val_loss: 0.0818 - val_accuracy: 0.9737\n",
            "Epoch 9/10\n",
            "1875/1875 [==============================] - 8s 4ms/step - loss: 0.0587 - accuracy: 0.9805 - val_loss: 0.0753 - val_accuracy: 0.9757\n",
            "Epoch 10/10\n",
            "1875/1875 [==============================] - 8s 5ms/step - loss: 0.0527 - accuracy: 0.9825 - val_loss: 0.0869 - val_accuracy: 0.9749\n",
            "Epoch 1/10\n",
            "1875/1875 [==============================] - 10s 5ms/step - loss: 0.3303 - accuracy: 0.9089 - val_loss: 0.1438 - val_accuracy: 0.9559\n",
            "Epoch 2/10\n",
            "1875/1875 [==============================] - 7s 4ms/step - loss: 0.1611 - accuracy: 0.9515 - val_loss: 0.1084 - val_accuracy: 0.9674\n",
            "Epoch 3/10\n",
            "1875/1875 [==============================] - 8s 4ms/step - loss: 0.1271 - accuracy: 0.9602 - val_loss: 0.1072 - val_accuracy: 0.9665\n",
            "Epoch 4/10\n",
            "1875/1875 [==============================] - 7s 4ms/step - loss: 0.1075 - accuracy: 0.9661 - val_loss: 0.1013 - val_accuracy: 0.9690\n",
            "Epoch 5/10\n",
            "1875/1875 [==============================] - 8s 4ms/step - loss: 0.0968 - accuracy: 0.9695 - val_loss: 0.0981 - val_accuracy: 0.9709\n",
            "Epoch 6/10\n",
            "1875/1875 [==============================] - 7s 4ms/step - loss: 0.0870 - accuracy: 0.9720 - val_loss: 0.0875 - val_accuracy: 0.9730\n",
            "Epoch 7/10\n",
            "1875/1875 [==============================] - 7s 4ms/step - loss: 0.0763 - accuracy: 0.9750 - val_loss: 0.0919 - val_accuracy: 0.9724\n",
            "Epoch 8/10\n",
            "1875/1875 [==============================] - 8s 4ms/step - loss: 0.0742 - accuracy: 0.9757 - val_loss: 0.0960 - val_accuracy: 0.9722\n",
            "Epoch 9/10\n",
            "1875/1875 [==============================] - 7s 4ms/step - loss: 0.0713 - accuracy: 0.9765 - val_loss: 0.0937 - val_accuracy: 0.9711\n",
            "Epoch 10/10\n",
            "1875/1875 [==============================] - 8s 4ms/step - loss: 0.0646 - accuracy: 0.9794 - val_loss: 0.0865 - val_accuracy: 0.9723\n"
          ]
        }
      ]
    },
    {
      "cell_type": "code",
      "source": [
        "# visualize result\n",
        "import matplotlib.pyplot as plt\n",
        "import numpy as np\n",
        "\n",
        "plt.figure(figsize=(12,9))\n",
        "plt.plot(np.arange(1,11), history_a.history['val_loss'], color='navy', linestyle='dotted')\n",
        "plt.plot(np.arange(1,11), history_b.history['val_loss'], color='tomato', linestyle='-.')\n",
        "plt.plot(np.arange(1,11), history_c.history['val_loss'], color='green', linestyle='-')\n",
        "\n",
        "plt.title('losses', fontsize=20)\n",
        "plt.xlabel('epochs')\n",
        "plt.ylabel('Losses')\n",
        "plt.legend(['RELU','BatchNormal_Relu','batchnormal+leakyrelu'], fontsize=12)\n",
        "plt.show()"
      ],
      "metadata": {
        "colab": {
          "base_uri": "https://localhost:8080/",
          "height": 591
        },
        "id": "91VYsr8J_qqp",
        "outputId": "cf4a38c0-5cbf-4f0c-f893-71f753f79b88"
      },
      "execution_count": 21,
      "outputs": [
        {
          "output_type": "display_data",
          "data": {
            "text/plain": [
              "<Figure size 1200x900 with 1 Axes>"
            ],
            "image/png": "[encoded data removed]"
          },
          "metadata": {}
        }
      ]
    },
    {
      "cell_type": "markdown",
      "source": [
        "mnist데이터셋은 모델별 차이가 크진 않으나 복잡한 데이터셋에서는 훈련추이를 다르게 볼 수 있다."
      ],
      "metadata": {
        "id": "VOK1tpFwAWQq"
      }
    },
    {
      "cell_type": "markdown",
      "source": [
        "# 06 모델 저장 및 불러오기\n",
        "예제 실습을 위해 mnist 데이터셋을 불러오고 신경망 모델을 활용하여 모델훈령르 먼저 완료한다"
      ],
      "metadata": {
        "id": "vgpr1WvcAgEK"
      }
    },
    {
      "cell_type": "markdown",
      "source": [
        "## 6-1 모델을 파일로 저장\n",
        "훈련을 종료하여 가중치가 업데이트 된 모델 인스턴스를 저장할 수 있다. save 메소드를 사용하는데, save메소드를 호출할 때 저장할 파일의 디렉토리를 포함하는 파일명을 ㅐ매개변수로 지정한다. 모델을 저장하는 형식은 hdf5 포맷과 save model 두가지가 있따.\n",
        "\n",
        "모델을 저장할 파일명이 h5 확장자를 포함하는 경우는 이 포멧으로 저장한다. 이는 대용량의 데이터를 저장하기 위한 파일 형식이다."
      ],
      "metadata": {
        "id": "ECn6rJ6pEgru"
      }
    },
    {
      "cell_type": "code",
      "source": [
        "model_a.save('h5-model.h5')"
      ],
      "metadata": {
        "id": "UNJ1fz3_Atlt"
      },
      "execution_count": 23,
      "outputs": []
    },
    {
      "cell_type": "markdown",
      "source": [
        "## 5-2 저장된 모델 복원"
      ],
      "metadata": {
        "id": "VAOr4SIVE4oP"
      }
    },
    {
      "cell_type": "code",
      "source": [
        "h5_model = tf.keras.models.load_model('h5-model.h5')\n",
        "h5_model.summary()"
      ],
      "metadata": {
        "colab": {
          "base_uri": "https://localhost:8080/"
        },
        "id": "qHdFk9yHE6x_",
        "outputId": "fe5a2bf2-cdac-4401-f42f-b8be4608161c"
      },
      "execution_count": 24,
      "outputs": [
        {
          "output_type": "stream",
          "name": "stdout",
          "text": [
            "Model: \"sequential\"\n",
            "_________________________________________________________________\n",
            " Layer (type)                Output Shape              Param #   \n",
            "=================================================================\n",
            " flatten (Flatten)           (None, 784)               0         \n",
            "                                                                 \n",
            " dense_5 (Dense)             (None, 64)                50240     \n",
            "                                                                 \n",
            " dense_6 (Dense)             (None, 32)                2080      \n",
            "                                                                 \n",
            " dense_7 (Dense)             (None, 10)                330       \n",
            "                                                                 \n",
            "=================================================================\n",
            "Total params: 52,650\n",
            "Trainable params: 52,650\n",
            "Non-trainable params: 0\n",
            "_________________________________________________________________\n"
          ]
        }
      ]
    },
    {
      "cell_type": "markdown",
      "source": [
        "복원한 모델을 검증하여 복원이 잘 되어있는지 확인한다.evaluate 함수에 대입해 손실 함수와 평가지표를 계산한다."
      ],
      "metadata": {
        "id": "PDXa8wV4FEkk"
      }
    },
    {
      "cell_type": "code",
      "source": [
        "loss, acc = h5_model.evaluate(x_test, y_test, verbose=0)\n",
        "print(f'h5 model] loss:{loss:5f}, acc:{acc:5f}')\n"
      ],
      "metadata": {
        "colab": {
          "base_uri": "https://localhost:8080/"
        },
        "id": "2vugYsteFI4U",
        "outputId": "38e6ff2f-4bd8-4e80-f51f-a2d1bda84433"
      },
      "execution_count": 27,
      "outputs": [
        {
          "output_type": "stream",
          "name": "stdout",
          "text": [
            "h5 model] loss:0.108558, acc:0.972400\n"
          ]
        }
      ]
    },
    {
      "cell_type": "markdown",
      "source": [
        "h5 확장자 생략시 savedmodle 포맷으로 저장되며 이 포맷으로 저장되도 복원시 hdf5와 동일하게 하면 된다."
      ],
      "metadata": {
        "id": "aFBDKaWVFVgv"
      }
    },
    {
      "cell_type": "code",
      "source": [
        "model_a.save('saved-model')"
      ],
      "metadata": {
        "colab": {
          "base_uri": "https://localhost:8080/"
        },
        "id": "IAcG3afFFbaE",
        "outputId": "fe2581d8-b6f5-4a92-9b63-5db3620efcc2"
      },
      "execution_count": 28,
      "outputs": [
        {
          "output_type": "stream",
          "name": "stderr",
          "text": [
            "WARNING:absl:Found untraced functions such as _update_step_xla while saving (showing 1 of 1). These functions will not be directly callable after loading.\n"
          ]
        }
      ]
    },
    {
      "cell_type": "code",
      "source": [
        "# check summary\n",
        "saved_model = tf.keras.models.load_model('saved-model')\n",
        "saved_model.summary()"
      ],
      "metadata": {
        "colab": {
          "base_uri": "https://localhost:8080/"
        },
        "id": "QkAgjOYJFjh7",
        "outputId": "1e2d62d3-4ad5-46c4-f62c-b904b1e83e48"
      },
      "execution_count": 29,
      "outputs": [
        {
          "output_type": "stream",
          "name": "stdout",
          "text": [
            "Model: \"sequential\"\n",
            "_________________________________________________________________\n",
            " Layer (type)                Output Shape              Param #   \n",
            "=================================================================\n",
            " flatten (Flatten)           (None, 784)               0         \n",
            "                                                                 \n",
            " dense_5 (Dense)             (None, 64)                50240     \n",
            "                                                                 \n",
            " dense_6 (Dense)             (None, 32)                2080      \n",
            "                                                                 \n",
            " dense_7 (Dense)             (None, 10)                330       \n",
            "                                                                 \n",
            "=================================================================\n",
            "Total params: 52,650\n",
            "Trainable params: 52,650\n",
            "Non-trainable params: 0\n",
            "_________________________________________________________________\n"
          ]
        }
      ]
    },
    {
      "cell_type": "code",
      "source": [
        "# same ability as hdf5\n",
        "loss, acc = h5_model.evaluate(x_test, y_test, verbose=0)\n",
        "print(f'h5 model] loss: {loss:5f}, acc:{acc:5f}')\n",
        "\n",
        "# evaluate model\n",
        "loss, acc = saved_model.evaluate(x_test, y_test, verbose=0)\n",
        "print(f'saved_model] loss: {loss:5f}, acc:{acc:5f}')\n"
      ],
      "metadata": {
        "colab": {
          "base_uri": "https://localhost:8080/"
        },
        "id": "pWh42OGnFsKG",
        "outputId": "8b5f7a7f-20c7-4375-de5d-0d3f64bdd8db"
      },
      "execution_count": 30,
      "outputs": [
        {
          "output_type": "stream",
          "name": "stdout",
          "text": [
            "h5 model] loss: 0.108558, acc:0.972400\n",
            "saved_model] loss: 0.108558, acc:0.972400\n"
          ]
        }
      ]
    },
    {
      "cell_type": "markdown",
      "source": [
        "# 07 복잡한 모델 생성\n",
        "## 7-1 함수형 APO\n",
        "함수 형태로 딥러닝 모델을 정의하면 다양한 모델 구조를 구현할 수 있다. 입력 매개변수를 여러개 갖는 다중입력, 다중출력, 같은 레벨에 여러 층을 ㅐㅂ치하여 입력과 출력을 공유하는 구조도 가능하다\n",
        "\n",
        "한편 sequential 은 단방향만 허용하는 것으로, 특정 레이어를 건너뛰거나 병합 분리하는 등의 구조 모델을 구현할 수 없다.\n",
        "\n",
        "기존 sequential mnist 분류기를 함수형 api로 다시 구현해보자"
      ],
      "metadata": {
        "id": "wHAL6pEGFrZd"
      }
    },
    {
      "cell_type": "markdown",
      "source": [
        "함수형 api를 사용하기 위해서는 먼저 input 레이어를 정의하고 shape을정의한다. 레이어마다 반환되는 출력값을 변수에 저장한 뒤 다음 레이어의 입력을 연결한다. 이렇게 여러 레이어를 체인구조로 입출력을 연결한다."
      ],
      "metadata": {
        "id": "m0fg6dKfFiMn"
      }
    },
    {
      "cell_type": "code",
      "source": [
        "input_layer = tf.keras.Input(shape=(28,28), name='InputLayer')\n",
        "\n",
        "x1=tf.keras.layers.Flatten(name='Flatten')(input_layer)\n",
        "x2=tf.keras.layers.Dense(256, activation='relu', name='Dense1')(x1)\n",
        "x3=tf.keras.layers.Dense(64, activation='relu', name='Dense2')(x2)\n",
        "x4=tf.keras.layers.Dense(10, activation='softmax', name='OutputLayer')(x3)\n"
      ],
      "metadata": {
        "id": "C_MhYRLIGs1S"
      },
      "execution_count": 31,
      "outputs": []
    },
    {
      "cell_type": "markdown",
      "source": [
        "레이어마다 name 매개변수로 이름을 부여한 것은 summary에서 ㅎ함께 ㅜㅊㄹ력된다 이렇게 연결된 후 tf,keras,model()에 입력레이어와 출력 레이어를 정의해 모델을 생성한다."
      ],
      "metadata": {
        "id": "XG5cXU2WHJhH"
      }
    },
    {
      "cell_type": "code",
      "source": [
        "func_model = tf.keras.Model(inputs=input_layer, outputs=x4, name='FunctionalModel')\n",
        "\n",
        "func_model.summary()"
      ],
      "metadata": {
        "colab": {
          "base_uri": "https://localhost:8080/"
        },
        "id": "6CQQx_cuHTwv",
        "outputId": "b94780bf-8c2f-4b36-8fc2-6d127eb58803"
      },
      "execution_count": 36,
      "outputs": [
        {
          "output_type": "stream",
          "name": "stdout",
          "text": [
            "Model: \"FunctionalModel\"\n",
            "_________________________________________________________________\n",
            " Layer (type)                Output Shape              Param #   \n",
            "=================================================================\n",
            " InputLayer (InputLayer)     [(None, 28, 28)]          0         \n",
            "                                                                 \n",
            " Flatten (Flatten)           (None, 784)               0         \n",
            "                                                                 \n",
            " Dense1 (Dense)              (None, 256)               200960    \n",
            "                                                                 \n",
            " Dense2 (Dense)              (None, 64)                16448     \n",
            "                                                                 \n",
            " OutputLayer (Dense)         (None, 10)                650       \n",
            "                                                                 \n",
            "=================================================================\n",
            "Total params: 218,058\n",
            "Trainable params: 218,058\n",
            "Non-trainable params: 0\n",
            "_________________________________________________________________\n"
          ]
        }
      ]
    },
    {
      "cell_type": "markdown",
      "source": [
        "tf kears model에 input 매개변수로 입력층 이름을, Ouput매개변수에 마지막애를 생성하고 모델 인스턴스 생성시 name 매개변수에 이름을 지정하면 summary에 이름이 출력된다.\n",
        "\n",
        "summary로 구조시각화가 어려운 모델의 경우 케라스 유틸패키지의 plot model을 이용한다"
      ],
      "metadata": {
        "id": "MwRZ3d6fHc81"
      }
    },
    {
      "cell_type": "code",
      "source": [
        "from tensorflow.keras.utils import plot_model\n",
        "\n",
        "plot_model(func_model, show_shapes=True, show_layer_names=True, to_file='model.png')"
      ],
      "metadata": {
        "colab": {
          "base_uri": "https://localhost:8080/",
          "height": 533
        },
        "id": "Sm6_hbG9HnhU",
        "outputId": "2ad51156-98e4-4d13-aa6b-467c1755f106"
      },
      "execution_count": 39,
      "outputs": [
        {
          "output_type": "execute_result",
          "data": {
            "image/png": "[encoded data removed]",
            "text/plain": [
              "<IPython.core.display.Image object>"
            ]
          },
          "metadata": {},
          "execution_count": 39
        }
      ]
    },
    {
      "cell_type": "markdown",
      "source": [
        "모양을 보여줄지 층 이름을 보여줄지 여부를 선택 가능하며 이미지 파일로 저장할 수 있다.\n",
        "\n",
        "함수형 api로 생성한 모델도 시퀀셜과 동일하게 훈련할 수 있다. 컴파일하고 fit으로 훈련한다. evaluate로 검증할 수 잇다."
      ],
      "metadata": {
        "id": "Okufig3kH4Mw"
      }
    },
    {
      "cell_type": "code",
      "source": [
        "func_model.compile(optimizer='adam', loss='sparse_categorical_crossentropy', metrics=['accuracy'])\n",
        "\n",
        "func_model.fit(x_train, y_train, epochs=3)\n",
        "\n",
        "loss, acc= func_model.evaluate(x_test, y_test, verbose=0)\n",
        "print(f'Functional Model] loss: {loss:5f}, acc: {acc:5f}')\n"
      ],
      "metadata": {
        "colab": {
          "base_uri": "https://localhost:8080/"
        },
        "id": "54mG80i1IGUg",
        "outputId": "ed98efef-fd67-42c1-c1df-2caac9dddb2d"
      },
      "execution_count": 41,
      "outputs": [
        {
          "output_type": "stream",
          "name": "stdout",
          "text": [
            "Epoch 1/3\n",
            "1875/1875 [==============================] - 12s 6ms/step - loss: 0.2104 - accuracy: 0.9371\n",
            "Epoch 2/3\n",
            "1875/1875 [==============================] - 11s 6ms/step - loss: 0.0878 - accuracy: 0.9730\n",
            "Epoch 3/3\n",
            "1875/1875 [==============================] - 12s 7ms/step - loss: 0.0593 - accuracy: 0.9811\n",
            "Functional Model] loss: 0.080225, acc: 0.975400\n"
          ]
        }
      ]
    },
    {
      "cell_type": "markdown",
      "source": [
        "## 7-2 모델 서브클래싱\n",
        "\n",
        "모델 클래스를 제공하고 이를 기반으로 딥러닝 모델을 구현한다. 상속받아 서브클래스로 딥러닝 모델을 생성할 수도 있다.\n",
        "\n",
        "tf.keras.model을 상속받아 모델 클래스를 구현한다. init 함수에 레이어를 정의하고 레이어의 하아피파라미터를 정의한다"
      ],
      "metadata": {
        "id": "B0yXaeZJIgS8"
      }
    },
    {
      "cell_type": "code",
      "source": [
        "class MyModel(tf.keras.Model):\n",
        "  def __init__(self):\n",
        "    super(MyModel, self).__init__()\n",
        "    #초기값 설정\n",
        "    self.flatten=tf.keras.layers.Flatten()\n",
        "    self.dense1=tf.keras.layers.Dense(256, activation='relu')\n",
        "    self.dense2=tf.keras.layers.Dense(64, activation='relu')\n",
        "    self.dense3=tf.keras.layers.Dense(10, activation='softmax')\n",
        "\n",
        "  #method overiding\n",
        "  #훈련용 함수 정의\n",
        "  #x는 input\n",
        "  def call(self, x):\n",
        "    x=self.flatten(x)\n",
        "    x=self.dense1(x)\n",
        "    x=self.dense2(x)\n",
        "    x=self.dense3(x)\n",
        "    return x"
      ],
      "metadata": {
        "id": "Bj8iZkQbIxRq"
      },
      "execution_count": 49,
      "outputs": []
    },
    {
      "cell_type": "markdown",
      "source": [
        "콜 함수를 메소드 오버라이딩으로 구현한다. call은 fit이 호출되어 훈련하는 경우 호출되는 함수로 내부에서 모델의입력부터 출력까지의 흐름, 순전파를 정의하고 함ㅅ형 api와 같은 방식ㅇ로 모든 레이어를 체인처럼 연결한다. 마지막으로 최종 출력값을 return한다\n"
      ],
      "metadata": {
        "id": "g443J-maJWtd"
      }
    },
    {
      "cell_type": "code",
      "source": [
        "mymodel = MyModel()\n",
        "mymodel._name='subclass_model'\n",
        "mymodel(tf.keras.layers.Input(shape=(28, 28)))\n",
        "mymodel.summary()"
      ],
      "metadata": {
        "colab": {
          "base_uri": "https://localhost:8080/"
        },
        "id": "m48iCLgdJisO",
        "outputId": "d692d521-f38e-4647-e59e-8c6c97f04344"
      },
      "execution_count": 52,
      "outputs": [
        {
          "output_type": "stream",
          "name": "stdout",
          "text": [
            "Model: \"subclass_model\"\n",
            "_________________________________________________________________\n",
            " Layer (type)                Output Shape              Param #   \n",
            "=================================================================\n",
            " flatten_8 (Flatten)         multiple                  0         \n",
            "                                                                 \n",
            " dense_24 (Dense)            multiple                  200960    \n",
            "                                                                 \n",
            " dense_25 (Dense)            multiple                  16448     \n",
            "                                                                 \n",
            " dense_26 (Dense)            multiple                  650       \n",
            "                                                                 \n",
            "=================================================================\n",
            "Total params: 218,058\n",
            "Trainable params: 218,058\n",
            "Non-trainable params: 0\n",
            "_________________________________________________________________\n"
          ]
        }
      ]
    },
    {
      "cell_type": "markdown",
      "source": [
        "tfkeras model을 상속받아 구현한 모델인 마이모데을 생성자로 인스턴스를 생성한다. 모델에 이름을 부여하고 싶다면 모델의 인스턴스의 name에 이름을 지정한다. 생성자로 객체를 새엇ㅇ해 저장한 마이모ㅓ델 변수에 바로 서머리로 요약 출력하는 것은 어렵다. input shape이 정의되지 않았기때문에 전체모델의 구조를 생서하지 못하기 때문이다. mymodel의 input레이어와 함께 shape을 정의해주면 summary로 모델의 요약을 확인할 수 있다."
      ],
      "metadata": {
        "id": "6-C3M7-CJwlJ"
      }
    },
    {
      "cell_type": "code",
      "source": [
        "mymodel.compile(optimizer='adam', loss='sparse_categorical_crossentropy', metrics=['accuracy'])\n",
        "\n",
        "mymodel.fit(x_train, y_train, epochs=3)\n",
        "loss, acc = mymodel.evaluate(x_test, y_test, verbose=0)\n",
        "print(f'subclassing model] loss:{loss:5f}, acc:{acc:5f}')"
      ],
      "metadata": {
        "colab": {
          "base_uri": "https://localhost:8080/"
        },
        "id": "YW3DRigaKC4c",
        "outputId": "849c53af-a0da-426e-e493-cb9161807ef1"
      },
      "execution_count": 56,
      "outputs": [
        {
          "output_type": "stream",
          "name": "stdout",
          "text": [
            "Epoch 1/3\n",
            "1875/1875 [==============================] - 17s 8ms/step - loss: 0.0492 - accuracy: 0.9840\n",
            "Epoch 2/3\n",
            "1875/1875 [==============================] - 13s 7ms/step - loss: 0.0351 - accuracy: 0.9884\n",
            "Epoch 3/3\n",
            "1875/1875 [==============================] - 11s 6ms/step - loss: 0.0284 - accuracy: 0.9907\n",
            "subclassing model] loss:0.068066, acc:0.981500\n"
          ]
        }
      ]
    },
    {
      "cell_type": "markdown",
      "source": [
        "모델 서브클래싱으로 생성된 모델의 훈련도 동일하게 컴파일 후 핏으로 훈련한다. 물론 평가메소도를 성능검증도 가능하나 모델 생성 방식에 차이가 있을 뿐이다.\n",
        "\n",
        "## 7-3 서브클래싱 모델 파라미터를 활용한 생성\n",
        "\n",
        "생성자 파라미터로 모델내부 하이퍼파라미터를 지정할 ㅜ수 있다. 다음은 모데의 생성자파라미터를 추가하여 동적으로 레이어의 유닛 개수를 초기화하는 예제이다."
      ],
      "metadata": {
        "id": "vLeNGFPoKYYh"
      }
    },
    {
      "cell_type": "code",
      "source": [
        "class Mymodel(tf.keras.Model):\n",
        "  def __init__(self, units, num_classes):\n",
        "    super(Mymodel, self).__init__()\n",
        "    self.flatten=tf.keras.layers.Flatten()\n",
        "    self.dense1=tf.keras.layers.Dense(units, activation='relu')\n",
        "    self.dense2=tf.keras.layers.Dense(units/4, activation='relu')\n",
        "    self.dense3=tf.keras.layers.Dense(num_classes, activation='softmax')\n",
        "\n",
        "  def call(self,x):\n",
        "    x = self.flatten(x)\n",
        "    x = self.dense1(x)\n",
        "    x = self.dense2(x)\n",
        "    x = self.dense3(x)\n",
        "    return x"
      ],
      "metadata": {
        "id": "V1PSMG2WKwJv"
      },
      "execution_count": 58,
      "outputs": []
    },
    {
      "cell_type": "code",
      "source": [
        "mymodel = Mymodel(256,10)\n",
        "mymodel(tf.keras.layers.Input(shape=(28,28)))\n",
        "mymodel.summary()"
      ],
      "metadata": {
        "colab": {
          "base_uri": "https://localhost:8080/"
        },
        "id": "VcSMBTO_TZHF",
        "outputId": "5b539453-e3db-40e3-9112-a1a9b739c12f"
      },
      "execution_count": 59,
      "outputs": [
        {
          "output_type": "stream",
          "name": "stdout",
          "text": [
            "Model: \"mymodel_4\"\n",
            "_________________________________________________________________\n",
            " Layer (type)                Output Shape              Param #   \n",
            "=================================================================\n",
            " flatten_9 (Flatten)         multiple                  0         \n",
            "                                                                 \n",
            " dense_27 (Dense)            multiple                  200960    \n",
            "                                                                 \n",
            " dense_28 (Dense)            multiple                  16448     \n",
            "                                                                 \n",
            " dense_29 (Dense)            multiple                  650       \n",
            "                                                                 \n",
            "=================================================================\n",
            "Total params: 218,058\n",
            "Trainable params: 218,058\n",
            "Non-trainable params: 0\n",
            "_________________________________________________________________\n"
          ]
        }
      ]
    },
    {
      "cell_type": "code",
      "source": [
        "# 생성자 파라미터로 초기화하여 생성한 모델에 summary로 요약한 결과를 확인\n",
        "# 동적으로 설정한 레이어의 파라미터가 초기화되었음을 확인 가능\n",
        "mymodel.compile(optimizer='adam', loss='sparse_categorical_crossentropy', metrics=['accuracy'])\n",
        "mymodel.fit(x_train, y_train, epochs=3)\n",
        "loss, acc = mymodel.evaluate(x_test, y_test, verbose=0)\n",
        "print(f'subclassing model w.parameters] loss: {loss:5f}, acc:{acc:5f}')"
      ],
      "metadata": {
        "colab": {
          "base_uri": "https://localhost:8080/"
        },
        "id": "og-FZGHPTjPK",
        "outputId": "c5be5bba-c7a7-419e-bd79-01dc512a3b2b"
      },
      "execution_count": 61,
      "outputs": [
        {
          "output_type": "stream",
          "name": "stdout",
          "text": [
            "Epoch 1/3\n",
            "1875/1875 [==============================] - 14s 6ms/step - loss: 0.2164 - accuracy: 0.9355\n",
            "Epoch 2/3\n",
            "1875/1875 [==============================] - 9s 5ms/step - loss: 0.0878 - accuracy: 0.9733\n",
            "Epoch 3/3\n",
            "1875/1875 [==============================] - 10s 5ms/step - loss: 0.0608 - accuracy: 0.9804\n",
            "subclassing model w.parameters] loss: 0.082133, acc:0.973700\n"
          ]
        }
      ]
    },
    {
      "cell_type": "markdown",
      "source": [
        "동일하게 컴파일 메소드로 컴파일 후 핏으로 훈련하면 성능검증이 가능하다."
      ],
      "metadata": {
        "id": "5xqhIz2nUNZU"
      }
    }
  ]
}