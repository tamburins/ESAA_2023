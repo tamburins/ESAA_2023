{
  "nbformat": 4,
  "nbformat_minor": 0,
  "metadata": {
    "colab": {
      "provenance": [],
      "mount_file_id": "1176PiGz0B1Dwm0zcED3DPPW78nEuWpmF",
      "authorship_tag": "ABX9TyOTjBaUMTQgNuTTmThKyOVX",
      "include_colab_link": true
    },
    "kernelspec": {
      "name": "python3",
      "display_name": "Python 3"
    },
    "language_info": {
      "name": "python"
    }
  },
  "cells": [
    {
      "cell_type": "markdown",
      "metadata": {
        "id": "view-in-github",
        "colab_type": "text"
      },
      "source": [
        "<a href=\"https://colab.research.google.com/github/tamburins/ESAA_2023/blob/main/ESAA_5_19(591_624).ipynb\" target=\"_parent\"><img src=\"https://colab.research.google.com/assets/colab-badge.svg\" alt=\"Open In Colab\"/></a>"
      ]
    },
    {
      "cell_type": "markdown",
      "source": [
        "https://grouplens.org/datasets/movielens/latesu/"
      ],
      "metadata": {
        "id": "itLXVfl2QBdp"
      }
    },
    {
      "cell_type": "markdown",
      "source": [
        "## 06 아이템 기반 최근접 이웃 협업 필터링 실습\n",
        "\n",
        "최근접 이웃 협업 필터링은 사용자기반, 아이템기반으로 분류되며 일반적으로 추천정확도가 높은 아이템 기반의 협업필터링을 구현해보자. 사용자가 영화의 평점을 매긴 사용자-영화 평점 행렬 데이터세트를 다운하자.\n",
        "\n",
        "### 데이터 가공 및 변환\n"
      ],
      "metadata": {
        "id": "s9OALatvPumK"
      }
    },
    {
      "cell_type": "code",
      "execution_count": 6,
      "metadata": {
        "id": "KViANoH0Ld1I",
        "colab": {
          "base_uri": "https://localhost:8080/"
        },
        "outputId": "3241fef5-ad91-4435-95fb-643ce6bd6fe8"
      },
      "outputs": [
        {
          "output_type": "stream",
          "name": "stdout",
          "text": [
            "(9742, 3)\n",
            "(100836, 4)\n"
          ]
        }
      ],
      "source": [
        "import pandas as pd\n",
        "import numpy as np\n",
        "\n",
        "movies = pd.read_csv('/content/drive/MyDrive/ESAA/OB/movies.csv')\n",
        "ratings = pd.read_csv('/content/drive/MyDrive/ESAA/OB/ratings.csv')\n",
        "print(movies.shape)\n",
        "print(ratings.shape)"
      ]
    },
    {
      "cell_type": "markdown",
      "source": [
        "rating 파일은 사용자별 영화에 대해 평점을 매긴 데이터로 사용자아이디, 영화이아이디, 평점인 칼럼으로 구성된다. \n",
        "\n",
        "협업필터링은 이 rating_Csv 데이터 세트와 같이 사용자와 아이템간의 평점에 기반해 추천해주는 시스템으로 아이템 기반의 최근접 이웃 협업 필터ㅣㄹㅇ을 구현해보자. 먼저 행 레벨 형태의 원본데이터세트를 행별로 사용자가 들어가며 열별로 영화가 들어가게 해보자. 피봇테이블 함수를 이용한다.\n",
        "\n"
      ],
      "metadata": {
        "id": "k2jnkcAtPuTf"
      }
    },
    {
      "cell_type": "code",
      "source": [
        "ratings = ratings[['userId', 'movieId', 'rating']]\n",
        "ratings_matrix = ratings.pivot_table('rating', index='userId', columns='movieId')\n",
        "ratings_matrix.head(3)"
      ],
      "metadata": {
        "id": "VWV_z6E5QyBv",
        "colab": {
          "base_uri": "https://localhost:8080/",
          "height": 268
        },
        "outputId": "d37d70df-e0fd-4696-960b-8664c68aabfc"
      },
      "execution_count": 7,
      "outputs": [
        {
          "output_type": "execute_result",
          "data": {
            "text/plain": [
              "movieId  1       2       3       4       5       6       7       8       \\\n",
              "userId                                                                    \n",
              "1           4.0     NaN     4.0     NaN     NaN     4.0     NaN     NaN   \n",
              "2           NaN     NaN     NaN     NaN     NaN     NaN     NaN     NaN   \n",
              "3           NaN     NaN     NaN     NaN     NaN     NaN     NaN     NaN   \n",
              "\n",
              "movieId  9       10      ...  193565  193567  193571  193573  193579  193581  \\\n",
              "userId                   ...                                                   \n",
              "1           NaN     NaN  ...     NaN     NaN     NaN     NaN     NaN     NaN   \n",
              "2           NaN     NaN  ...     NaN     NaN     NaN     NaN     NaN     NaN   \n",
              "3           NaN     NaN  ...     NaN     NaN     NaN     NaN     NaN     NaN   \n",
              "\n",
              "movieId  193583  193585  193587  193609  \n",
              "userId                                   \n",
              "1           NaN     NaN     NaN     NaN  \n",
              "2           NaN     NaN     NaN     NaN  \n",
              "3           NaN     NaN     NaN     NaN  \n",
              "\n",
              "[3 rows x 9724 columns]"
            ],
            "text/html": [
              "\n",
              "  <div id=\"df-af631cdc-a57f-4f8f-8e36-1fae08e7c738\">\n",
              "    <div class=\"colab-df-container\">\n",
              "      <div>\n",
              "<style scoped>\n",
              "    .dataframe tbody tr th:only-of-type {\n",
              "        vertical-align: middle;\n",
              "    }\n",
              "\n",
              "    .dataframe tbody tr th {\n",
              "        vertical-align: top;\n",
              "    }\n",
              "\n",
              "    .dataframe thead th {\n",
              "        text-align: right;\n",
              "    }\n",
              "</style>\n",
              "<table border=\"1\" class=\"dataframe\">\n",
              "  <thead>\n",
              "    <tr style=\"text-align: right;\">\n",
              "      <th>movieId</th>\n",
              "      <th>1</th>\n",
              "      <th>2</th>\n",
              "      <th>3</th>\n",
              "      <th>4</th>\n",
              "      <th>5</th>\n",
              "      <th>6</th>\n",
              "      <th>7</th>\n",
              "      <th>8</th>\n",
              "      <th>9</th>\n",
              "      <th>10</th>\n",
              "      <th>...</th>\n",
              "      <th>193565</th>\n",
              "      <th>193567</th>\n",
              "      <th>193571</th>\n",
              "      <th>193573</th>\n",
              "      <th>193579</th>\n",
              "      <th>193581</th>\n",
              "      <th>193583</th>\n",
              "      <th>193585</th>\n",
              "      <th>193587</th>\n",
              "      <th>193609</th>\n",
              "    </tr>\n",
              "    <tr>\n",
              "      <th>userId</th>\n",
              "      <th></th>\n",
              "      <th></th>\n",
              "      <th></th>\n",
              "      <th></th>\n",
              "      <th></th>\n",
              "      <th></th>\n",
              "      <th></th>\n",
              "      <th></th>\n",
              "      <th></th>\n",
              "      <th></th>\n",
              "      <th></th>\n",
              "      <th></th>\n",
              "      <th></th>\n",
              "      <th></th>\n",
              "      <th></th>\n",
              "      <th></th>\n",
              "      <th></th>\n",
              "      <th></th>\n",
              "      <th></th>\n",
              "      <th></th>\n",
              "      <th></th>\n",
              "    </tr>\n",
              "  </thead>\n",
              "  <tbody>\n",
              "    <tr>\n",
              "      <th>1</th>\n",
              "      <td>4.0</td>\n",
              "      <td>NaN</td>\n",
              "      <td>4.0</td>\n",
              "      <td>NaN</td>\n",
              "      <td>NaN</td>\n",
              "      <td>4.0</td>\n",
              "      <td>NaN</td>\n",
              "      <td>NaN</td>\n",
              "      <td>NaN</td>\n",
              "      <td>NaN</td>\n",
              "      <td>...</td>\n",
              "      <td>NaN</td>\n",
              "      <td>NaN</td>\n",
              "      <td>NaN</td>\n",
              "      <td>NaN</td>\n",
              "      <td>NaN</td>\n",
              "      <td>NaN</td>\n",
              "      <td>NaN</td>\n",
              "      <td>NaN</td>\n",
              "      <td>NaN</td>\n",
              "      <td>NaN</td>\n",
              "    </tr>\n",
              "    <tr>\n",
              "      <th>2</th>\n",
              "      <td>NaN</td>\n",
              "      <td>NaN</td>\n",
              "      <td>NaN</td>\n",
              "      <td>NaN</td>\n",
              "      <td>NaN</td>\n",
              "      <td>NaN</td>\n",
              "      <td>NaN</td>\n",
              "      <td>NaN</td>\n",
              "      <td>NaN</td>\n",
              "      <td>NaN</td>\n",
              "      <td>...</td>\n",
              "      <td>NaN</td>\n",
              "      <td>NaN</td>\n",
              "      <td>NaN</td>\n",
              "      <td>NaN</td>\n",
              "      <td>NaN</td>\n",
              "      <td>NaN</td>\n",
              "      <td>NaN</td>\n",
              "      <td>NaN</td>\n",
              "      <td>NaN</td>\n",
              "      <td>NaN</td>\n",
              "    </tr>\n",
              "    <tr>\n",
              "      <th>3</th>\n",
              "      <td>NaN</td>\n",
              "      <td>NaN</td>\n",
              "      <td>NaN</td>\n",
              "      <td>NaN</td>\n",
              "      <td>NaN</td>\n",
              "      <td>NaN</td>\n",
              "      <td>NaN</td>\n",
              "      <td>NaN</td>\n",
              "      <td>NaN</td>\n",
              "      <td>NaN</td>\n",
              "      <td>...</td>\n",
              "      <td>NaN</td>\n",
              "      <td>NaN</td>\n",
              "      <td>NaN</td>\n",
              "      <td>NaN</td>\n",
              "      <td>NaN</td>\n",
              "      <td>NaN</td>\n",
              "      <td>NaN</td>\n",
              "      <td>NaN</td>\n",
              "      <td>NaN</td>\n",
              "      <td>NaN</td>\n",
              "    </tr>\n",
              "  </tbody>\n",
              "</table>\n",
              "<p>3 rows × 9724 columns</p>\n",
              "</div>\n",
              "      <button class=\"colab-df-convert\" onclick=\"convertToInteractive('df-af631cdc-a57f-4f8f-8e36-1fae08e7c738')\"\n",
              "              title=\"Convert this dataframe to an interactive table.\"\n",
              "              style=\"display:none;\">\n",
              "        \n",
              "  <svg xmlns=\"http://www.w3.org/2000/svg\" height=\"24px\"viewBox=\"0 0 24 24\"\n",
              "       width=\"24px\">\n",
              "    <path d=\"M0 0h24v24H0V0z\" fill=\"none\"/>\n",
              "    <path d=\"M18.56 5.44l.94 2.06.94-2.06 2.06-.94-2.06-.94-.94-2.06-.94 2.06-2.06.94zm-11 1L8.5 8.5l.94-2.06 2.06-.94-2.06-.94L8.5 2.5l-.94 2.06-2.06.94zm10 10l.94 2.06.94-2.06 2.06-.94-2.06-.94-.94-2.06-.94 2.06-2.06.94z\"/><path d=\"M17.41 7.96l-1.37-1.37c-.4-.4-.92-.59-1.43-.59-.52 0-1.04.2-1.43.59L10.3 9.45l-7.72 7.72c-.78.78-.78 2.05 0 2.83L4 21.41c.39.39.9.59 1.41.59.51 0 1.02-.2 1.41-.59l7.78-7.78 2.81-2.81c.8-.78.8-2.07 0-2.86zM5.41 20L4 18.59l7.72-7.72 1.47 1.35L5.41 20z\"/>\n",
              "  </svg>\n",
              "      </button>\n",
              "      \n",
              "  <style>\n",
              "    .colab-df-container {\n",
              "      display:flex;\n",
              "      flex-wrap:wrap;\n",
              "      gap: 12px;\n",
              "    }\n",
              "\n",
              "    .colab-df-convert {\n",
              "      background-color: #E8F0FE;\n",
              "      border: none;\n",
              "      border-radius: 50%;\n",
              "      cursor: pointer;\n",
              "      display: none;\n",
              "      fill: #1967D2;\n",
              "      height: 32px;\n",
              "      padding: 0 0 0 0;\n",
              "      width: 32px;\n",
              "    }\n",
              "\n",
              "    .colab-df-convert:hover {\n",
              "      background-color: #E2EBFA;\n",
              "      box-shadow: 0px 1px 2px rgba(60, 64, 67, 0.3), 0px 1px 3px 1px rgba(60, 64, 67, 0.15);\n",
              "      fill: #174EA6;\n",
              "    }\n",
              "\n",
              "    [theme=dark] .colab-df-convert {\n",
              "      background-color: #3B4455;\n",
              "      fill: #D2E3FC;\n",
              "    }\n",
              "\n",
              "    [theme=dark] .colab-df-convert:hover {\n",
              "      background-color: #434B5C;\n",
              "      box-shadow: 0px 1px 3px 1px rgba(0, 0, 0, 0.15);\n",
              "      filter: drop-shadow(0px 1px 2px rgba(0, 0, 0, 0.3));\n",
              "      fill: #FFFFFF;\n",
              "    }\n",
              "  </style>\n",
              "\n",
              "      <script>\n",
              "        const buttonEl =\n",
              "          document.querySelector('#df-af631cdc-a57f-4f8f-8e36-1fae08e7c738 button.colab-df-convert');\n",
              "        buttonEl.style.display =\n",
              "          google.colab.kernel.accessAllowed ? 'block' : 'none';\n",
              "\n",
              "        async function convertToInteractive(key) {\n",
              "          const element = document.querySelector('#df-af631cdc-a57f-4f8f-8e36-1fae08e7c738');\n",
              "          const dataTable =\n",
              "            await google.colab.kernel.invokeFunction('convertToInteractive',\n",
              "                                                     [key], {});\n",
              "          if (!dataTable) return;\n",
              "\n",
              "          const docLinkHtml = 'Like what you see? Visit the ' +\n",
              "            '<a target=\"_blank\" href=https://colab.research.google.com/notebooks/data_table.ipynb>data table notebook</a>'\n",
              "            + ' to learn more about interactive tables.';\n",
              "          element.innerHTML = '';\n",
              "          dataTable['output_type'] = 'display_data';\n",
              "          await google.colab.output.renderOutput(dataTable, element);\n",
              "          const docLink = document.createElement('div');\n",
              "          docLink.innerHTML = docLinkHtml;\n",
              "          element.appendChild(docLink);\n",
              "        }\n",
              "      </script>\n",
              "    </div>\n",
              "  </div>\n",
              "  "
            ]
          },
          "metadata": {},
          "execution_count": 7
        }
      ]
    },
    {
      "cell_type": "markdown",
      "source": [
        "movie id값이 변환되었다. 변환되면서 난값이 많이 보인다. 최소평점이 0.5이므로 난값은 0으로 모두 변환한다. 다만 죄다 0을 주면 이게 사용자가 찐으로 0을 준건지 아님 난값인지 파악학 ㅣ어렵다"
      ],
      "metadata": {
        "id": "JHSkPi5jRDT2"
      }
    },
    {
      "cell_type": "code",
      "source": [
        "ratings_movies = pd.merge(ratings, movies, on='movieId')\n",
        "ratings_matrix = ratings_movies.pivot_table('rating',index='userId', columns='title')\n",
        "\n",
        "# all nan>0\n",
        "ratings_matrix = ratings_matrix.fillna(0)\n",
        "ratings_matrix.head(3)"
      ],
      "metadata": {
        "id": "i0X1NqZSRQef",
        "colab": {
          "base_uri": "https://localhost:8080/",
          "height": 390
        },
        "outputId": "522febf8-382c-43f7-c5e1-3683e5106fcd"
      },
      "execution_count": 8,
      "outputs": [
        {
          "output_type": "execute_result",
          "data": {
            "text/plain": [
              "title   '71 (2014)  'Hellboy': The Seeds of Creation (2004)  \\\n",
              "userId                                                        \n",
              "1              0.0                                      0.0   \n",
              "2              0.0                                      0.0   \n",
              "3              0.0                                      0.0   \n",
              "\n",
              "title   'Round Midnight (1986)  'Salem's Lot (2004)  \\\n",
              "userId                                                \n",
              "1                          0.0                  0.0   \n",
              "2                          0.0                  0.0   \n",
              "3                          0.0                  0.0   \n",
              "\n",
              "title   'Til There Was You (1997)  'Tis the Season for Love (2015)  \\\n",
              "userId                                                               \n",
              "1                             0.0                              0.0   \n",
              "2                             0.0                              0.0   \n",
              "3                             0.0                              0.0   \n",
              "\n",
              "title   'burbs, The (1989)  'night Mother (1986)  (500) Days of Summer (2009)  \\\n",
              "userId                                                                          \n",
              "1                      0.0                   0.0                          0.0   \n",
              "2                      0.0                   0.0                          0.0   \n",
              "3                      0.0                   0.0                          0.0   \n",
              "\n",
              "title   *batteries not included (1987)  ...  Zulu (2013)  [REC] (2007)  \\\n",
              "userId                                  ...                              \n",
              "1                                  0.0  ...          0.0           0.0   \n",
              "2                                  0.0  ...          0.0           0.0   \n",
              "3                                  0.0  ...          0.0           0.0   \n",
              "\n",
              "title   [REC]² (2009)  [REC]³ 3 Génesis (2012)  \\\n",
              "userId                                           \n",
              "1                 0.0                      0.0   \n",
              "2                 0.0                      0.0   \n",
              "3                 0.0                      0.0   \n",
              "\n",
              "title   anohana: The Flower We Saw That Day - The Movie (2013)  \\\n",
              "userId                                                           \n",
              "1                                                     0.0        \n",
              "2                                                     0.0        \n",
              "3                                                     0.0        \n",
              "\n",
              "title   eXistenZ (1999)  xXx (2002)  xXx: State of the Union (2005)  \\\n",
              "userId                                                                \n",
              "1                   0.0         0.0                             0.0   \n",
              "2                   0.0         0.0                             0.0   \n",
              "3                   0.0         0.0                             0.0   \n",
              "\n",
              "title   ¡Three Amigos! (1986)  À nous la liberté (Freedom for Us) (1931)  \n",
              "userId                                                                    \n",
              "1                         4.0                                        0.0  \n",
              "2                         0.0                                        0.0  \n",
              "3                         0.0                                        0.0  \n",
              "\n",
              "[3 rows x 9719 columns]"
            ],
            "text/html": [
              "\n",
              "  <div id=\"df-f0de3e53-1553-4db5-a45d-8c8083f9736a\">\n",
              "    <div class=\"colab-df-container\">\n",
              "      <div>\n",
              "<style scoped>\n",
              "    .dataframe tbody tr th:only-of-type {\n",
              "        vertical-align: middle;\n",
              "    }\n",
              "\n",
              "    .dataframe tbody tr th {\n",
              "        vertical-align: top;\n",
              "    }\n",
              "\n",
              "    .dataframe thead th {\n",
              "        text-align: right;\n",
              "    }\n",
              "</style>\n",
              "<table border=\"1\" class=\"dataframe\">\n",
              "  <thead>\n",
              "    <tr style=\"text-align: right;\">\n",
              "      <th>title</th>\n",
              "      <th>'71 (2014)</th>\n",
              "      <th>'Hellboy': The Seeds of Creation (2004)</th>\n",
              "      <th>'Round Midnight (1986)</th>\n",
              "      <th>'Salem's Lot (2004)</th>\n",
              "      <th>'Til There Was You (1997)</th>\n",
              "      <th>'Tis the Season for Love (2015)</th>\n",
              "      <th>'burbs, The (1989)</th>\n",
              "      <th>'night Mother (1986)</th>\n",
              "      <th>(500) Days of Summer (2009)</th>\n",
              "      <th>*batteries not included (1987)</th>\n",
              "      <th>...</th>\n",
              "      <th>Zulu (2013)</th>\n",
              "      <th>[REC] (2007)</th>\n",
              "      <th>[REC]² (2009)</th>\n",
              "      <th>[REC]³ 3 Génesis (2012)</th>\n",
              "      <th>anohana: The Flower We Saw That Day - The Movie (2013)</th>\n",
              "      <th>eXistenZ (1999)</th>\n",
              "      <th>xXx (2002)</th>\n",
              "      <th>xXx: State of the Union (2005)</th>\n",
              "      <th>¡Three Amigos! (1986)</th>\n",
              "      <th>À nous la liberté (Freedom for Us) (1931)</th>\n",
              "    </tr>\n",
              "    <tr>\n",
              "      <th>userId</th>\n",
              "      <th></th>\n",
              "      <th></th>\n",
              "      <th></th>\n",
              "      <th></th>\n",
              "      <th></th>\n",
              "      <th></th>\n",
              "      <th></th>\n",
              "      <th></th>\n",
              "      <th></th>\n",
              "      <th></th>\n",
              "      <th></th>\n",
              "      <th></th>\n",
              "      <th></th>\n",
              "      <th></th>\n",
              "      <th></th>\n",
              "      <th></th>\n",
              "      <th></th>\n",
              "      <th></th>\n",
              "      <th></th>\n",
              "      <th></th>\n",
              "      <th></th>\n",
              "    </tr>\n",
              "  </thead>\n",
              "  <tbody>\n",
              "    <tr>\n",
              "      <th>1</th>\n",
              "      <td>0.0</td>\n",
              "      <td>0.0</td>\n",
              "      <td>0.0</td>\n",
              "      <td>0.0</td>\n",
              "      <td>0.0</td>\n",
              "      <td>0.0</td>\n",
              "      <td>0.0</td>\n",
              "      <td>0.0</td>\n",
              "      <td>0.0</td>\n",
              "      <td>0.0</td>\n",
              "      <td>...</td>\n",
              "      <td>0.0</td>\n",
              "      <td>0.0</td>\n",
              "      <td>0.0</td>\n",
              "      <td>0.0</td>\n",
              "      <td>0.0</td>\n",
              "      <td>0.0</td>\n",
              "      <td>0.0</td>\n",
              "      <td>0.0</td>\n",
              "      <td>4.0</td>\n",
              "      <td>0.0</td>\n",
              "    </tr>\n",
              "    <tr>\n",
              "      <th>2</th>\n",
              "      <td>0.0</td>\n",
              "      <td>0.0</td>\n",
              "      <td>0.0</td>\n",
              "      <td>0.0</td>\n",
              "      <td>0.0</td>\n",
              "      <td>0.0</td>\n",
              "      <td>0.0</td>\n",
              "      <td>0.0</td>\n",
              "      <td>0.0</td>\n",
              "      <td>0.0</td>\n",
              "      <td>...</td>\n",
              "      <td>0.0</td>\n",
              "      <td>0.0</td>\n",
              "      <td>0.0</td>\n",
              "      <td>0.0</td>\n",
              "      <td>0.0</td>\n",
              "      <td>0.0</td>\n",
              "      <td>0.0</td>\n",
              "      <td>0.0</td>\n",
              "      <td>0.0</td>\n",
              "      <td>0.0</td>\n",
              "    </tr>\n",
              "    <tr>\n",
              "      <th>3</th>\n",
              "      <td>0.0</td>\n",
              "      <td>0.0</td>\n",
              "      <td>0.0</td>\n",
              "      <td>0.0</td>\n",
              "      <td>0.0</td>\n",
              "      <td>0.0</td>\n",
              "      <td>0.0</td>\n",
              "      <td>0.0</td>\n",
              "      <td>0.0</td>\n",
              "      <td>0.0</td>\n",
              "      <td>...</td>\n",
              "      <td>0.0</td>\n",
              "      <td>0.0</td>\n",
              "      <td>0.0</td>\n",
              "      <td>0.0</td>\n",
              "      <td>0.0</td>\n",
              "      <td>0.0</td>\n",
              "      <td>0.0</td>\n",
              "      <td>0.0</td>\n",
              "      <td>0.0</td>\n",
              "      <td>0.0</td>\n",
              "    </tr>\n",
              "  </tbody>\n",
              "</table>\n",
              "<p>3 rows × 9719 columns</p>\n",
              "</div>\n",
              "      <button class=\"colab-df-convert\" onclick=\"convertToInteractive('df-f0de3e53-1553-4db5-a45d-8c8083f9736a')\"\n",
              "              title=\"Convert this dataframe to an interactive table.\"\n",
              "              style=\"display:none;\">\n",
              "        \n",
              "  <svg xmlns=\"http://www.w3.org/2000/svg\" height=\"24px\"viewBox=\"0 0 24 24\"\n",
              "       width=\"24px\">\n",
              "    <path d=\"M0 0h24v24H0V0z\" fill=\"none\"/>\n",
              "    <path d=\"M18.56 5.44l.94 2.06.94-2.06 2.06-.94-2.06-.94-.94-2.06-.94 2.06-2.06.94zm-11 1L8.5 8.5l.94-2.06 2.06-.94-2.06-.94L8.5 2.5l-.94 2.06-2.06.94zm10 10l.94 2.06.94-2.06 2.06-.94-2.06-.94-.94-2.06-.94 2.06-2.06.94z\"/><path d=\"M17.41 7.96l-1.37-1.37c-.4-.4-.92-.59-1.43-.59-.52 0-1.04.2-1.43.59L10.3 9.45l-7.72 7.72c-.78.78-.78 2.05 0 2.83L4 21.41c.39.39.9.59 1.41.59.51 0 1.02-.2 1.41-.59l7.78-7.78 2.81-2.81c.8-.78.8-2.07 0-2.86zM5.41 20L4 18.59l7.72-7.72 1.47 1.35L5.41 20z\"/>\n",
              "  </svg>\n",
              "      </button>\n",
              "      \n",
              "  <style>\n",
              "    .colab-df-container {\n",
              "      display:flex;\n",
              "      flex-wrap:wrap;\n",
              "      gap: 12px;\n",
              "    }\n",
              "\n",
              "    .colab-df-convert {\n",
              "      background-color: #E8F0FE;\n",
              "      border: none;\n",
              "      border-radius: 50%;\n",
              "      cursor: pointer;\n",
              "      display: none;\n",
              "      fill: #1967D2;\n",
              "      height: 32px;\n",
              "      padding: 0 0 0 0;\n",
              "      width: 32px;\n",
              "    }\n",
              "\n",
              "    .colab-df-convert:hover {\n",
              "      background-color: #E2EBFA;\n",
              "      box-shadow: 0px 1px 2px rgba(60, 64, 67, 0.3), 0px 1px 3px 1px rgba(60, 64, 67, 0.15);\n",
              "      fill: #174EA6;\n",
              "    }\n",
              "\n",
              "    [theme=dark] .colab-df-convert {\n",
              "      background-color: #3B4455;\n",
              "      fill: #D2E3FC;\n",
              "    }\n",
              "\n",
              "    [theme=dark] .colab-df-convert:hover {\n",
              "      background-color: #434B5C;\n",
              "      box-shadow: 0px 1px 3px 1px rgba(0, 0, 0, 0.15);\n",
              "      filter: drop-shadow(0px 1px 2px rgba(0, 0, 0, 0.3));\n",
              "      fill: #FFFFFF;\n",
              "    }\n",
              "  </style>\n",
              "\n",
              "      <script>\n",
              "        const buttonEl =\n",
              "          document.querySelector('#df-f0de3e53-1553-4db5-a45d-8c8083f9736a button.colab-df-convert');\n",
              "        buttonEl.style.display =\n",
              "          google.colab.kernel.accessAllowed ? 'block' : 'none';\n",
              "\n",
              "        async function convertToInteractive(key) {\n",
              "          const element = document.querySelector('#df-f0de3e53-1553-4db5-a45d-8c8083f9736a');\n",
              "          const dataTable =\n",
              "            await google.colab.kernel.invokeFunction('convertToInteractive',\n",
              "                                                     [key], {});\n",
              "          if (!dataTable) return;\n",
              "\n",
              "          const docLinkHtml = 'Like what you see? Visit the ' +\n",
              "            '<a target=\"_blank\" href=https://colab.research.google.com/notebooks/data_table.ipynb>data table notebook</a>'\n",
              "            + ' to learn more about interactive tables.';\n",
              "          element.innerHTML = '';\n",
              "          dataTable['output_type'] = 'display_data';\n",
              "          await google.colab.output.renderOutput(dataTable, element);\n",
              "          const docLink = document.createElement('div');\n",
              "          docLink.innerHTML = docLinkHtml;\n",
              "          element.appendChild(docLink);\n",
              "        }\n",
              "      </script>\n",
              "    </div>\n",
              "  </div>\n",
              "  "
            ]
          },
          "metadata": {},
          "execution_count": 8
        }
      ]
    },
    {
      "cell_type": "markdown",
      "source": [
        "### 영화 간 유사도 산출\n",
        "코사인 유사도를 이용해야하나 이 데이터프레임의 경우 코사인유사도 메소드 특성상 사요ㅕㅇ자간 유사도를 출력해줌.\n",
        "\n",
        "그러기 위해서 전치 함수 이용\n",
        "\n"
      ],
      "metadata": {
        "id": "RdSkgPERRm9C"
      }
    },
    {
      "cell_type": "code",
      "source": [
        "ratings_matrix_T = ratings_matrix.transpose()\n",
        "ratings_matrix_T.head(3)"
      ],
      "metadata": {
        "id": "8HnJ_5UNF0Ta",
        "colab": {
          "base_uri": "https://localhost:8080/",
          "height": 390
        },
        "outputId": "2746d3ea-b570-4872-dd74-7c80bdcda9e4"
      },
      "execution_count": 10,
      "outputs": [
        {
          "output_type": "execute_result",
          "data": {
            "text/plain": [
              "userId                                   1    2    3    4    5    6    7    \\\n",
              "title                                                                        \n",
              "'71 (2014)                               0.0  0.0  0.0  0.0  0.0  0.0  0.0   \n",
              "'Hellboy': The Seeds of Creation (2004)  0.0  0.0  0.0  0.0  0.0  0.0  0.0   \n",
              "'Round Midnight (1986)                   0.0  0.0  0.0  0.0  0.0  0.0  0.0   \n",
              "\n",
              "userId                                   8    9    10   ...  601  602  603  \\\n",
              "title                                                   ...                  \n",
              "'71 (2014)                               0.0  0.0  0.0  ...  0.0  0.0  0.0   \n",
              "'Hellboy': The Seeds of Creation (2004)  0.0  0.0  0.0  ...  0.0  0.0  0.0   \n",
              "'Round Midnight (1986)                   0.0  0.0  0.0  ...  0.0  0.0  0.0   \n",
              "\n",
              "userId                                   604  605  606  607  608  609  610  \n",
              "title                                                                       \n",
              "'71 (2014)                               0.0  0.0  0.0  0.0  0.0  0.0  4.0  \n",
              "'Hellboy': The Seeds of Creation (2004)  0.0  0.0  0.0  0.0  0.0  0.0  0.0  \n",
              "'Round Midnight (1986)                   0.0  0.0  0.0  0.0  0.0  0.0  0.0  \n",
              "\n",
              "[3 rows x 610 columns]"
            ],
            "text/html": [
              "\n",
              "  <div id=\"df-70bf04e1-9bb6-45f3-a988-7b0bca95fec5\">\n",
              "    <div class=\"colab-df-container\">\n",
              "      <div>\n",
              "<style scoped>\n",
              "    .dataframe tbody tr th:only-of-type {\n",
              "        vertical-align: middle;\n",
              "    }\n",
              "\n",
              "    .dataframe tbody tr th {\n",
              "        vertical-align: top;\n",
              "    }\n",
              "\n",
              "    .dataframe thead th {\n",
              "        text-align: right;\n",
              "    }\n",
              "</style>\n",
              "<table border=\"1\" class=\"dataframe\">\n",
              "  <thead>\n",
              "    <tr style=\"text-align: right;\">\n",
              "      <th>userId</th>\n",
              "      <th>1</th>\n",
              "      <th>2</th>\n",
              "      <th>3</th>\n",
              "      <th>4</th>\n",
              "      <th>5</th>\n",
              "      <th>6</th>\n",
              "      <th>7</th>\n",
              "      <th>8</th>\n",
              "      <th>9</th>\n",
              "      <th>10</th>\n",
              "      <th>...</th>\n",
              "      <th>601</th>\n",
              "      <th>602</th>\n",
              "      <th>603</th>\n",
              "      <th>604</th>\n",
              "      <th>605</th>\n",
              "      <th>606</th>\n",
              "      <th>607</th>\n",
              "      <th>608</th>\n",
              "      <th>609</th>\n",
              "      <th>610</th>\n",
              "    </tr>\n",
              "    <tr>\n",
              "      <th>title</th>\n",
              "      <th></th>\n",
              "      <th></th>\n",
              "      <th></th>\n",
              "      <th></th>\n",
              "      <th></th>\n",
              "      <th></th>\n",
              "      <th></th>\n",
              "      <th></th>\n",
              "      <th></th>\n",
              "      <th></th>\n",
              "      <th></th>\n",
              "      <th></th>\n",
              "      <th></th>\n",
              "      <th></th>\n",
              "      <th></th>\n",
              "      <th></th>\n",
              "      <th></th>\n",
              "      <th></th>\n",
              "      <th></th>\n",
              "      <th></th>\n",
              "      <th></th>\n",
              "    </tr>\n",
              "  </thead>\n",
              "  <tbody>\n",
              "    <tr>\n",
              "      <th>'71 (2014)</th>\n",
              "      <td>0.0</td>\n",
              "      <td>0.0</td>\n",
              "      <td>0.0</td>\n",
              "      <td>0.0</td>\n",
              "      <td>0.0</td>\n",
              "      <td>0.0</td>\n",
              "      <td>0.0</td>\n",
              "      <td>0.0</td>\n",
              "      <td>0.0</td>\n",
              "      <td>0.0</td>\n",
              "      <td>...</td>\n",
              "      <td>0.0</td>\n",
              "      <td>0.0</td>\n",
              "      <td>0.0</td>\n",
              "      <td>0.0</td>\n",
              "      <td>0.0</td>\n",
              "      <td>0.0</td>\n",
              "      <td>0.0</td>\n",
              "      <td>0.0</td>\n",
              "      <td>0.0</td>\n",
              "      <td>4.0</td>\n",
              "    </tr>\n",
              "    <tr>\n",
              "      <th>'Hellboy': The Seeds of Creation (2004)</th>\n",
              "      <td>0.0</td>\n",
              "      <td>0.0</td>\n",
              "      <td>0.0</td>\n",
              "      <td>0.0</td>\n",
              "      <td>0.0</td>\n",
              "      <td>0.0</td>\n",
              "      <td>0.0</td>\n",
              "      <td>0.0</td>\n",
              "      <td>0.0</td>\n",
              "      <td>0.0</td>\n",
              "      <td>...</td>\n",
              "      <td>0.0</td>\n",
              "      <td>0.0</td>\n",
              "      <td>0.0</td>\n",
              "      <td>0.0</td>\n",
              "      <td>0.0</td>\n",
              "      <td>0.0</td>\n",
              "      <td>0.0</td>\n",
              "      <td>0.0</td>\n",
              "      <td>0.0</td>\n",
              "      <td>0.0</td>\n",
              "    </tr>\n",
              "    <tr>\n",
              "      <th>'Round Midnight (1986)</th>\n",
              "      <td>0.0</td>\n",
              "      <td>0.0</td>\n",
              "      <td>0.0</td>\n",
              "      <td>0.0</td>\n",
              "      <td>0.0</td>\n",
              "      <td>0.0</td>\n",
              "      <td>0.0</td>\n",
              "      <td>0.0</td>\n",
              "      <td>0.0</td>\n",
              "      <td>0.0</td>\n",
              "      <td>...</td>\n",
              "      <td>0.0</td>\n",
              "      <td>0.0</td>\n",
              "      <td>0.0</td>\n",
              "      <td>0.0</td>\n",
              "      <td>0.0</td>\n",
              "      <td>0.0</td>\n",
              "      <td>0.0</td>\n",
              "      <td>0.0</td>\n",
              "      <td>0.0</td>\n",
              "      <td>0.0</td>\n",
              "    </tr>\n",
              "  </tbody>\n",
              "</table>\n",
              "<p>3 rows × 610 columns</p>\n",
              "</div>\n",
              "      <button class=\"colab-df-convert\" onclick=\"convertToInteractive('df-70bf04e1-9bb6-45f3-a988-7b0bca95fec5')\"\n",
              "              title=\"Convert this dataframe to an interactive table.\"\n",
              "              style=\"display:none;\">\n",
              "        \n",
              "  <svg xmlns=\"http://www.w3.org/2000/svg\" height=\"24px\"viewBox=\"0 0 24 24\"\n",
              "       width=\"24px\">\n",
              "    <path d=\"M0 0h24v24H0V0z\" fill=\"none\"/>\n",
              "    <path d=\"M18.56 5.44l.94 2.06.94-2.06 2.06-.94-2.06-.94-.94-2.06-.94 2.06-2.06.94zm-11 1L8.5 8.5l.94-2.06 2.06-.94-2.06-.94L8.5 2.5l-.94 2.06-2.06.94zm10 10l.94 2.06.94-2.06 2.06-.94-2.06-.94-.94-2.06-.94 2.06-2.06.94z\"/><path d=\"M17.41 7.96l-1.37-1.37c-.4-.4-.92-.59-1.43-.59-.52 0-1.04.2-1.43.59L10.3 9.45l-7.72 7.72c-.78.78-.78 2.05 0 2.83L4 21.41c.39.39.9.59 1.41.59.51 0 1.02-.2 1.41-.59l7.78-7.78 2.81-2.81c.8-.78.8-2.07 0-2.86zM5.41 20L4 18.59l7.72-7.72 1.47 1.35L5.41 20z\"/>\n",
              "  </svg>\n",
              "      </button>\n",
              "      \n",
              "  <style>\n",
              "    .colab-df-container {\n",
              "      display:flex;\n",
              "      flex-wrap:wrap;\n",
              "      gap: 12px;\n",
              "    }\n",
              "\n",
              "    .colab-df-convert {\n",
              "      background-color: #E8F0FE;\n",
              "      border: none;\n",
              "      border-radius: 50%;\n",
              "      cursor: pointer;\n",
              "      display: none;\n",
              "      fill: #1967D2;\n",
              "      height: 32px;\n",
              "      padding: 0 0 0 0;\n",
              "      width: 32px;\n",
              "    }\n",
              "\n",
              "    .colab-df-convert:hover {\n",
              "      background-color: #E2EBFA;\n",
              "      box-shadow: 0px 1px 2px rgba(60, 64, 67, 0.3), 0px 1px 3px 1px rgba(60, 64, 67, 0.15);\n",
              "      fill: #174EA6;\n",
              "    }\n",
              "\n",
              "    [theme=dark] .colab-df-convert {\n",
              "      background-color: #3B4455;\n",
              "      fill: #D2E3FC;\n",
              "    }\n",
              "\n",
              "    [theme=dark] .colab-df-convert:hover {\n",
              "      background-color: #434B5C;\n",
              "      box-shadow: 0px 1px 3px 1px rgba(0, 0, 0, 0.15);\n",
              "      filter: drop-shadow(0px 1px 2px rgba(0, 0, 0, 0.3));\n",
              "      fill: #FFFFFF;\n",
              "    }\n",
              "  </style>\n",
              "\n",
              "      <script>\n",
              "        const buttonEl =\n",
              "          document.querySelector('#df-70bf04e1-9bb6-45f3-a988-7b0bca95fec5 button.colab-df-convert');\n",
              "        buttonEl.style.display =\n",
              "          google.colab.kernel.accessAllowed ? 'block' : 'none';\n",
              "\n",
              "        async function convertToInteractive(key) {\n",
              "          const element = document.querySelector('#df-70bf04e1-9bb6-45f3-a988-7b0bca95fec5');\n",
              "          const dataTable =\n",
              "            await google.colab.kernel.invokeFunction('convertToInteractive',\n",
              "                                                     [key], {});\n",
              "          if (!dataTable) return;\n",
              "\n",
              "          const docLinkHtml = 'Like what you see? Visit the ' +\n",
              "            '<a target=\"_blank\" href=https://colab.research.google.com/notebooks/data_table.ipynb>data table notebook</a>'\n",
              "            + ' to learn more about interactive tables.';\n",
              "          element.innerHTML = '';\n",
              "          dataTable['output_type'] = 'display_data';\n",
              "          await google.colab.output.renderOutput(dataTable, element);\n",
              "          const docLink = document.createElement('div');\n",
              "          docLink.innerHTML = docLinkHtml;\n",
              "          element.appendChild(docLink);\n",
              "        }\n",
              "      </script>\n",
              "    </div>\n",
              "  </div>\n",
              "  "
            ]
          },
          "metadata": {},
          "execution_count": 10
        }
      ]
    },
    {
      "cell_type": "code",
      "source": [
        "# 전치행렬 형식으 ㅣ데이터세트 기반으로 코사인 유사도 구하기\n",
        "from sklearn.metrics.pairwise import cosine_similarity\n",
        "item_sim = cosine_similarity(ratings_matrix_T, ratings_matrix_T)\n",
        "\n",
        "# cosine similarity로 반환된 행렬을 영화명을 매핑해 데이터프레임으로 변환\n",
        "item_sim_df = pd.DataFrame(data=item_sim, index=ratings_matrix.columns, columns=ratings_matrix.columns)\n",
        "print(item_sim_df.shape)\n",
        "item_sim_df.head(3)"
      ],
      "metadata": {
        "id": "eJYfFEnyF6g-",
        "colab": {
          "base_uri": "https://localhost:8080/",
          "height": 529
        },
        "outputId": "6ff65e95-6cc9-4e15-c08e-4fb497e69a3f"
      },
      "execution_count": 11,
      "outputs": [
        {
          "output_type": "stream",
          "name": "stdout",
          "text": [
            "(9719, 9719)\n"
          ]
        },
        {
          "output_type": "execute_result",
          "data": {
            "text/plain": [
              "title                                    '71 (2014)  \\\n",
              "title                                                 \n",
              "'71 (2014)                                      1.0   \n",
              "'Hellboy': The Seeds of Creation (2004)         0.0   \n",
              "'Round Midnight (1986)                          0.0   \n",
              "\n",
              "title                                    'Hellboy': The Seeds of Creation (2004)  \\\n",
              "title                                                                              \n",
              "'71 (2014)                                                              0.000000   \n",
              "'Hellboy': The Seeds of Creation (2004)                                 1.000000   \n",
              "'Round Midnight (1986)                                                  0.707107   \n",
              "\n",
              "title                                    'Round Midnight (1986)  \\\n",
              "title                                                             \n",
              "'71 (2014)                                             0.000000   \n",
              "'Hellboy': The Seeds of Creation (2004)                0.707107   \n",
              "'Round Midnight (1986)                                 1.000000   \n",
              "\n",
              "title                                    'Salem's Lot (2004)  \\\n",
              "title                                                          \n",
              "'71 (2014)                                               0.0   \n",
              "'Hellboy': The Seeds of Creation (2004)                  0.0   \n",
              "'Round Midnight (1986)                                   0.0   \n",
              "\n",
              "title                                    'Til There Was You (1997)  \\\n",
              "title                                                                \n",
              "'71 (2014)                                                     0.0   \n",
              "'Hellboy': The Seeds of Creation (2004)                        0.0   \n",
              "'Round Midnight (1986)                                         0.0   \n",
              "\n",
              "title                                    'Tis the Season for Love (2015)  \\\n",
              "title                                                                      \n",
              "'71 (2014)                                                           0.0   \n",
              "'Hellboy': The Seeds of Creation (2004)                              0.0   \n",
              "'Round Midnight (1986)                                               0.0   \n",
              "\n",
              "title                                    'burbs, The (1989)  \\\n",
              "title                                                         \n",
              "'71 (2014)                                         0.000000   \n",
              "'Hellboy': The Seeds of Creation (2004)            0.000000   \n",
              "'Round Midnight (1986)                             0.176777   \n",
              "\n",
              "title                                    'night Mother (1986)  \\\n",
              "title                                                           \n",
              "'71 (2014)                                                0.0   \n",
              "'Hellboy': The Seeds of Creation (2004)                   0.0   \n",
              "'Round Midnight (1986)                                    0.0   \n",
              "\n",
              "title                                    (500) Days of Summer (2009)  \\\n",
              "title                                                                  \n",
              "'71 (2014)                                                  0.141653   \n",
              "'Hellboy': The Seeds of Creation (2004)                     0.000000   \n",
              "'Round Midnight (1986)                                      0.000000   \n",
              "\n",
              "title                                    *batteries not included (1987)  ...  \\\n",
              "title                                                                    ...   \n",
              "'71 (2014)                                                          0.0  ...   \n",
              "'Hellboy': The Seeds of Creation (2004)                             0.0  ...   \n",
              "'Round Midnight (1986)                                              0.0  ...   \n",
              "\n",
              "title                                    Zulu (2013)  [REC] (2007)  \\\n",
              "title                                                                \n",
              "'71 (2014)                                       0.0      0.342055   \n",
              "'Hellboy': The Seeds of Creation (2004)          0.0      0.000000   \n",
              "'Round Midnight (1986)                           0.0      0.000000   \n",
              "\n",
              "title                                    [REC]² (2009)  \\\n",
              "title                                                    \n",
              "'71 (2014)                                    0.543305   \n",
              "'Hellboy': The Seeds of Creation (2004)       0.000000   \n",
              "'Round Midnight (1986)                        0.000000   \n",
              "\n",
              "title                                    [REC]³ 3 Génesis (2012)  \\\n",
              "title                                                              \n",
              "'71 (2014)                                              0.707107   \n",
              "'Hellboy': The Seeds of Creation (2004)                 0.000000   \n",
              "'Round Midnight (1986)                                  0.000000   \n",
              "\n",
              "title                                    anohana: The Flower We Saw That Day - The Movie (2013)  \\\n",
              "title                                                                                             \n",
              "'71 (2014)                                                                             0.0        \n",
              "'Hellboy': The Seeds of Creation (2004)                                                0.0        \n",
              "'Round Midnight (1986)                                                                 0.0        \n",
              "\n",
              "title                                    eXistenZ (1999)  xXx (2002)  \\\n",
              "title                                                                  \n",
              "'71 (2014)                                           0.0    0.139431   \n",
              "'Hellboy': The Seeds of Creation (2004)              0.0    0.000000   \n",
              "'Round Midnight (1986)                               0.0    0.000000   \n",
              "\n",
              "title                                    xXx: State of the Union (2005)  \\\n",
              "title                                                                     \n",
              "'71 (2014)                                                     0.327327   \n",
              "'Hellboy': The Seeds of Creation (2004)                        0.000000   \n",
              "'Round Midnight (1986)                                         0.000000   \n",
              "\n",
              "title                                    ¡Three Amigos! (1986)  \\\n",
              "title                                                            \n",
              "'71 (2014)                                                 0.0   \n",
              "'Hellboy': The Seeds of Creation (2004)                    0.0   \n",
              "'Round Midnight (1986)                                     0.0   \n",
              "\n",
              "title                                    À nous la liberté (Freedom for Us) (1931)  \n",
              "title                                                                               \n",
              "'71 (2014)                                                                     0.0  \n",
              "'Hellboy': The Seeds of Creation (2004)                                        0.0  \n",
              "'Round Midnight (1986)                                                         0.0  \n",
              "\n",
              "[3 rows x 9719 columns]"
            ],
            "text/html": [
              "\n",
              "  <div id=\"df-af9bbc2e-ea77-4d4f-a3c2-126d242e55ee\">\n",
              "    <div class=\"colab-df-container\">\n",
              "      <div>\n",
              "<style scoped>\n",
              "    .dataframe tbody tr th:only-of-type {\n",
              "        vertical-align: middle;\n",
              "    }\n",
              "\n",
              "    .dataframe tbody tr th {\n",
              "        vertical-align: top;\n",
              "    }\n",
              "\n",
              "    .dataframe thead th {\n",
              "        text-align: right;\n",
              "    }\n",
              "</style>\n",
              "<table border=\"1\" class=\"dataframe\">\n",
              "  <thead>\n",
              "    <tr style=\"text-align: right;\">\n",
              "      <th>title</th>\n",
              "      <th>'71 (2014)</th>\n",
              "      <th>'Hellboy': The Seeds of Creation (2004)</th>\n",
              "      <th>'Round Midnight (1986)</th>\n",
              "      <th>'Salem's Lot (2004)</th>\n",
              "      <th>'Til There Was You (1997)</th>\n",
              "      <th>'Tis the Season for Love (2015)</th>\n",
              "      <th>'burbs, The (1989)</th>\n",
              "      <th>'night Mother (1986)</th>\n",
              "      <th>(500) Days of Summer (2009)</th>\n",
              "      <th>*batteries not included (1987)</th>\n",
              "      <th>...</th>\n",
              "      <th>Zulu (2013)</th>\n",
              "      <th>[REC] (2007)</th>\n",
              "      <th>[REC]² (2009)</th>\n",
              "      <th>[REC]³ 3 Génesis (2012)</th>\n",
              "      <th>anohana: The Flower We Saw That Day - The Movie (2013)</th>\n",
              "      <th>eXistenZ (1999)</th>\n",
              "      <th>xXx (2002)</th>\n",
              "      <th>xXx: State of the Union (2005)</th>\n",
              "      <th>¡Three Amigos! (1986)</th>\n",
              "      <th>À nous la liberté (Freedom for Us) (1931)</th>\n",
              "    </tr>\n",
              "    <tr>\n",
              "      <th>title</th>\n",
              "      <th></th>\n",
              "      <th></th>\n",
              "      <th></th>\n",
              "      <th></th>\n",
              "      <th></th>\n",
              "      <th></th>\n",
              "      <th></th>\n",
              "      <th></th>\n",
              "      <th></th>\n",
              "      <th></th>\n",
              "      <th></th>\n",
              "      <th></th>\n",
              "      <th></th>\n",
              "      <th></th>\n",
              "      <th></th>\n",
              "      <th></th>\n",
              "      <th></th>\n",
              "      <th></th>\n",
              "      <th></th>\n",
              "      <th></th>\n",
              "      <th></th>\n",
              "    </tr>\n",
              "  </thead>\n",
              "  <tbody>\n",
              "    <tr>\n",
              "      <th>'71 (2014)</th>\n",
              "      <td>1.0</td>\n",
              "      <td>0.000000</td>\n",
              "      <td>0.000000</td>\n",
              "      <td>0.0</td>\n",
              "      <td>0.0</td>\n",
              "      <td>0.0</td>\n",
              "      <td>0.000000</td>\n",
              "      <td>0.0</td>\n",
              "      <td>0.141653</td>\n",
              "      <td>0.0</td>\n",
              "      <td>...</td>\n",
              "      <td>0.0</td>\n",
              "      <td>0.342055</td>\n",
              "      <td>0.543305</td>\n",
              "      <td>0.707107</td>\n",
              "      <td>0.0</td>\n",
              "      <td>0.0</td>\n",
              "      <td>0.139431</td>\n",
              "      <td>0.327327</td>\n",
              "      <td>0.0</td>\n",
              "      <td>0.0</td>\n",
              "    </tr>\n",
              "    <tr>\n",
              "      <th>'Hellboy': The Seeds of Creation (2004)</th>\n",
              "      <td>0.0</td>\n",
              "      <td>1.000000</td>\n",
              "      <td>0.707107</td>\n",
              "      <td>0.0</td>\n",
              "      <td>0.0</td>\n",
              "      <td>0.0</td>\n",
              "      <td>0.000000</td>\n",
              "      <td>0.0</td>\n",
              "      <td>0.000000</td>\n",
              "      <td>0.0</td>\n",
              "      <td>...</td>\n",
              "      <td>0.0</td>\n",
              "      <td>0.000000</td>\n",
              "      <td>0.000000</td>\n",
              "      <td>0.000000</td>\n",
              "      <td>0.0</td>\n",
              "      <td>0.0</td>\n",
              "      <td>0.000000</td>\n",
              "      <td>0.000000</td>\n",
              "      <td>0.0</td>\n",
              "      <td>0.0</td>\n",
              "    </tr>\n",
              "    <tr>\n",
              "      <th>'Round Midnight (1986)</th>\n",
              "      <td>0.0</td>\n",
              "      <td>0.707107</td>\n",
              "      <td>1.000000</td>\n",
              "      <td>0.0</td>\n",
              "      <td>0.0</td>\n",
              "      <td>0.0</td>\n",
              "      <td>0.176777</td>\n",
              "      <td>0.0</td>\n",
              "      <td>0.000000</td>\n",
              "      <td>0.0</td>\n",
              "      <td>...</td>\n",
              "      <td>0.0</td>\n",
              "      <td>0.000000</td>\n",
              "      <td>0.000000</td>\n",
              "      <td>0.000000</td>\n",
              "      <td>0.0</td>\n",
              "      <td>0.0</td>\n",
              "      <td>0.000000</td>\n",
              "      <td>0.000000</td>\n",
              "      <td>0.0</td>\n",
              "      <td>0.0</td>\n",
              "    </tr>\n",
              "  </tbody>\n",
              "</table>\n",
              "<p>3 rows × 9719 columns</p>\n",
              "</div>\n",
              "      <button class=\"colab-df-convert\" onclick=\"convertToInteractive('df-af9bbc2e-ea77-4d4f-a3c2-126d242e55ee')\"\n",
              "              title=\"Convert this dataframe to an interactive table.\"\n",
              "              style=\"display:none;\">\n",
              "        \n",
              "  <svg xmlns=\"http://www.w3.org/2000/svg\" height=\"24px\"viewBox=\"0 0 24 24\"\n",
              "       width=\"24px\">\n",
              "    <path d=\"M0 0h24v24H0V0z\" fill=\"none\"/>\n",
              "    <path d=\"M18.56 5.44l.94 2.06.94-2.06 2.06-.94-2.06-.94-.94-2.06-.94 2.06-2.06.94zm-11 1L8.5 8.5l.94-2.06 2.06-.94-2.06-.94L8.5 2.5l-.94 2.06-2.06.94zm10 10l.94 2.06.94-2.06 2.06-.94-2.06-.94-.94-2.06-.94 2.06-2.06.94z\"/><path d=\"M17.41 7.96l-1.37-1.37c-.4-.4-.92-.59-1.43-.59-.52 0-1.04.2-1.43.59L10.3 9.45l-7.72 7.72c-.78.78-.78 2.05 0 2.83L4 21.41c.39.39.9.59 1.41.59.51 0 1.02-.2 1.41-.59l7.78-7.78 2.81-2.81c.8-.78.8-2.07 0-2.86zM5.41 20L4 18.59l7.72-7.72 1.47 1.35L5.41 20z\"/>\n",
              "  </svg>\n",
              "      </button>\n",
              "      \n",
              "  <style>\n",
              "    .colab-df-container {\n",
              "      display:flex;\n",
              "      flex-wrap:wrap;\n",
              "      gap: 12px;\n",
              "    }\n",
              "\n",
              "    .colab-df-convert {\n",
              "      background-color: #E8F0FE;\n",
              "      border: none;\n",
              "      border-radius: 50%;\n",
              "      cursor: pointer;\n",
              "      display: none;\n",
              "      fill: #1967D2;\n",
              "      height: 32px;\n",
              "      padding: 0 0 0 0;\n",
              "      width: 32px;\n",
              "    }\n",
              "\n",
              "    .colab-df-convert:hover {\n",
              "      background-color: #E2EBFA;\n",
              "      box-shadow: 0px 1px 2px rgba(60, 64, 67, 0.3), 0px 1px 3px 1px rgba(60, 64, 67, 0.15);\n",
              "      fill: #174EA6;\n",
              "    }\n",
              "\n",
              "    [theme=dark] .colab-df-convert {\n",
              "      background-color: #3B4455;\n",
              "      fill: #D2E3FC;\n",
              "    }\n",
              "\n",
              "    [theme=dark] .colab-df-convert:hover {\n",
              "      background-color: #434B5C;\n",
              "      box-shadow: 0px 1px 3px 1px rgba(0, 0, 0, 0.15);\n",
              "      filter: drop-shadow(0px 1px 2px rgba(0, 0, 0, 0.3));\n",
              "      fill: #FFFFFF;\n",
              "    }\n",
              "  </style>\n",
              "\n",
              "      <script>\n",
              "        const buttonEl =\n",
              "          document.querySelector('#df-af9bbc2e-ea77-4d4f-a3c2-126d242e55ee button.colab-df-convert');\n",
              "        buttonEl.style.display =\n",
              "          google.colab.kernel.accessAllowed ? 'block' : 'none';\n",
              "\n",
              "        async function convertToInteractive(key) {\n",
              "          const element = document.querySelector('#df-af9bbc2e-ea77-4d4f-a3c2-126d242e55ee');\n",
              "          const dataTable =\n",
              "            await google.colab.kernel.invokeFunction('convertToInteractive',\n",
              "                                                     [key], {});\n",
              "          if (!dataTable) return;\n",
              "\n",
              "          const docLinkHtml = 'Like what you see? Visit the ' +\n",
              "            '<a target=\"_blank\" href=https://colab.research.google.com/notebooks/data_table.ipynb>data table notebook</a>'\n",
              "            + ' to learn more about interactive tables.';\n",
              "          element.innerHTML = '';\n",
              "          dataTable['output_type'] = 'display_data';\n",
              "          await google.colab.output.renderOutput(dataTable, element);\n",
              "          const docLink = document.createElement('div');\n",
              "          docLink.innerHTML = docLinkHtml;\n",
              "          element.appendChild(docLink);\n",
              "        }\n",
              "      </script>\n",
              "    </div>\n",
              "  </div>\n",
              "  "
            ]
          },
          "metadata": {},
          "execution_count": 11
        }
      ]
    },
    {
      "cell_type": "markdown",
      "source": [
        "전치 ratigns matrix에 대해 코사인유사도를 적용한 결과 정방행렬 item sim이 생성됨\n",
        "\n",
        "이를 데이터프레임으로 변환한 행렬을 이용하여 대부와 유사도가 높은 상위 6개 영화를 추출해보자."
      ],
      "metadata": {
        "id": "26vGCih9Gc4h"
      }
    },
    {
      "cell_type": "code",
      "source": [
        "item_sim_df['Godfather, The (1972)'].sort_values(ascending=False)[:6]"
      ],
      "metadata": {
        "id": "9aQO7dSPGm0T",
        "colab": {
          "base_uri": "https://localhost:8080/"
        },
        "outputId": "ad977920-cd37-42d5-afd1-16b1b0119152"
      },
      "execution_count": 12,
      "outputs": [
        {
          "output_type": "execute_result",
          "data": {
            "text/plain": [
              "title\n",
              "Godfather, The (1972)                        1.000000\n",
              "Godfather: Part II, The (1974)               0.821773\n",
              "Goodfellas (1990)                            0.664841\n",
              "One Flew Over the Cuckoo's Nest (1975)       0.620536\n",
              "Star Wars: Episode IV - A New Hope (1977)    0.595317\n",
              "Fargo (1996)                                 0.588614\n",
              "Name: Godfather, The (1972), dtype: float64"
            ]
          },
          "metadata": {},
          "execution_count": 12
        }
      ]
    },
    {
      "cell_type": "markdown",
      "source": [
        "기존 영화를 제외하면 대부 2편이 제일 높으며 그 뒤를 이어 좋은 친구들이 잇는다.\n",
        "\n",
        "앞의 콘텐츠 기반 필터링과 다른 점은 뻐꾸기 둥지 위로 날아간 새, 스타워즈1편과 같이 자을가 완전 다른 영화도 유사도가 매우 높게 나타났다\n",
        "\n",
        "이번엔 인셉션으로 해보자"
      ],
      "metadata": {
        "id": "FjS7ckbiGwh6"
      }
    },
    {
      "cell_type": "code",
      "source": [
        "item_sim_df['Inception (2010)'].sort_values(ascending=False)[1:6]"
      ],
      "metadata": {
        "id": "--KFOSyoG7em",
        "colab": {
          "base_uri": "https://localhost:8080/"
        },
        "outputId": "1d90d499-690d-4e0b-b760-3f8178790737"
      },
      "execution_count": 13,
      "outputs": [
        {
          "output_type": "execute_result",
          "data": {
            "text/plain": [
              "title\n",
              "Dark Knight, The (2008)          0.727263\n",
              "Inglourious Basterds (2009)      0.646103\n",
              "Shutter Island (2010)            0.617736\n",
              "Dark Knight Rises, The (2012)    0.617504\n",
              "Fight Club (1999)                0.615417\n",
              "Name: Inception (2010), dtype: float64"
            ]
          },
          "metadata": {},
          "execution_count": 13
        }
      ]
    },
    {
      "cell_type": "markdown",
      "source": [
        "다크나이트의 유사도가 제일 높으며 그 뒤를 이어 스릴러와 액션이 가미된 좋은 영화가 높은 유사도를 잇는다.\n",
        "\n",
        "만들어진 아이템 기반 유사도 데이터는 사용자의 평점정보를 모두 취합해 영화에 따라 유사한 다른 영화를 추천해준다.\n",
        "\n",
        "이번에는 개인에게 특화된 영화 추천알고리즘을 만들어보자.\n",
        "\n",
        "### 아이템 기반 최근접 이웃 협업 필터링으로 개인화된 영화 추천\n",
        "\n",
        "이번에는 개인적인 취향을 반영할 수 있는 개인에게 최적화디어있는 영화 추천을 구현해보자. 아직 관람하지 않은 영화에 대해 아이템 유사도와 기좆 관람 영화의 평점데이터를 기반으로 모든 영화의 예측평점을 계산한 뒤 높은 예측 평점을 가진 영화를 추천하는 방식이다. 사용자와 아이템의 갱니화된 예측평점값, 아이템과 가장 유사도가 높은 탑 n개 아이템의 유사도벡터, 사용자으 ㅣ아이템과 가장 유사도가 높은 탑 n개 아이템에 대해 실제 평점 벡터를 이용한다.여기서의 N값은 아이템의 최근접 이웃 범위 계수를 의미하는 것으로 특정 아이템과 유사도가 가장 높은 탑n개의 아이템을 추출하는데 사용된다. 먼저 n의 범위에 제약을 두지 않고 모든 아이템으로 가정하고, 예측 평점을 구하는 로직을 작성한 뒤에 탑 n개의 아이템을 기반으로 협업필터링을 수행하는 로직으로 변경한다.\n",
        "\n",
        "앞 예제에서 생성된 영화간 유사도를 가지는 데이터프레임인 item_sim_df와 사용ㅈ ㅏ영화 평점 데이터프레임인 ratings_matrix 변수를 계속 활용해 사용자별로 최적화된 평점스코어를 예측하는 함수를 생성한다. 인자로 사용자-영화 평점 넘파이 ㅅ행렬을 과 영화간 유사도를 갖는 넘파이행렬을 이 ㅂ력받고 이를 이용해 개인화된 예측 평점을 계산한다.\n",
        "\n",
        "n의 범위에 제약을 두지 않느다면 사용자별 영화예측 평점은 사용자 u의 모든 영화에 대한 실제평점과 영화 i의 다른 모든 영화와의 코사인 유사도를 벡터내적곱한 값을 정규화를 위해 나눈 것을 의미한다.\n",
        "\n",
        "\n",
        "\n",
        "\n"
      ],
      "metadata": {
        "id": "6ju2Y3P5HDiq"
      }
    },
    {
      "cell_type": "code",
      "source": [
        "def predict_rating(ratings_arr, item_sim_arr):\n",
        "  ratings_pred = ratings_arr.dot(item_sim_arr)/np.array([np.abs(item_sim_arr).sum(axis=1)])\n",
        "  return ratings_pred"
      ],
      "metadata": {
        "id": "HqMaaIJlIr42"
      },
      "execution_count": 14,
      "outputs": []
    },
    {
      "cell_type": "markdown",
      "source": [
        "ratings arr dot은 예측평점의 분자를, np.array(np.abs(item_sim_arr).sum(axis=1)]은 분모를 의미한다.\n",
        "\n",
        "예측 평점을 구해보자"
      ],
      "metadata": {
        "id": "VcOejdMrI9Bd"
      }
    },
    {
      "cell_type": "code",
      "source": [
        "ratings_pred= predict_rating(ratings_matrix.values, item_sim_df.values)\n",
        "ratings_pred_matrix = pd.DataFrame(data=ratings_pred, index=ratings_matrix.index, columns=ratings_matrix.columns)\n",
        "\n",
        "ratings_pred_matrix.head(3)"
      ],
      "metadata": {
        "id": "osUfjPeVJTqA",
        "colab": {
          "base_uri": "https://localhost:8080/",
          "height": 390
        },
        "outputId": "ff053fc6-f94b-4821-9cea-5e2b838e1b73"
      },
      "execution_count": 15,
      "outputs": [
        {
          "output_type": "execute_result",
          "data": {
            "text/plain": [
              "title   '71 (2014)  'Hellboy': The Seeds of Creation (2004)  \\\n",
              "userId                                                        \n",
              "1         0.070345                                 0.577855   \n",
              "2         0.018260                                 0.042744   \n",
              "3         0.011884                                 0.030279   \n",
              "\n",
              "title   'Round Midnight (1986)  'Salem's Lot (2004)  \\\n",
              "userId                                                \n",
              "1                     0.321696             0.227055   \n",
              "2                     0.018861             0.000000   \n",
              "3                     0.064437             0.003762   \n",
              "\n",
              "title   'Til There Was You (1997)  'Tis the Season for Love (2015)  \\\n",
              "userId                                                               \n",
              "1                        0.206958                         0.194615   \n",
              "2                        0.000000                         0.035995   \n",
              "3                        0.003749                         0.002722   \n",
              "\n",
              "title   'burbs, The (1989)  'night Mother (1986)  (500) Days of Summer (2009)  \\\n",
              "userId                                                                          \n",
              "1                 0.249883              0.102542                     0.157084   \n",
              "2                 0.013413              0.002314                     0.032213   \n",
              "3                 0.014625              0.002085                     0.005666   \n",
              "\n",
              "title   *batteries not included (1987)  ...  Zulu (2013)  [REC] (2007)  \\\n",
              "userId                                  ...                              \n",
              "1                             0.178197  ...     0.113608      0.181738   \n",
              "2                             0.014863  ...     0.015640      0.020855   \n",
              "3                             0.006272  ...     0.006923      0.011665   \n",
              "\n",
              "title   [REC]² (2009)  [REC]³ 3 Génesis (2012)  \\\n",
              "userId                                           \n",
              "1            0.133962                 0.128574   \n",
              "2            0.020119                 0.015745   \n",
              "3            0.011800                 0.012225   \n",
              "\n",
              "title   anohana: The Flower We Saw That Day - The Movie (2013)  \\\n",
              "userId                                                           \n",
              "1                                                0.006179        \n",
              "2                                                0.049983        \n",
              "3                                                0.000000        \n",
              "\n",
              "title   eXistenZ (1999)  xXx (2002)  xXx: State of the Union (2005)  \\\n",
              "userId                                                                \n",
              "1              0.212070    0.192921                        0.136024   \n",
              "2              0.014876    0.021616                        0.024528   \n",
              "3              0.008194    0.007017                        0.009229   \n",
              "\n",
              "title   ¡Three Amigos! (1986)  À nous la liberté (Freedom for Us) (1931)  \n",
              "userId                                                                    \n",
              "1                    0.292955                                   0.720347  \n",
              "2                    0.017563                                   0.000000  \n",
              "3                    0.010420                                   0.084501  \n",
              "\n",
              "[3 rows x 9719 columns]"
            ],
            "text/html": [
              "\n",
              "  <div id=\"df-0fa53e40-48f4-4593-af67-c8ad622be49b\">\n",
              "    <div class=\"colab-df-container\">\n",
              "      <div>\n",
              "<style scoped>\n",
              "    .dataframe tbody tr th:only-of-type {\n",
              "        vertical-align: middle;\n",
              "    }\n",
              "\n",
              "    .dataframe tbody tr th {\n",
              "        vertical-align: top;\n",
              "    }\n",
              "\n",
              "    .dataframe thead th {\n",
              "        text-align: right;\n",
              "    }\n",
              "</style>\n",
              "<table border=\"1\" class=\"dataframe\">\n",
              "  <thead>\n",
              "    <tr style=\"text-align: right;\">\n",
              "      <th>title</th>\n",
              "      <th>'71 (2014)</th>\n",
              "      <th>'Hellboy': The Seeds of Creation (2004)</th>\n",
              "      <th>'Round Midnight (1986)</th>\n",
              "      <th>'Salem's Lot (2004)</th>\n",
              "      <th>'Til There Was You (1997)</th>\n",
              "      <th>'Tis the Season for Love (2015)</th>\n",
              "      <th>'burbs, The (1989)</th>\n",
              "      <th>'night Mother (1986)</th>\n",
              "      <th>(500) Days of Summer (2009)</th>\n",
              "      <th>*batteries not included (1987)</th>\n",
              "      <th>...</th>\n",
              "      <th>Zulu (2013)</th>\n",
              "      <th>[REC] (2007)</th>\n",
              "      <th>[REC]² (2009)</th>\n",
              "      <th>[REC]³ 3 Génesis (2012)</th>\n",
              "      <th>anohana: The Flower We Saw That Day - The Movie (2013)</th>\n",
              "      <th>eXistenZ (1999)</th>\n",
              "      <th>xXx (2002)</th>\n",
              "      <th>xXx: State of the Union (2005)</th>\n",
              "      <th>¡Three Amigos! (1986)</th>\n",
              "      <th>À nous la liberté (Freedom for Us) (1931)</th>\n",
              "    </tr>\n",
              "    <tr>\n",
              "      <th>userId</th>\n",
              "      <th></th>\n",
              "      <th></th>\n",
              "      <th></th>\n",
              "      <th></th>\n",
              "      <th></th>\n",
              "      <th></th>\n",
              "      <th></th>\n",
              "      <th></th>\n",
              "      <th></th>\n",
              "      <th></th>\n",
              "      <th></th>\n",
              "      <th></th>\n",
              "      <th></th>\n",
              "      <th></th>\n",
              "      <th></th>\n",
              "      <th></th>\n",
              "      <th></th>\n",
              "      <th></th>\n",
              "      <th></th>\n",
              "      <th></th>\n",
              "      <th></th>\n",
              "    </tr>\n",
              "  </thead>\n",
              "  <tbody>\n",
              "    <tr>\n",
              "      <th>1</th>\n",
              "      <td>0.070345</td>\n",
              "      <td>0.577855</td>\n",
              "      <td>0.321696</td>\n",
              "      <td>0.227055</td>\n",
              "      <td>0.206958</td>\n",
              "      <td>0.194615</td>\n",
              "      <td>0.249883</td>\n",
              "      <td>0.102542</td>\n",
              "      <td>0.157084</td>\n",
              "      <td>0.178197</td>\n",
              "      <td>...</td>\n",
              "      <td>0.113608</td>\n",
              "      <td>0.181738</td>\n",
              "      <td>0.133962</td>\n",
              "      <td>0.128574</td>\n",
              "      <td>0.006179</td>\n",
              "      <td>0.212070</td>\n",
              "      <td>0.192921</td>\n",
              "      <td>0.136024</td>\n",
              "      <td>0.292955</td>\n",
              "      <td>0.720347</td>\n",
              "    </tr>\n",
              "    <tr>\n",
              "      <th>2</th>\n",
              "      <td>0.018260</td>\n",
              "      <td>0.042744</td>\n",
              "      <td>0.018861</td>\n",
              "      <td>0.000000</td>\n",
              "      <td>0.000000</td>\n",
              "      <td>0.035995</td>\n",
              "      <td>0.013413</td>\n",
              "      <td>0.002314</td>\n",
              "      <td>0.032213</td>\n",
              "      <td>0.014863</td>\n",
              "      <td>...</td>\n",
              "      <td>0.015640</td>\n",
              "      <td>0.020855</td>\n",
              "      <td>0.020119</td>\n",
              "      <td>0.015745</td>\n",
              "      <td>0.049983</td>\n",
              "      <td>0.014876</td>\n",
              "      <td>0.021616</td>\n",
              "      <td>0.024528</td>\n",
              "      <td>0.017563</td>\n",
              "      <td>0.000000</td>\n",
              "    </tr>\n",
              "    <tr>\n",
              "      <th>3</th>\n",
              "      <td>0.011884</td>\n",
              "      <td>0.030279</td>\n",
              "      <td>0.064437</td>\n",
              "      <td>0.003762</td>\n",
              "      <td>0.003749</td>\n",
              "      <td>0.002722</td>\n",
              "      <td>0.014625</td>\n",
              "      <td>0.002085</td>\n",
              "      <td>0.005666</td>\n",
              "      <td>0.006272</td>\n",
              "      <td>...</td>\n",
              "      <td>0.006923</td>\n",
              "      <td>0.011665</td>\n",
              "      <td>0.011800</td>\n",
              "      <td>0.012225</td>\n",
              "      <td>0.000000</td>\n",
              "      <td>0.008194</td>\n",
              "      <td>0.007017</td>\n",
              "      <td>0.009229</td>\n",
              "      <td>0.010420</td>\n",
              "      <td>0.084501</td>\n",
              "    </tr>\n",
              "  </tbody>\n",
              "</table>\n",
              "<p>3 rows × 9719 columns</p>\n",
              "</div>\n",
              "      <button class=\"colab-df-convert\" onclick=\"convertToInteractive('df-0fa53e40-48f4-4593-af67-c8ad622be49b')\"\n",
              "              title=\"Convert this dataframe to an interactive table.\"\n",
              "              style=\"display:none;\">\n",
              "        \n",
              "  <svg xmlns=\"http://www.w3.org/2000/svg\" height=\"24px\"viewBox=\"0 0 24 24\"\n",
              "       width=\"24px\">\n",
              "    <path d=\"M0 0h24v24H0V0z\" fill=\"none\"/>\n",
              "    <path d=\"M18.56 5.44l.94 2.06.94-2.06 2.06-.94-2.06-.94-.94-2.06-.94 2.06-2.06.94zm-11 1L8.5 8.5l.94-2.06 2.06-.94-2.06-.94L8.5 2.5l-.94 2.06-2.06.94zm10 10l.94 2.06.94-2.06 2.06-.94-2.06-.94-.94-2.06-.94 2.06-2.06.94z\"/><path d=\"M17.41 7.96l-1.37-1.37c-.4-.4-.92-.59-1.43-.59-.52 0-1.04.2-1.43.59L10.3 9.45l-7.72 7.72c-.78.78-.78 2.05 0 2.83L4 21.41c.39.39.9.59 1.41.59.51 0 1.02-.2 1.41-.59l7.78-7.78 2.81-2.81c.8-.78.8-2.07 0-2.86zM5.41 20L4 18.59l7.72-7.72 1.47 1.35L5.41 20z\"/>\n",
              "  </svg>\n",
              "      </button>\n",
              "      \n",
              "  <style>\n",
              "    .colab-df-container {\n",
              "      display:flex;\n",
              "      flex-wrap:wrap;\n",
              "      gap: 12px;\n",
              "    }\n",
              "\n",
              "    .colab-df-convert {\n",
              "      background-color: #E8F0FE;\n",
              "      border: none;\n",
              "      border-radius: 50%;\n",
              "      cursor: pointer;\n",
              "      display: none;\n",
              "      fill: #1967D2;\n",
              "      height: 32px;\n",
              "      padding: 0 0 0 0;\n",
              "      width: 32px;\n",
              "    }\n",
              "\n",
              "    .colab-df-convert:hover {\n",
              "      background-color: #E2EBFA;\n",
              "      box-shadow: 0px 1px 2px rgba(60, 64, 67, 0.3), 0px 1px 3px 1px rgba(60, 64, 67, 0.15);\n",
              "      fill: #174EA6;\n",
              "    }\n",
              "\n",
              "    [theme=dark] .colab-df-convert {\n",
              "      background-color: #3B4455;\n",
              "      fill: #D2E3FC;\n",
              "    }\n",
              "\n",
              "    [theme=dark] .colab-df-convert:hover {\n",
              "      background-color: #434B5C;\n",
              "      box-shadow: 0px 1px 3px 1px rgba(0, 0, 0, 0.15);\n",
              "      filter: drop-shadow(0px 1px 2px rgba(0, 0, 0, 0.3));\n",
              "      fill: #FFFFFF;\n",
              "    }\n",
              "  </style>\n",
              "\n",
              "      <script>\n",
              "        const buttonEl =\n",
              "          document.querySelector('#df-0fa53e40-48f4-4593-af67-c8ad622be49b button.colab-df-convert');\n",
              "        buttonEl.style.display =\n",
              "          google.colab.kernel.accessAllowed ? 'block' : 'none';\n",
              "\n",
              "        async function convertToInteractive(key) {\n",
              "          const element = document.querySelector('#df-0fa53e40-48f4-4593-af67-c8ad622be49b');\n",
              "          const dataTable =\n",
              "            await google.colab.kernel.invokeFunction('convertToInteractive',\n",
              "                                                     [key], {});\n",
              "          if (!dataTable) return;\n",
              "\n",
              "          const docLinkHtml = 'Like what you see? Visit the ' +\n",
              "            '<a target=\"_blank\" href=https://colab.research.google.com/notebooks/data_table.ipynb>data table notebook</a>'\n",
              "            + ' to learn more about interactive tables.';\n",
              "          element.innerHTML = '';\n",
              "          dataTable['output_type'] = 'display_data';\n",
              "          await google.colab.output.renderOutput(dataTable, element);\n",
              "          const docLink = document.createElement('div');\n",
              "          docLink.innerHTML = docLinkHtml;\n",
              "          element.appendChild(docLink);\n",
              "        }\n",
              "      </script>\n",
              "    </div>\n",
              "  </div>\n",
              "  "
            ]
          },
          "metadata": {},
          "execution_count": 15
        }
      ]
    },
    {
      "cell_type": "markdown",
      "source": [
        "예측 평점이 사용자별 영화의 실제평점과 영화의 코사인 유사도를 내적한 값이기 때문에 기존에 영화를 관람하지 않아 0에 해당했던 실제 영화평점이 예측에서는 값이 부여되는 경우가 많이 밠갱한다. 예측 평점이 실제평점에 비해 작을 수 있다. 이는 내적결과를 코사인 유사도 벡터합으로 나누었기 때문에 발생한다.\n",
        "\n",
        "이러한 예측결과가 원래으 ㅣ실제평점과 얼마나 차이가 있는지 확인해보자. 예측 평가지표는 mse로 사용자가 영화의 평점을 주지 않은 경우 앞에서는 0을 부여하였으나 앞에서 개인화된 예측 점수는 평점을 주지 않은 영화에 대해서도 아이템 유사도에 기반해 평점을 예측했다. 따라서 실제와 예측 평점의 차이는 기존 평점이 부여된 데이터에 대해서만 오차를 측정한다."
      ],
      "metadata": {
        "id": "xV46zwJ5JlDX"
      }
    },
    {
      "cell_type": "code",
      "source": [
        "from sklearn.metrics import mean_squared_error\n",
        "\n",
        "# 사용자가 평점을 부여한 영화에 대해서만 mse를 ㄱㅜ함\n",
        "def get_mse(pred,actual):\n",
        "  # extract real ratings\n",
        "  pred = pred[actual.nonzero()].flatten()\n",
        "  actual = actual[actual.nonzero()].flatten()\n",
        "  return mean_squared_error(pred, actual)\n",
        "\n",
        "print('item based all neighbored MSE: ', get_mse(ratings_pred, ratings_matrix.values))"
      ],
      "metadata": {
        "id": "rFo3RzhMKKl_",
        "colab": {
          "base_uri": "https://localhost:8080/"
        },
        "outputId": "1a1ac802-38b2-450c-ee61-69cc11892916"
      },
      "execution_count": 16,
      "outputs": [
        {
          "output_type": "stream",
          "name": "stdout",
          "text": [
            "item based all neighbored MSE:  9.895354759094706\n"
          ]
        }
      ]
    },
    {
      "cell_type": "markdown",
      "source": [
        "MSE가 약 9.89로 실제값과 예측값의 스케일 차이로 발생할 수 있다.\n",
        "\n",
        "앞의 predict_ratings는 예측평점 계싼을 위해 해당 영화와 모든 다른 영화간으 ㅣ유사도 벡터를 적용했다. 많은 영화의 유사도벡터를 이요하다 보니 상대적으로 평점예측이 떨어졌다. 특정 영화와 가장 비슷한 유사도를 갖는 영화에 대해서만 유사도벡터를 적용하는 함수로 변경한다.\n",
        "\n",
        "새로 생성한ㄴ 함수는 N인자를 가져 top-n 유사도를 갖는 영화유사도 벡터만 예측값을 계산하는데 적용한다. 아쉬운 걳은 이러한 계산을 ㅜ이해서는 개별 예측값을 구하기 위해 행,열별로 for 루프를 반복 수행하며 유사도벡터를 계산해야하기 떄문에 수행시간이 오래 걸린다."
      ],
      "metadata": {
        "id": "ZaAxauhBKsAu"
      }
    },
    {
      "cell_type": "code",
      "source": [
        "def predict_ratings_topsim(ratings_arr, item_sim_arr, n=20):\n",
        "  # 사용자 아이템 평점 행렬의 크기만큼 0으로 채운 예측행렬 초기화\n",
        "  pred = np.zeros(ratings_arr.shape)\n",
        "\n",
        "  #사용자 이에템 평점행렬의 열크기만큼 루프 수행\n",
        "  for col in range(ratings_arr.shape[1]):\n",
        "    # 유사도가 큰 순으로 n개데이터 해열ㄹ의 인덱스 반환\n",
        "    top_n_items = [np.argsort(item_sim_arr[:, col])[:n-1:-1]]\n",
        "\n",
        "    # 개인화된 예측평점 계산\n",
        "    for row in range(ratings_arr.shape[0]):\n",
        "      pred[row,col]=item_sim_arr[col, :][top_n_items].dot(ratings_arr[row,:][top_n_items].T)\n",
        "      pred[row,col]/=np.sum(np.abs(item_sim_arr[col, :][top_n_items]))\n",
        "\n",
        "  return pred\n",
        "\n",
        "                                                        "
      ],
      "metadata": {
        "id": "fVEI6-qRLMF0"
      },
      "execution_count": 17,
      "outputs": []
    },
    {
      "cell_type": "code",
      "source": [
        "# get mse\n",
        "user_rating_id = ratings_matrix.loc[9, :]\n",
        "user_rating_id[user_rating_id>0].sort_values(ascending=False)[:10]"
      ],
      "metadata": {
        "id": "s4i4zcgoMcwp",
        "colab": {
          "base_uri": "https://localhost:8080/"
        },
        "outputId": "4d3108e0-cbbd-4766-a70b-0cbc625897da"
      },
      "execution_count": 18,
      "outputs": [
        {
          "output_type": "execute_result",
          "data": {
            "text/plain": [
              "title\n",
              "Adaptation (2002)                                                                 5.0\n",
              "Citizen Kane (1941)                                                               5.0\n",
              "Raiders of the Lost Ark (Indiana Jones and the Raiders of the Lost Ark) (1981)    5.0\n",
              "Producers, The (1968)                                                             5.0\n",
              "Lord of the Rings: The Two Towers, The (2002)                                     5.0\n",
              "Lord of the Rings: The Fellowship of the Ring, The (2001)                         5.0\n",
              "Back to the Future (1985)                                                         5.0\n",
              "Austin Powers in Goldmember (2002)                                                5.0\n",
              "Minority Report (2002)                                                            4.0\n",
              "Witness (1985)                                                                    4.0\n",
              "Name: 9, dtype: float64"
            ]
          },
          "metadata": {},
          "execution_count": 18
        }
      ]
    },
    {
      "cell_type": "markdown",
      "source": [
        "오스틴 파워 반지의 제왕 등 대작영화나 어드벤처 영화, 코미디 등 전반적으로 흥행성이 좋은 영화에 높은 평점을 주고 있다. 사용자에게 아이템 기반 협업기반 필터링을 통해 영화를 추천한다. 먼저 사용자가 이미 평점을 준 영화를 제외하고 추천할 수 있도록 평점을 주지 않은 영화를 리스트 객체로 반환하는 함수를 생성한다."
      ],
      "metadata": {
        "id": "Lc_Z7q0zMwHQ"
      }
    },
    {
      "cell_type": "code",
      "source": [
        "def get_unseen_movies(ratings_matrix, userId):\n",
        "  # userid로 입력받은 사용자의 모든 여화정보를 추출해 시리즈로 반환\n",
        "  # 반환된 user rating은 영화명을 인덱스로 가지는 시리즈 객체\n",
        "  user_rating = ratings_matrix.loc[userId,:]\n",
        "\n",
        "  # userrating이 0보다 크면 기존 관람한 영화. 대상 인덱스를 추출해 리스트 객체로 만듦\n",
        "  already_seen = user_rating[user_rating>0].index.tolist()\n",
        "\n",
        "  # all to list\n",
        "  movies_list = ratings_matrix.columns.tolist()\n",
        "\n",
        "  # lsit comprehension으로 already seen에 해당하는 영화는 영화리스트에서 제함\n",
        "  unseen_list=[movie for movie in movies_list if movie not in already_seen]\n",
        "  return unseen_list"
      ],
      "metadata": {
        "id": "otjiVs0ENerP"
      },
      "execution_count": 19,
      "outputs": []
    },
    {
      "cell_type": "markdown",
      "source": [
        "사용자가 영화의 평점을 주지 않은 추천대상영화정보와 predict rating topsim에서 추출한 사용자별 아이템 유사도에 기반한 예착평점 데이터세트를 이용해 최종적으로 사용자에게 영화를 추천하는 함수를 생성한다. 해당 함수는 예측평점데이터프레임과 추천하려는 사용자 id, 추천후보영화리스트, 추천상위 영화개수를 인자로 받아 사용자가 좋아할만한 가장 노픈 예측평점을 가진 영화를 추천해준다."
      ],
      "metadata": {
        "id": "41Qk6qXJ7RfQ"
      }
    },
    {
      "cell_type": "code",
      "source": [
        "def recomm_movie_by_userid(pred_df, userId, unseen_list, top_n=10):\n",
        "  # 예측 평점 데이터프레임에서 사용자아이디 인덱스와 ㅕnseen list로 들어온 영화명 칼럼을 ㅜ출해\n",
        "  # 가장 예측평점이 높은 순으로 정렬\n",
        "  recomm_movies = pred_df.loc[userId, unseen_list].sort_values(ascending=False)[:top_n]\n",
        "  return recomm_movies\n",
        "\n",
        "# extract unseen movie\n",
        "unseen_list = get_unseen_movies(ratings_matrix, 9)\n",
        "\n",
        "#아이템기반의 최근접 이웃 협업 필엍링으로 영화추천\n",
        "recomm_movies = recomm_movie_by_userid(ratings_pred_matrix, 9, unseen_list, top_n=10)\n",
        "\n",
        "# 평점 데이터를 데이터프레임으로 생성\n",
        "recomm_movies = pd.DataFrame(data=recomm_movies.values, index=recomm_movies.index, columns=['pred_score'])\n",
        "recomm_movies"
      ],
      "metadata": {
        "id": "puDIu2Vt7hC4",
        "colab": {
          "base_uri": "https://localhost:8080/",
          "height": 394
        },
        "outputId": "d097bf52-c855-4d99-cb42-7bd64b013ee9"
      },
      "execution_count": 20,
      "outputs": [
        {
          "output_type": "execute_result",
          "data": {
            "text/plain": [
              "                                                    pred_score\n",
              "title                                                         \n",
              "Venom (1982)                                          0.303278\n",
              "Dr. Goldfoot and the Bikini Machine (1965)            0.258705\n",
              "Frankie and Johnny (1966)                             0.234754\n",
              "English Vinglish (2012)                               0.214774\n",
              "Harmonists, The (1997)                                0.169338\n",
              "Passenger, The (Professione: reporter) (1975)         0.163884\n",
              "Marriage of Maria Braun, The (Ehe der Maria Bra...    0.163884\n",
              "Child, The (L'enfant) (2005)                          0.163884\n",
              "3:10 to Yuma (1957)                                   0.163884\n",
              "Story of Women (Affaire de femmes, Une) (1988)        0.163884"
            ],
            "text/html": [
              "\n",
              "  <div id=\"df-4e44711c-f652-48e6-9dfe-b5e591d4f21d\">\n",
              "    <div class=\"colab-df-container\">\n",
              "      <div>\n",
              "<style scoped>\n",
              "    .dataframe tbody tr th:only-of-type {\n",
              "        vertical-align: middle;\n",
              "    }\n",
              "\n",
              "    .dataframe tbody tr th {\n",
              "        vertical-align: top;\n",
              "    }\n",
              "\n",
              "    .dataframe thead th {\n",
              "        text-align: right;\n",
              "    }\n",
              "</style>\n",
              "<table border=\"1\" class=\"dataframe\">\n",
              "  <thead>\n",
              "    <tr style=\"text-align: right;\">\n",
              "      <th></th>\n",
              "      <th>pred_score</th>\n",
              "    </tr>\n",
              "    <tr>\n",
              "      <th>title</th>\n",
              "      <th></th>\n",
              "    </tr>\n",
              "  </thead>\n",
              "  <tbody>\n",
              "    <tr>\n",
              "      <th>Venom (1982)</th>\n",
              "      <td>0.303278</td>\n",
              "    </tr>\n",
              "    <tr>\n",
              "      <th>Dr. Goldfoot and the Bikini Machine (1965)</th>\n",
              "      <td>0.258705</td>\n",
              "    </tr>\n",
              "    <tr>\n",
              "      <th>Frankie and Johnny (1966)</th>\n",
              "      <td>0.234754</td>\n",
              "    </tr>\n",
              "    <tr>\n",
              "      <th>English Vinglish (2012)</th>\n",
              "      <td>0.214774</td>\n",
              "    </tr>\n",
              "    <tr>\n",
              "      <th>Harmonists, The (1997)</th>\n",
              "      <td>0.169338</td>\n",
              "    </tr>\n",
              "    <tr>\n",
              "      <th>Passenger, The (Professione: reporter) (1975)</th>\n",
              "      <td>0.163884</td>\n",
              "    </tr>\n",
              "    <tr>\n",
              "      <th>Marriage of Maria Braun, The (Ehe der Maria Braun, Die) (1979)</th>\n",
              "      <td>0.163884</td>\n",
              "    </tr>\n",
              "    <tr>\n",
              "      <th>Child, The (L'enfant) (2005)</th>\n",
              "      <td>0.163884</td>\n",
              "    </tr>\n",
              "    <tr>\n",
              "      <th>3:10 to Yuma (1957)</th>\n",
              "      <td>0.163884</td>\n",
              "    </tr>\n",
              "    <tr>\n",
              "      <th>Story of Women (Affaire de femmes, Une) (1988)</th>\n",
              "      <td>0.163884</td>\n",
              "    </tr>\n",
              "  </tbody>\n",
              "</table>\n",
              "</div>\n",
              "      <button class=\"colab-df-convert\" onclick=\"convertToInteractive('df-4e44711c-f652-48e6-9dfe-b5e591d4f21d')\"\n",
              "              title=\"Convert this dataframe to an interactive table.\"\n",
              "              style=\"display:none;\">\n",
              "        \n",
              "  <svg xmlns=\"http://www.w3.org/2000/svg\" height=\"24px\"viewBox=\"0 0 24 24\"\n",
              "       width=\"24px\">\n",
              "    <path d=\"M0 0h24v24H0V0z\" fill=\"none\"/>\n",
              "    <path d=\"M18.56 5.44l.94 2.06.94-2.06 2.06-.94-2.06-.94-.94-2.06-.94 2.06-2.06.94zm-11 1L8.5 8.5l.94-2.06 2.06-.94-2.06-.94L8.5 2.5l-.94 2.06-2.06.94zm10 10l.94 2.06.94-2.06 2.06-.94-2.06-.94-.94-2.06-.94 2.06-2.06.94z\"/><path d=\"M17.41 7.96l-1.37-1.37c-.4-.4-.92-.59-1.43-.59-.52 0-1.04.2-1.43.59L10.3 9.45l-7.72 7.72c-.78.78-.78 2.05 0 2.83L4 21.41c.39.39.9.59 1.41.59.51 0 1.02-.2 1.41-.59l7.78-7.78 2.81-2.81c.8-.78.8-2.07 0-2.86zM5.41 20L4 18.59l7.72-7.72 1.47 1.35L5.41 20z\"/>\n",
              "  </svg>\n",
              "      </button>\n",
              "      \n",
              "  <style>\n",
              "    .colab-df-container {\n",
              "      display:flex;\n",
              "      flex-wrap:wrap;\n",
              "      gap: 12px;\n",
              "    }\n",
              "\n",
              "    .colab-df-convert {\n",
              "      background-color: #E8F0FE;\n",
              "      border: none;\n",
              "      border-radius: 50%;\n",
              "      cursor: pointer;\n",
              "      display: none;\n",
              "      fill: #1967D2;\n",
              "      height: 32px;\n",
              "      padding: 0 0 0 0;\n",
              "      width: 32px;\n",
              "    }\n",
              "\n",
              "    .colab-df-convert:hover {\n",
              "      background-color: #E2EBFA;\n",
              "      box-shadow: 0px 1px 2px rgba(60, 64, 67, 0.3), 0px 1px 3px 1px rgba(60, 64, 67, 0.15);\n",
              "      fill: #174EA6;\n",
              "    }\n",
              "\n",
              "    [theme=dark] .colab-df-convert {\n",
              "      background-color: #3B4455;\n",
              "      fill: #D2E3FC;\n",
              "    }\n",
              "\n",
              "    [theme=dark] .colab-df-convert:hover {\n",
              "      background-color: #434B5C;\n",
              "      box-shadow: 0px 1px 3px 1px rgba(0, 0, 0, 0.15);\n",
              "      filter: drop-shadow(0px 1px 2px rgba(0, 0, 0, 0.3));\n",
              "      fill: #FFFFFF;\n",
              "    }\n",
              "  </style>\n",
              "\n",
              "      <script>\n",
              "        const buttonEl =\n",
              "          document.querySelector('#df-4e44711c-f652-48e6-9dfe-b5e591d4f21d button.colab-df-convert');\n",
              "        buttonEl.style.display =\n",
              "          google.colab.kernel.accessAllowed ? 'block' : 'none';\n",
              "\n",
              "        async function convertToInteractive(key) {\n",
              "          const element = document.querySelector('#df-4e44711c-f652-48e6-9dfe-b5e591d4f21d');\n",
              "          const dataTable =\n",
              "            await google.colab.kernel.invokeFunction('convertToInteractive',\n",
              "                                                     [key], {});\n",
              "          if (!dataTable) return;\n",
              "\n",
              "          const docLinkHtml = 'Like what you see? Visit the ' +\n",
              "            '<a target=\"_blank\" href=https://colab.research.google.com/notebooks/data_table.ipynb>data table notebook</a>'\n",
              "            + ' to learn more about interactive tables.';\n",
              "          element.innerHTML = '';\n",
              "          dataTable['output_type'] = 'display_data';\n",
              "          await google.colab.output.renderOutput(dataTable, element);\n",
              "          const docLink = document.createElement('div');\n",
              "          docLink.innerHTML = docLinkHtml;\n",
              "          element.appendChild(docLink);\n",
              "        }\n",
              "      </script>\n",
              "    </div>\n",
              "  </div>\n",
              "  "
            ]
          },
          "metadata": {},
          "execution_count": 20
        }
      ]
    },
    {
      "cell_type": "markdown",
      "source": [
        "## 07 행렬 분해를 이용한 잠재요인 협업 필터링 실습\n",
        "\n",
        "이번에는 행렬분해를 이용한 잠재요인 협업 필터링을 직접 구현해보자. 행렬 분해 잠재요인 협업 필터링은 svd, nmf등을 적용할 수 ㅣㅇㅆ는데, 일반적으로 행렬 분해에는 svd 가 자주 사용되지만 사용자-아이템 평점 행렬에는 사용자가 평점을 매기지 않은 널 데이터가 많기 때문에 주로 sgd, als 기반의 행렬분해를 이용한다. 여기서는 sgd 기반의 행렬분해를 구현하고 이를 기반으로 영화를 추천한다.\n",
        "\n",
        "이번에는 앞과 다르게 행렬분해 로직을 함수로 생성한다"
      ],
      "metadata": {
        "id": "cWPcC8Vg8YfW"
      }
    },
    {
      "cell_type": "code",
      "source": [
        "def matrix_factorization(R,K,steps=200, learning_rate=0.01, r_lambda=0.01):\n",
        "  num_users, num_items = R.shape\n",
        "  # p,q 매트릭스의 크기를 지정하고 정규분포를 가진 랜덤값으로 입력한다.\n",
        "  np.random.seed(1)\n",
        "  P = np.random.normal(scale=1./K, size=(num_users, K))\n",
        "  Q = np.random.normal(scale=1./K, size=(num_items, K))\n",
        "\n",
        "  prev_rmse = 10000\n",
        "  break_count = 0\n",
        "\n",
        "  # where the row is  R>0 > save them in nonzero list\n",
        "  non_zeros = [ ( i,j,R[i,j]) for i in range(num_users) for j in range(num_items) if R[i, j]>0]\n",
        "\n",
        "  for step in range(steps):\n",
        "    for i, j, r in non_zeros:\n",
        "      eij = r-np.dot(P[i,:], Q[j,:].T)\n",
        "\n",
        "      P[i, :]=P[i,:]+learning_rate*(eij*Q[j,:]-r_lambda*P[i,:])\n",
        "      Q[j,:]= Q[j,:] + learning_rate* (eij *  P[i,:]-r_lambda *  Q[j,:])\n",
        "    \n",
        "    rmse = get_rmse(R,P, Q, non_zeros)\n",
        "    if (step%10)==0:\n",
        "      print('### iteration stop: ', step, \"rmse :\", rmse)\n",
        "  return P,Q"
      ],
      "metadata": {
        "id": "n0dpCh4Y9BBZ"
      },
      "execution_count": 21,
      "outputs": []
    },
    {
      "cell_type": "code",
      "source": [
        "# 영화 평점 행렬 데이터 > 사용자 아이ㅁ 평점 핼렬\n",
        "\n",
        "import pandas as pd\n",
        "import numpy as np\n",
        "\n",
        "movies = pd.read_csv('/content/drive/MyDrive/ESAA/OB/movies.csv')\n",
        "ratings = pd.read_csv('/content/drive/MyDrive/ESAA/OB/ratings.csv')\n",
        "ratings = ratings[['userId', 'movieId', 'rating']]\n",
        "ratings_matrix = ratings.pivot_table('rating', index = 'userId', columns='movieId')\n",
        "# get title column, join movies\n",
        "ratings_movies = pd.merge(ratings, movies, on='movieId')\n",
        "# pivot with title columns ( in columns='title)\n",
        "ratings_matrix = ratings_movies.pivot_table('rating', index='userId', columns='title')\n",
        "\n"
      ],
      "metadata": {
        "id": "gsiCTcFwEK43"
      },
      "execution_count": 22,
      "outputs": []
    },
    {
      "cell_type": "code",
      "source": [
        "def get_rmse(R, P, Q, non_zeros):\n",
        "  error=0\n",
        "  #두개의 분해된 행렬 P와 Q.T의 내적으로 예측 R 행렬 생성\n",
        "  full_pred_matrix=np.dot(P, Q.T)\n",
        "\n",
        "  #실제 R 행렬에서 널이 아닌 값의 위치 인덱스를 추출해 실제 R 행렬롸 예측 행렬의 RMSE 추출\n",
        "  x_non_zero_ind=[non_zero[0] for non_zero in non_zeros]\n",
        "  y_non_zero_ind=[non_zero[1] for non_zero in non_zeros]\n",
        "  R_non_zeros=R[x_non_zero_ind, y_non_zero_ind]\n",
        "  full_pred_matrix_non_zeros=full_pred_matrix[x_non_zero_ind, y_non_zero_ind]\n",
        "  mse=mean_squared_error(R_non_zeros, full_pred_matrix_non_zeros)\n",
        "  rmse=np.sqrt(mse)\n",
        "\n",
        "  return rmse\n",
        "     \n"
      ],
      "metadata": {
        "id": "FVN0MJqolHDe"
      },
      "execution_count": 23,
      "outputs": []
    },
    {
      "cell_type": "code",
      "source": [
        "# 행렬분해\n",
        "P, Q = matrix_factorization(ratings_matrix.values, K=50, steps=200, learning_rate=0.01, r_lambda=0.01 )\n",
        "pred_matrix = np.dot(P,Q.T)"
      ],
      "metadata": {
        "id": "ChA-e53GE2bw",
        "colab": {
          "base_uri": "https://localhost:8080/"
        },
        "outputId": "1c00e1f6-8909-4f14-f4fe-f6699885cdc3"
      },
      "execution_count": 24,
      "outputs": [
        {
          "output_type": "stream",
          "name": "stdout",
          "text": [
            "### iteration stop:  0 rmse : 2.9023619751336867\n",
            "### iteration stop:  10 rmse : 0.7335768591017927\n",
            "### iteration stop:  20 rmse : 0.5115539026853442\n",
            "### iteration stop:  30 rmse : 0.37261628282537446\n",
            "### iteration stop:  40 rmse : 0.2960818299181014\n",
            "### iteration stop:  50 rmse : 0.2520353192341642\n",
            "### iteration stop:  60 rmse : 0.22487503275269854\n",
            "### iteration stop:  70 rmse : 0.2068545530233154\n",
            "### iteration stop:  80 rmse : 0.19413418783028685\n",
            "### iteration stop:  90 rmse : 0.18470082002720406\n",
            "### iteration stop:  100 rmse : 0.17742927527209104\n",
            "### iteration stop:  110 rmse : 0.1716522696470749\n",
            "### iteration stop:  120 rmse : 0.16695181946871726\n",
            "### iteration stop:  130 rmse : 0.16305292191997542\n",
            "### iteration stop:  140 rmse : 0.15976691929679646\n",
            "### iteration stop:  150 rmse : 0.1569598699945732\n",
            "### iteration stop:  160 rmse : 0.15453398186715425\n",
            "### iteration stop:  170 rmse : 0.15241618551077643\n",
            "### iteration stop:  180 rmse : 0.1505508073962831\n",
            "### iteration stop:  190 rmse : 0.1488947091323209\n"
          ]
        }
      ]
    },
    {
      "cell_type": "code",
      "source": [
        "ratings_pred_matrix = pd.DataFrame(data=pred_matrix, index=ratings_matrix.index, columns=ratings_matrix.columns)\n",
        "ratings_pred_matrix.head(3)"
      ],
      "metadata": {
        "id": "JbJB6LFdFJdz",
        "colab": {
          "base_uri": "https://localhost:8080/",
          "height": 390
        },
        "outputId": "bce97614-6cad-4b3d-f379-95f1d5e9d807"
      },
      "execution_count": 25,
      "outputs": [
        {
          "output_type": "execute_result",
          "data": {
            "text/plain": [
              "title   '71 (2014)  'Hellboy': The Seeds of Creation (2004)  \\\n",
              "userId                                                        \n",
              "1         3.055084                                 4.092018   \n",
              "2         3.170119                                 3.657992   \n",
              "3         2.307073                                 1.658853   \n",
              "\n",
              "title   'Round Midnight (1986)  'Salem's Lot (2004)  \\\n",
              "userId                                                \n",
              "1                     3.564130             4.502167   \n",
              "2                     3.308707             4.166521   \n",
              "3                     1.443538             2.208859   \n",
              "\n",
              "title   'Til There Was You (1997)  'Tis the Season for Love (2015)  \\\n",
              "userId                                                               \n",
              "1                        3.981215                         1.271694   \n",
              "2                        4.311890                         1.275469   \n",
              "3                        2.229486                         0.780760   \n",
              "\n",
              "title   'burbs, The (1989)  'night Mother (1986)  (500) Days of Summer (2009)  \\\n",
              "userId                                                                          \n",
              "1                 3.603274              2.333266                     5.091749   \n",
              "2                 4.237972              1.900366                     3.392859   \n",
              "3                 1.997043              0.924908                     2.970700   \n",
              "\n",
              "title   *batteries not included (1987)  ...  Zulu (2013)  [REC] (2007)  \\\n",
              "userId                                  ...                              \n",
              "1                             3.972454  ...     1.402608      4.208382   \n",
              "2                             3.647421  ...     0.973811      3.528264   \n",
              "3                             2.551446  ...     0.520354      1.709494   \n",
              "\n",
              "title   [REC]² (2009)  [REC]³ 3 Génesis (2012)  \\\n",
              "userId                                           \n",
              "1            3.705957                 2.720514   \n",
              "2            3.361532                 2.672535   \n",
              "3            2.281596                 1.782833   \n",
              "\n",
              "title   anohana: The Flower We Saw That Day - The Movie (2013)  \\\n",
              "userId                                                           \n",
              "1                                                2.787331        \n",
              "2                                                2.404456        \n",
              "3                                                1.635173        \n",
              "\n",
              "title   eXistenZ (1999)  xXx (2002)  xXx: State of the Union (2005)  \\\n",
              "userId                                                                \n",
              "1              3.475076    3.253458                        2.161087   \n",
              "2              4.232789    2.911602                        1.634576   \n",
              "3              1.323276    2.887580                        1.042618   \n",
              "\n",
              "title   ¡Three Amigos! (1986)  À nous la liberté (Freedom for Us) (1931)  \n",
              "userId                                                                    \n",
              "1                    4.010495                                   0.859474  \n",
              "2                    4.135735                                   0.725684  \n",
              "3                    2.293890                                   0.396941  \n",
              "\n",
              "[3 rows x 9719 columns]"
            ],
            "text/html": [
              "\n",
              "  <div id=\"df-74409029-1288-4aaa-9e8b-abdcf6132549\">\n",
              "    <div class=\"colab-df-container\">\n",
              "      <div>\n",
              "<style scoped>\n",
              "    .dataframe tbody tr th:only-of-type {\n",
              "        vertical-align: middle;\n",
              "    }\n",
              "\n",
              "    .dataframe tbody tr th {\n",
              "        vertical-align: top;\n",
              "    }\n",
              "\n",
              "    .dataframe thead th {\n",
              "        text-align: right;\n",
              "    }\n",
              "</style>\n",
              "<table border=\"1\" class=\"dataframe\">\n",
              "  <thead>\n",
              "    <tr style=\"text-align: right;\">\n",
              "      <th>title</th>\n",
              "      <th>'71 (2014)</th>\n",
              "      <th>'Hellboy': The Seeds of Creation (2004)</th>\n",
              "      <th>'Round Midnight (1986)</th>\n",
              "      <th>'Salem's Lot (2004)</th>\n",
              "      <th>'Til There Was You (1997)</th>\n",
              "      <th>'Tis the Season for Love (2015)</th>\n",
              "      <th>'burbs, The (1989)</th>\n",
              "      <th>'night Mother (1986)</th>\n",
              "      <th>(500) Days of Summer (2009)</th>\n",
              "      <th>*batteries not included (1987)</th>\n",
              "      <th>...</th>\n",
              "      <th>Zulu (2013)</th>\n",
              "      <th>[REC] (2007)</th>\n",
              "      <th>[REC]² (2009)</th>\n",
              "      <th>[REC]³ 3 Génesis (2012)</th>\n",
              "      <th>anohana: The Flower We Saw That Day - The Movie (2013)</th>\n",
              "      <th>eXistenZ (1999)</th>\n",
              "      <th>xXx (2002)</th>\n",
              "      <th>xXx: State of the Union (2005)</th>\n",
              "      <th>¡Three Amigos! (1986)</th>\n",
              "      <th>À nous la liberté (Freedom for Us) (1931)</th>\n",
              "    </tr>\n",
              "    <tr>\n",
              "      <th>userId</th>\n",
              "      <th></th>\n",
              "      <th></th>\n",
              "      <th></th>\n",
              "      <th></th>\n",
              "      <th></th>\n",
              "      <th></th>\n",
              "      <th></th>\n",
              "      <th></th>\n",
              "      <th></th>\n",
              "      <th></th>\n",
              "      <th></th>\n",
              "      <th></th>\n",
              "      <th></th>\n",
              "      <th></th>\n",
              "      <th></th>\n",
              "      <th></th>\n",
              "      <th></th>\n",
              "      <th></th>\n",
              "      <th></th>\n",
              "      <th></th>\n",
              "      <th></th>\n",
              "    </tr>\n",
              "  </thead>\n",
              "  <tbody>\n",
              "    <tr>\n",
              "      <th>1</th>\n",
              "      <td>3.055084</td>\n",
              "      <td>4.092018</td>\n",
              "      <td>3.564130</td>\n",
              "      <td>4.502167</td>\n",
              "      <td>3.981215</td>\n",
              "      <td>1.271694</td>\n",
              "      <td>3.603274</td>\n",
              "      <td>2.333266</td>\n",
              "      <td>5.091749</td>\n",
              "      <td>3.972454</td>\n",
              "      <td>...</td>\n",
              "      <td>1.402608</td>\n",
              "      <td>4.208382</td>\n",
              "      <td>3.705957</td>\n",
              "      <td>2.720514</td>\n",
              "      <td>2.787331</td>\n",
              "      <td>3.475076</td>\n",
              "      <td>3.253458</td>\n",
              "      <td>2.161087</td>\n",
              "      <td>4.010495</td>\n",
              "      <td>0.859474</td>\n",
              "    </tr>\n",
              "    <tr>\n",
              "      <th>2</th>\n",
              "      <td>3.170119</td>\n",
              "      <td>3.657992</td>\n",
              "      <td>3.308707</td>\n",
              "      <td>4.166521</td>\n",
              "      <td>4.311890</td>\n",
              "      <td>1.275469</td>\n",
              "      <td>4.237972</td>\n",
              "      <td>1.900366</td>\n",
              "      <td>3.392859</td>\n",
              "      <td>3.647421</td>\n",
              "      <td>...</td>\n",
              "      <td>0.973811</td>\n",
              "      <td>3.528264</td>\n",
              "      <td>3.361532</td>\n",
              "      <td>2.672535</td>\n",
              "      <td>2.404456</td>\n",
              "      <td>4.232789</td>\n",
              "      <td>2.911602</td>\n",
              "      <td>1.634576</td>\n",
              "      <td>4.135735</td>\n",
              "      <td>0.725684</td>\n",
              "    </tr>\n",
              "    <tr>\n",
              "      <th>3</th>\n",
              "      <td>2.307073</td>\n",
              "      <td>1.658853</td>\n",
              "      <td>1.443538</td>\n",
              "      <td>2.208859</td>\n",
              "      <td>2.229486</td>\n",
              "      <td>0.780760</td>\n",
              "      <td>1.997043</td>\n",
              "      <td>0.924908</td>\n",
              "      <td>2.970700</td>\n",
              "      <td>2.551446</td>\n",
              "      <td>...</td>\n",
              "      <td>0.520354</td>\n",
              "      <td>1.709494</td>\n",
              "      <td>2.281596</td>\n",
              "      <td>1.782833</td>\n",
              "      <td>1.635173</td>\n",
              "      <td>1.323276</td>\n",
              "      <td>2.887580</td>\n",
              "      <td>1.042618</td>\n",
              "      <td>2.293890</td>\n",
              "      <td>0.396941</td>\n",
              "    </tr>\n",
              "  </tbody>\n",
              "</table>\n",
              "<p>3 rows × 9719 columns</p>\n",
              "</div>\n",
              "      <button class=\"colab-df-convert\" onclick=\"convertToInteractive('df-74409029-1288-4aaa-9e8b-abdcf6132549')\"\n",
              "              title=\"Convert this dataframe to an interactive table.\"\n",
              "              style=\"display:none;\">\n",
              "        \n",
              "  <svg xmlns=\"http://www.w3.org/2000/svg\" height=\"24px\"viewBox=\"0 0 24 24\"\n",
              "       width=\"24px\">\n",
              "    <path d=\"M0 0h24v24H0V0z\" fill=\"none\"/>\n",
              "    <path d=\"M18.56 5.44l.94 2.06.94-2.06 2.06-.94-2.06-.94-.94-2.06-.94 2.06-2.06.94zm-11 1L8.5 8.5l.94-2.06 2.06-.94-2.06-.94L8.5 2.5l-.94 2.06-2.06.94zm10 10l.94 2.06.94-2.06 2.06-.94-2.06-.94-.94-2.06-.94 2.06-2.06.94z\"/><path d=\"M17.41 7.96l-1.37-1.37c-.4-.4-.92-.59-1.43-.59-.52 0-1.04.2-1.43.59L10.3 9.45l-7.72 7.72c-.78.78-.78 2.05 0 2.83L4 21.41c.39.39.9.59 1.41.59.51 0 1.02-.2 1.41-.59l7.78-7.78 2.81-2.81c.8-.78.8-2.07 0-2.86zM5.41 20L4 18.59l7.72-7.72 1.47 1.35L5.41 20z\"/>\n",
              "  </svg>\n",
              "      </button>\n",
              "      \n",
              "  <style>\n",
              "    .colab-df-container {\n",
              "      display:flex;\n",
              "      flex-wrap:wrap;\n",
              "      gap: 12px;\n",
              "    }\n",
              "\n",
              "    .colab-df-convert {\n",
              "      background-color: #E8F0FE;\n",
              "      border: none;\n",
              "      border-radius: 50%;\n",
              "      cursor: pointer;\n",
              "      display: none;\n",
              "      fill: #1967D2;\n",
              "      height: 32px;\n",
              "      padding: 0 0 0 0;\n",
              "      width: 32px;\n",
              "    }\n",
              "\n",
              "    .colab-df-convert:hover {\n",
              "      background-color: #E2EBFA;\n",
              "      box-shadow: 0px 1px 2px rgba(60, 64, 67, 0.3), 0px 1px 3px 1px rgba(60, 64, 67, 0.15);\n",
              "      fill: #174EA6;\n",
              "    }\n",
              "\n",
              "    [theme=dark] .colab-df-convert {\n",
              "      background-color: #3B4455;\n",
              "      fill: #D2E3FC;\n",
              "    }\n",
              "\n",
              "    [theme=dark] .colab-df-convert:hover {\n",
              "      background-color: #434B5C;\n",
              "      box-shadow: 0px 1px 3px 1px rgba(0, 0, 0, 0.15);\n",
              "      filter: drop-shadow(0px 1px 2px rgba(0, 0, 0, 0.3));\n",
              "      fill: #FFFFFF;\n",
              "    }\n",
              "  </style>\n",
              "\n",
              "      <script>\n",
              "        const buttonEl =\n",
              "          document.querySelector('#df-74409029-1288-4aaa-9e8b-abdcf6132549 button.colab-df-convert');\n",
              "        buttonEl.style.display =\n",
              "          google.colab.kernel.accessAllowed ? 'block' : 'none';\n",
              "\n",
              "        async function convertToInteractive(key) {\n",
              "          const element = document.querySelector('#df-74409029-1288-4aaa-9e8b-abdcf6132549');\n",
              "          const dataTable =\n",
              "            await google.colab.kernel.invokeFunction('convertToInteractive',\n",
              "                                                     [key], {});\n",
              "          if (!dataTable) return;\n",
              "\n",
              "          const docLinkHtml = 'Like what you see? Visit the ' +\n",
              "            '<a target=\"_blank\" href=https://colab.research.google.com/notebooks/data_table.ipynb>data table notebook</a>'\n",
              "            + ' to learn more about interactive tables.';\n",
              "          element.innerHTML = '';\n",
              "          dataTable['output_type'] = 'display_data';\n",
              "          await google.colab.output.renderOutput(dataTable, element);\n",
              "          const docLink = document.createElement('div');\n",
              "          docLink.innerHTML = docLinkHtml;\n",
              "          element.appendChild(docLink);\n",
              "        }\n",
              "      </script>\n",
              "    </div>\n",
              "  </div>\n",
              "  "
            ]
          },
          "metadata": {},
          "execution_count": 25
        }
      ]
    },
    {
      "cell_type": "markdown",
      "source": [
        "이렇게 생성된 예측 사용자 아이템 평점 행렬정보를 이용해 개인화된 영화추천을 해보자. 아이템 기반ㅇ 최근접 이웃 협업 필터링 실습과 동일한 잠재요인 협업필터링으로 해보자."
      ],
      "metadata": {
        "id": "xjNRKg5KFXxA"
      }
    },
    {
      "cell_type": "code",
      "source": [
        "unseen_list = get_unseen_movies(ratings_matrix, 9)\n",
        "\n",
        "recomm_movies = recomm_movie_by_userid(ratings_pred_matrix, 9,unseen_list, top_n=9)\n",
        "\n",
        "recomm_movies = pd.DataFrame(data=recomm_movies, index=recomm_movies.index, columns=['pred_socre'])\n",
        "recomm_movies"
      ],
      "metadata": {
        "id": "Xt8ULHPbFfRC",
        "colab": {
          "base_uri": "https://localhost:8080/",
          "height": 363
        },
        "outputId": "86ce36c9-c441-44b5-a308-68c989f011b8"
      },
      "execution_count": 26,
      "outputs": [
        {
          "output_type": "execute_result",
          "data": {
            "text/plain": [
              "                                             pred_socre\n",
              "title                                                  \n",
              "Rear Window (1954)                                  NaN\n",
              "South Park: Bigger, Longer and Uncut (1999)         NaN\n",
              "Rounders (1998)                                     NaN\n",
              "Blade Runner (1982)                                 NaN\n",
              "Roger & Me (1989)                                   NaN\n",
              "Gattaca (1997)                                      NaN\n",
              "Ben-Hur (1959)                                      NaN\n",
              "Rosencrantz and Guildenstern Are Dead (1990)        NaN\n",
              "Big Lebowski, The (1998)                            NaN"
            ],
            "text/html": [
              "\n",
              "  <div id=\"df-7912dad6-3fd8-4cfe-81c6-b366e4e99ad6\">\n",
              "    <div class=\"colab-df-container\">\n",
              "      <div>\n",
              "<style scoped>\n",
              "    .dataframe tbody tr th:only-of-type {\n",
              "        vertical-align: middle;\n",
              "    }\n",
              "\n",
              "    .dataframe tbody tr th {\n",
              "        vertical-align: top;\n",
              "    }\n",
              "\n",
              "    .dataframe thead th {\n",
              "        text-align: right;\n",
              "    }\n",
              "</style>\n",
              "<table border=\"1\" class=\"dataframe\">\n",
              "  <thead>\n",
              "    <tr style=\"text-align: right;\">\n",
              "      <th></th>\n",
              "      <th>pred_socre</th>\n",
              "    </tr>\n",
              "    <tr>\n",
              "      <th>title</th>\n",
              "      <th></th>\n",
              "    </tr>\n",
              "  </thead>\n",
              "  <tbody>\n",
              "    <tr>\n",
              "      <th>Rear Window (1954)</th>\n",
              "      <td>NaN</td>\n",
              "    </tr>\n",
              "    <tr>\n",
              "      <th>South Park: Bigger, Longer and Uncut (1999)</th>\n",
              "      <td>NaN</td>\n",
              "    </tr>\n",
              "    <tr>\n",
              "      <th>Rounders (1998)</th>\n",
              "      <td>NaN</td>\n",
              "    </tr>\n",
              "    <tr>\n",
              "      <th>Blade Runner (1982)</th>\n",
              "      <td>NaN</td>\n",
              "    </tr>\n",
              "    <tr>\n",
              "      <th>Roger &amp; Me (1989)</th>\n",
              "      <td>NaN</td>\n",
              "    </tr>\n",
              "    <tr>\n",
              "      <th>Gattaca (1997)</th>\n",
              "      <td>NaN</td>\n",
              "    </tr>\n",
              "    <tr>\n",
              "      <th>Ben-Hur (1959)</th>\n",
              "      <td>NaN</td>\n",
              "    </tr>\n",
              "    <tr>\n",
              "      <th>Rosencrantz and Guildenstern Are Dead (1990)</th>\n",
              "      <td>NaN</td>\n",
              "    </tr>\n",
              "    <tr>\n",
              "      <th>Big Lebowski, The (1998)</th>\n",
              "      <td>NaN</td>\n",
              "    </tr>\n",
              "  </tbody>\n",
              "</table>\n",
              "</div>\n",
              "      <button class=\"colab-df-convert\" onclick=\"convertToInteractive('df-7912dad6-3fd8-4cfe-81c6-b366e4e99ad6')\"\n",
              "              title=\"Convert this dataframe to an interactive table.\"\n",
              "              style=\"display:none;\">\n",
              "        \n",
              "  <svg xmlns=\"http://www.w3.org/2000/svg\" height=\"24px\"viewBox=\"0 0 24 24\"\n",
              "       width=\"24px\">\n",
              "    <path d=\"M0 0h24v24H0V0z\" fill=\"none\"/>\n",
              "    <path d=\"M18.56 5.44l.94 2.06.94-2.06 2.06-.94-2.06-.94-.94-2.06-.94 2.06-2.06.94zm-11 1L8.5 8.5l.94-2.06 2.06-.94-2.06-.94L8.5 2.5l-.94 2.06-2.06.94zm10 10l.94 2.06.94-2.06 2.06-.94-2.06-.94-.94-2.06-.94 2.06-2.06.94z\"/><path d=\"M17.41 7.96l-1.37-1.37c-.4-.4-.92-.59-1.43-.59-.52 0-1.04.2-1.43.59L10.3 9.45l-7.72 7.72c-.78.78-.78 2.05 0 2.83L4 21.41c.39.39.9.59 1.41.59.51 0 1.02-.2 1.41-.59l7.78-7.78 2.81-2.81c.8-.78.8-2.07 0-2.86zM5.41 20L4 18.59l7.72-7.72 1.47 1.35L5.41 20z\"/>\n",
              "  </svg>\n",
              "      </button>\n",
              "      \n",
              "  <style>\n",
              "    .colab-df-container {\n",
              "      display:flex;\n",
              "      flex-wrap:wrap;\n",
              "      gap: 12px;\n",
              "    }\n",
              "\n",
              "    .colab-df-convert {\n",
              "      background-color: #E8F0FE;\n",
              "      border: none;\n",
              "      border-radius: 50%;\n",
              "      cursor: pointer;\n",
              "      display: none;\n",
              "      fill: #1967D2;\n",
              "      height: 32px;\n",
              "      padding: 0 0 0 0;\n",
              "      width: 32px;\n",
              "    }\n",
              "\n",
              "    .colab-df-convert:hover {\n",
              "      background-color: #E2EBFA;\n",
              "      box-shadow: 0px 1px 2px rgba(60, 64, 67, 0.3), 0px 1px 3px 1px rgba(60, 64, 67, 0.15);\n",
              "      fill: #174EA6;\n",
              "    }\n",
              "\n",
              "    [theme=dark] .colab-df-convert {\n",
              "      background-color: #3B4455;\n",
              "      fill: #D2E3FC;\n",
              "    }\n",
              "\n",
              "    [theme=dark] .colab-df-convert:hover {\n",
              "      background-color: #434B5C;\n",
              "      box-shadow: 0px 1px 3px 1px rgba(0, 0, 0, 0.15);\n",
              "      filter: drop-shadow(0px 1px 2px rgba(0, 0, 0, 0.3));\n",
              "      fill: #FFFFFF;\n",
              "    }\n",
              "  </style>\n",
              "\n",
              "      <script>\n",
              "        const buttonEl =\n",
              "          document.querySelector('#df-7912dad6-3fd8-4cfe-81c6-b366e4e99ad6 button.colab-df-convert');\n",
              "        buttonEl.style.display =\n",
              "          google.colab.kernel.accessAllowed ? 'block' : 'none';\n",
              "\n",
              "        async function convertToInteractive(key) {\n",
              "          const element = document.querySelector('#df-7912dad6-3fd8-4cfe-81c6-b366e4e99ad6');\n",
              "          const dataTable =\n",
              "            await google.colab.kernel.invokeFunction('convertToInteractive',\n",
              "                                                     [key], {});\n",
              "          if (!dataTable) return;\n",
              "\n",
              "          const docLinkHtml = 'Like what you see? Visit the ' +\n",
              "            '<a target=\"_blank\" href=https://colab.research.google.com/notebooks/data_table.ipynb>data table notebook</a>'\n",
              "            + ' to learn more about interactive tables.';\n",
              "          element.innerHTML = '';\n",
              "          dataTable['output_type'] = 'display_data';\n",
              "          await google.colab.output.renderOutput(dataTable, element);\n",
              "          const docLink = document.createElement('div');\n",
              "          docLink.innerHTML = docLinkHtml;\n",
              "          element.appendChild(docLink);\n",
              "        }\n",
              "      </script>\n",
              "    </div>\n",
              "  </div>\n",
              "  "
            ]
          },
          "metadata": {},
          "execution_count": 26
        }
      ]
    },
    {
      "cell_type": "markdown",
      "source": [
        "앞의 추천 영화와는 다른 영화가 나온다. 훌륭하지만 약간 무겁고 어두운 주제의 영화가 추천되었다.\n",
        "\n",
        "## 08 파이썬 추천 시스템 패키지 - surprise\n",
        "### surprise 패키지 소개\n",
        "\n",
        "지금까지 콘텐츠 기반 필터링, 아이템 기반 협업 필터링, 잡재요인 기반 협업 필터링을 파이선 코드로 구현하였따. 앞에서 다룬 예제코드는 최적화나 수행속도 측면에서 보완이 필요하다. 이번에는 추천시스템 구축을 ㅜ이한 전용 패키지 surprise를 소개한다,\n",
        "\n",
        "surprise는 conda, pip을 이용해 설치한다"
      ],
      "metadata": {
        "id": "5XhLmjlJF2A3"
      }
    },
    {
      "cell_type": "code",
      "source": [
        "!pip install sckit-surprise"
      ],
      "metadata": {
        "id": "TZQauSn0eRYD",
        "colab": {
          "base_uri": "https://localhost:8080/"
        },
        "outputId": "66ee5e65-280a-4284-a364-a01b4d3fcdfa"
      },
      "execution_count": 27,
      "outputs": [
        {
          "output_type": "stream",
          "name": "stdout",
          "text": [
            "Looking in indexes: https://pypi.org/simple, https://us-python.pkg.dev/colab-wheels/public/simple/\n",
            "\u001b[31mERROR: Could not find a version that satisfies the requirement sckit-surprise (from versions: none)\u001b[0m\u001b[31m\n",
            "\u001b[0m\u001b[31mERROR: No matching distribution found for sckit-surprise\u001b[0m\u001b[31m\n",
            "\u001b[0m"
          ]
        }
      ]
    },
    {
      "cell_type": "code",
      "source": [
        "!pip install surprise"
      ],
      "metadata": {
        "colab": {
          "base_uri": "https://localhost:8080/"
        },
        "id": "MOB9e3G6m7iO",
        "outputId": "f815061b-a100-4c79-aa81-afc4453ffe60"
      },
      "execution_count": 28,
      "outputs": [
        {
          "output_type": "stream",
          "name": "stdout",
          "text": [
            "Looking in indexes: https://pypi.org/simple, https://us-python.pkg.dev/colab-wheels/public/simple/\n",
            "Collecting surprise\n",
            "  Downloading surprise-0.1-py2.py3-none-any.whl (1.8 kB)\n",
            "Collecting scikit-surprise (from surprise)\n",
            "  Downloading scikit-surprise-1.1.3.tar.gz (771 kB)\n",
            "\u001b[2K     \u001b[90m━━━━━━━━━━━━━━━━━━━━━━━━━━━━━━━━━━━━━━\u001b[0m \u001b[32m772.0/772.0 kB\u001b[0m \u001b[31m11.8 MB/s\u001b[0m eta \u001b[36m0:00:00\u001b[0m\n",
            "\u001b[?25h  Preparing metadata (setup.py) ... \u001b[?25l\u001b[?25hdone\n",
            "Requirement already satisfied: joblib>=1.0.0 in /usr/local/lib/python3.10/dist-packages (from scikit-surprise->surprise) (1.2.0)\n",
            "Requirement already satisfied: numpy>=1.17.3 in /usr/local/lib/python3.10/dist-packages (from scikit-surprise->surprise) (1.22.4)\n",
            "Requirement already satisfied: scipy>=1.3.2 in /usr/local/lib/python3.10/dist-packages (from scikit-surprise->surprise) (1.10.1)\n",
            "Building wheels for collected packages: scikit-surprise\n",
            "  Building wheel for scikit-surprise (setup.py) ... \u001b[?25l\u001b[?25hdone\n",
            "  Created wheel for scikit-surprise: filename=scikit_surprise-1.1.3-cp310-cp310-linux_x86_64.whl size=3095453 sha256=8d8dcd86d3872f7920a336908f2a2c56127799d75a5a4306b7642ee780e424de\n",
            "  Stored in directory: /root/.cache/pip/wheels/a5/ca/a8/4e28def53797fdc4363ca4af740db15a9c2f1595ebc51fb445\n",
            "Successfully built scikit-surprise\n",
            "Installing collected packages: scikit-surprise, surprise\n",
            "Successfully installed scikit-surprise-1.1.3 surprise-0.1\n"
          ]
        }
      ]
    },
    {
      "cell_type": "markdown",
      "source": [
        "$ conda install -c ocnda-forge scit-surprise\n",
        "\n",
        "로 설치 가능하다.\n",
        "\n",
        "이들은 다양한 추천 알고리즘 예를 들어 사용자 또는 아이템기반 최근접 이웃협업필터링, svd, nmf 기반의 잠재요인 협업 필터링을 쉽게 적용해 추천시스템을 구축할 수 있따.\n",
        "\n",
        "surprise 핵심 api는 사이킷런의 핵심 api와 유사한 api며응로 추천학습 데이터세트와 예측 데이터세트 분리, crossvalidate, 그리드서치cv 클래스를 통해 추천시스템을 위한 모델셀렉샨, 평가 하이퍼파라미터 튜닝등의 기능을 제ㅗㄱ앟ㄴ다.\n",
        "\n",
        "### surprise 를 이용한 추천 시스템 구축\n",
        "\n",
        "간단한 예제를 이용하여 패키지의 개략적인 사용법을 익혀보자. 예제는 추천데이터를 학습ㄷ용 데이터와 테스트용 데이터세트로 분리한뒤 행렬분해를 통해 잠재요인 협업 필터링을 수행한다."
      ],
      "metadata": {
        "id": "Om9Shxl6eVXr"
      }
    },
    {
      "cell_type": "code",
      "source": [
        "from surprise import SVD\n",
        "from surprise  import Dataset\n",
        "from surprise  import accuracy\n",
        "from surprise.model_selection import train_test_split"
      ],
      "metadata": {
        "id": "rBBO1X4uekgr"
      },
      "execution_count": 29,
      "outputs": []
    },
    {
      "cell_type": "markdown",
      "source": [
        "추천을 위한 데이터세틀ㄹ 로딩하자. 데이터로딩은 dataset클래스를 이용하여 가능하다. 이는 무비렌즈 데이터세트의 사용자-영화평점 데이터포멧과 같이 userid, movie id, rating과 같은 주요데이터가 로우레벨형태로 되어있는 데이터만 처리한다.\n",
        "\n",
        "surprise는 무비렌즈 사이트에서 제공하는 과거버전의 데이터세트를 가져오는 api를 제공한다. 로딩한 데이터세트를 surprise 피키지의 train_test_split을 이용하여 학습데이터세트와 테스트데이터 세트로 분리해보자."
      ],
      "metadata": {
        "id": "n5BXq_HCfrZs"
      }
    },
    {
      "cell_type": "code",
      "source": [
        "data = Dataset.load_builtin('ml-100k')\n",
        "# 수행시마다 동일하게 데이터를 분할하기 위해 randomstatte 값 부여\n",
        "trainset, testset = train_test_split(data,test_size=25, random_state=0)"
      ],
      "metadata": {
        "id": "xEE-h6_rfioP",
        "colab": {
          "base_uri": "https://localhost:8080/"
        },
        "outputId": "72fbcf71-17de-46c4-d34c-96e47921cebc"
      },
      "execution_count": 30,
      "outputs": [
        {
          "output_type": "stream",
          "name": "stdout",
          "text": [
            "Dataset ml-100k could not be found. Do you want to download it? [Y/n] Y\n",
            "Trying to download dataset from https://files.grouplens.org/datasets/movielens/ml-100k.zip...\n",
            "Done! Dataset ml-100k has been saved to /root/.surprise_data/ml-100k\n"
          ]
        }
      ]
    },
    {
      "cell_type": "markdown",
      "source": [
        "처음 load bulitin내의 옵션을 적요알 경우 다음과 같이 무비렌즈 사이트에서 다운받을지를 물어보는데 상자 내에 y를 입력하면 된다.한번 다운받으면 묻지 않고 다운된다.\n",
        "\n",
        "surprise에서 사용되는 ml 100k 데이터 세트는 앞에서 사용한 파일과 차이가 있다. 과거버전의 데이터세트로  분리문자가 탭문자이다.\n",
        "\n",
        "surprise에서 사용자-아이템 평점데이터를 적용할 때 주의해야할 점은 무비렌즈 사이트에서 내려받은 데이터파일과 동일하게 로우레벨의 사용자-아이템 평점 데이터를 그대로 적용해야한다는 것이다. 앞에서 로우레벨의 사용자-아이템 평점 데이터를 아이템 아이디를 칼럼명르 ㅗ변환한 형태의 사용자 아이템 평점행렬 데이터로 변환한다. surprise는 자체적으로 로우레벨의 데이터를 칼럼레벨의 데이터로 변경하므로 원본인 로우레벨의 사용자-아이템 평점데이터를 데이터세트로 적용해야 한다.\n",
        "\n",
        "svd로 잠재요인 협업 필터링을 수행한다. 적용하는 데이터세트는 앞에서 소개한 train_test_split 세트로 분리된 학습데이터세트다. 먼저 algo = svd()와 같이 알고리즘 객채를 생성한다. 이 알고리즘 객체에 fit을 수행해 학습데이터 세트 기반으로 추천 알고리즘을 학습한다.\n"
      ],
      "metadata": {
        "id": "zJ5ej35YgTLh"
      }
    },
    {
      "cell_type": "code",
      "source": [
        "algo = SVD()\n",
        "algo.fit(trainset)"
      ],
      "metadata": {
        "id": "bglHy2pthPX1",
        "colab": {
          "base_uri": "https://localhost:8080/"
        },
        "outputId": "f32c11c0-5486-4856-f0fb-879c33ffafe1"
      },
      "execution_count": 31,
      "outputs": [
        {
          "output_type": "execute_result",
          "data": {
            "text/plain": [
              "<surprise.prediction_algorithms.matrix_factorization.SVD at 0x7f108cf47910>"
            ]
          },
          "metadata": {},
          "execution_count": 31
        }
      ]
    },
    {
      "cell_type": "markdown",
      "source": [
        "학습된 추천알고리즘을 기반으로 테스트 데이터세트에 대해 추천을 수행한다. surprise에서 추천을 예측하는 메서드는 test, predict 두개로 테스트는 사용자-아이템 평점 데이터세트 전체에 대해 추천을 예측하는 메서드이다. 즉 입력된 데이터세트에대해 추천데이터 ㄱ세트를 만들어준다. predict는 개별 사용자와 영화에 대해 추천 평점을 반환한다. 예제를 통해 확인해보자. 테스트데이터세트 전체에 대해 추천영화 평점데이터ㅡㄹ 5개만 반환하는 예제이다."
      ],
      "metadata": {
        "id": "2vJAZkfxhSmp"
      }
    },
    {
      "cell_type": "code",
      "source": [
        "prediction = algo.test(testset)\n",
        "print('prediction type: ', type(prediction), 'size: ', len(prediction))\n",
        "print('prediction 결과의 최초 5개 추출')\n",
        "prediction[:5]"
      ],
      "metadata": {
        "id": "DRWm0PzVhkuz",
        "colab": {
          "base_uri": "https://localhost:8080/"
        },
        "outputId": "ecfdfd31-cd26-4838-d1e8-b5a6a28307c7"
      },
      "execution_count": 32,
      "outputs": [
        {
          "output_type": "stream",
          "name": "stdout",
          "text": [
            "prediction type:  <class 'list'> size:  25\n",
            "prediction 결과의 최초 5개 추출\n"
          ]
        },
        {
          "output_type": "execute_result",
          "data": {
            "text/plain": [
              "[Prediction(uid='917', iid='50', r_ui=3.0, est=4.285351919658023, details={'was_impossible': False}),\n",
              " Prediction(uid='235', iid='318', r_ui=5.0, est=4.4496331541852285, details={'was_impossible': False}),\n",
              " Prediction(uid='339', iid='12', r_ui=5.0, est=4.611221294192536, details={'was_impossible': False}),\n",
              " Prediction(uid='878', iid='755', r_ui=2.0, est=3.0367309044702986, details={'was_impossible': False}),\n",
              " Prediction(uid='618', iid='56', r_ui=4.0, est=3.028131121244263, details={'was_impossible': False})]"
            ]
          },
          "metadata": {},
          "execution_count": 32
        }
      ]
    },
    {
      "cell_type": "markdown",
      "source": [
        "svd 알고리즘 객체의 테스트메서드와 호출결과는 파이썬 리스트이며 입력인자 데이터세트와 같은 크기이다. 호출 결과로 반환된 리스트 객체는 25000개의 prediction 객체를 내부에 갖는다. prediction 객체는  surprise 패키지에서 제공하는 데이터타입이며 개별 사용자 아이디, 영화 아이디, 실제평점정보에 기반해 surprise의 추천 예측 평점 데이터를 튜플형태로 갖는다. prediction 객체의 details 속성은 내부 처리시 추천 예측을 할 수 없는 경우에 로그용으로 데이터를 남기는데 사용된다. was impossible이 트루이면 예측값ㅇ르 생성할 수 없는 데이터라는 의미이다.\n",
        "\n",
        "리스트객체내에 내포된 prediction객체의 uid, id,rui,est등의 속성에 접근하려면 객체명 uid와 같은 형식으로 가능하다. 다음은 prediction 객체에서 uid, iid, est 속성을 추출한 예제에디ㅏ."
      ],
      "metadata": {
        "id": "InySpdSMRoh4"
      }
    },
    {
      "cell_type": "code",
      "source": [
        "[ ( pred.uid, pred.iid, pred.est) for pred in prediction[:3]]"
      ],
      "metadata": {
        "id": "IJZHcg9wSTPu",
        "colab": {
          "base_uri": "https://localhost:8080/"
        },
        "outputId": "d36c6c0e-761a-4d93-a89c-d85e1f09ebc8"
      },
      "execution_count": 33,
      "outputs": [
        {
          "output_type": "execute_result",
          "data": {
            "text/plain": [
              "[('917', '50', 4.285351919658023),\n",
              " ('235', '318', 4.4496331541852285),\n",
              " ('339', '12', 4.611221294192536)]"
            ]
          },
          "metadata": {},
          "execution_count": 33
        }
      ]
    },
    {
      "cell_type": "markdown",
      "source": [
        "이번에는 surprise 패키지의 다른 추천 예측 메서드인 predict를 이용해 추천예측을 해보자. predict는 개별 사용자의 아이템에 대한 추천평점을 예측한다.인자로 개별사용자 아이다, 아이템 아이디를 입력하면 추천예측평점을 포함한 정보를 반환한다."
      ],
      "metadata": {
        "id": "7J-gKIJNSgC6"
      }
    },
    {
      "cell_type": "code",
      "source": [
        "# user id, item id need to input with string\n",
        "uid = str(196)\n",
        "iid = str(302)\n",
        "pred = algo.predict(uid, iid)\n",
        "print(pred)"
      ],
      "metadata": {
        "id": "1pfhVBa8SyTp",
        "colab": {
          "base_uri": "https://localhost:8080/"
        },
        "outputId": "967c705e-e611-4ad4-87e1-1203d099fbed"
      },
      "execution_count": 34,
      "outputs": [
        {
          "output_type": "stream",
          "name": "stdout",
          "text": [
            "user: 196        item: 302        r_ui = None   est = 4.00   {'was_impossible': False}\n"
          ]
        }
      ]
    },
    {
      "cell_type": "markdown",
      "source": [
        "결과처럼 predict()는 개별 사용자와 아이템 정보를 입력하면 추천 예측평점을 est로 반환한다. test 메서드는 입력데이터 세트의 모든 사용자와 아이템 아이디에 대해서 predict()를 반복적으로 수행한 결과라고 생각하면 좀 더 이해하기 쉽다.\n",
        "\n",
        "테스트 데이터 세트를 이용해 추천예측평점과 실제평점과의 차이를 평가합니다. surprise 의 accuracy 모듈은 rmse, mse 등의 방법으로 추천시스템으 ㅣ성능평가 정보를 제공한다. "
      ],
      "metadata": {
        "id": "e_Fq3M0KS-_b"
      }
    },
    {
      "cell_type": "code",
      "source": [
        "accuracy.rmse(prediction)"
      ],
      "metadata": {
        "id": "OAJtwFVGTaR2",
        "colab": {
          "base_uri": "https://localhost:8080/"
        },
        "outputId": "5e8bad9f-0aea-451f-8df5-57adfac5cccb"
      },
      "execution_count": 35,
      "outputs": [
        {
          "output_type": "stream",
          "name": "stdout",
          "text": [
            "RMSE: 0.9019\n"
          ]
        },
        {
          "output_type": "execute_result",
          "data": {
            "text/plain": [
              "0.9018963783243569"
            ]
          },
          "metadata": {},
          "execution_count": 35
        }
      ]
    },
    {
      "cell_type": "markdown",
      "source": [
        "이처럼 패키지로 손쉽게 추천시스템을 구현할 수 있다. 이제는 ㅐㄴ장데이터 세트가 아닌 다른 데이터파일을 로딩해서 추천시스템을 생성하자. 그 전에 모듈을 좀 더 살펴보자\n",
        "\n",
        "### surprise 주요 모듈 소개\n",
        "#### dataset\n",
        "surprise는 사용자아이디, 아이템아아ㅣ디, 평점이 로우레벨인 것들만 사용할 수 있다. 이렇게 가정하고 네번쨰 칼럼부터는 로딩을 수행하지 않는다. 순서도 고정적이다.\n",
        "\n",
        "- dataset.load.bulitin(name='ml-100k'): 무비렌즈 아카이브서버에서 무비렌즈 데이터를 내려받는다. 일단 내렵다은 데이ㅓㅌ는 surprise data 디렉터리 밑에 저장된다. 입력파라미터인 name으로 데이터를 구분한다\n",
        "\n",
        "- dataset.load_from_file: os 파일에서 데이터를 로딩할 때 사용한다. 콤마, 탭 등으로 칼럼이 분리된 포멧의 os file에서 데이터를 로딩한다. 입력 파라미터로 os 파일명, reader로 파일의 포맷을 지정한다.\n",
        "\n",
        "- dataset.load_from_df: 판다스의 데이터프레임에서 데이터를 로딩한다. 파라미터로 데이터프레임을 입력받으며 데이터프레임 역시 반드시 3개의 칼럼인 사용자아이디 아이템아이디 평점순으로 칼럼순서가 정해져있어야 한다. 입력파라미터로 데이터프레임객체, 리더로 파이르이 포맷을 지정한다.\n",
        "\n",
        "#### os 파일 데이터를 surprise 데이터 세트로 로딩\n",
        "\n",
        "데이터 로드 프럼 파일 api 를 사용하여 지정된 디렉터리의 사용자 아이템 평점데이터를 로딩하자. \n",
        "\n",
        "먼저 surprise 에 os 파일을 로딩할 떄의 주의점은 로딩되는 데이터파일에 칼럼며을 가지는 헤더문자열이 있어서는 안된다는 것이다. 판다스 데이터프레임의 tocsv 함수를 이용해 간단히 헤더를 삭제하고 새 파일로 저장한다"
      ],
      "metadata": {
        "id": "uvPUqMEKTddZ"
      }
    },
    {
      "cell_type": "code",
      "source": [
        "import pandas as pd\n",
        "ratings = pd.read_csv('/content/drive/MyDrive/ESAA/OB/ratings.csv')\n",
        "# ratigns 파일로 로드시 인덱스와 헤더를 제거한 새 파일 생성\n",
        "ratings.to_csv('/content/drive/MyDrive/ESAA/OB/ratings_noh.csv', index=False, header=False)"
      ],
      "metadata": {
        "id": "5BB5AksuUZwe"
      },
      "execution_count": 36,
      "outputs": []
    },
    {
      "cell_type": "markdown",
      "source": [
        "새 파일은 헤더가 삭제된 파일로 이제 데이터셋으로 로드하자. 적용하기 전에 리더 클래스를 이용해 파싱 포멧을 정의하자. 리더 클래스는 로딩될 파일의 파싱정보를 알려주기 위해 사용된다. 지금 로딩하려는 파일은 칼럼헤더가 없고 4개의 칼럼이 콤마로만 분리되어 있다. 이 4개의 칼럼이 사용자 아이디, 아이템아이디, 평점, 타임스템프임을 로딩할 때 알려줘야 한다.\n",
        "\n",
        "리더 클래스의 생성자에게 각 필드의 칼럼명과 칼럼 분리문자, 그리고 최소 최대 평점을 입력해 객체를 생성하고 load from file로 생성된 리더 객체를 참조해 데이터파이릉ㄹ 파싱하면서 로딩한다.\n",
        "\n",
        "다음 예제에서는 리더객체 생성시 line format 인자로 user, item, timestamp의 4개 칼럼으로 데이터가 구성되어 있음을 명시하고 각 칼럼의 분리문자는 콤마, 평점의 단위는 0.5, 최대 평점은 5점으로 설정한다. 이렇게 리더설정이 완료되면 데이터 로드프롬파일은 이를 기반으로 데이터를파싱하면서 데이터셋을 로딩한다."
      ],
      "metadata": {
        "id": "CGkKM8mLYP80"
      }
    },
    {
      "cell_type": "code",
      "source": [
        "from surprise import Reader\n",
        "\n",
        "reader = Reader(line_format = 'user item rating timestamp', sep=',', rating_scale=(0.5, 5))\n",
        "data =Dataset.load_from_file('/content/drive/MyDrive/ESAA/OB/ratings_noh.csv', reader=reader)"
      ],
      "metadata": {
        "id": "cmzMGxjBY8rE"
      },
      "execution_count": 37,
      "outputs": []
    },
    {
      "cell_type": "markdown",
      "source": [
        "surprise 데이터세트는 기본적으로 무비렌즈 데이터형식을 따르므로 무비렌즈 데이터 형식이 아닌 다른 os 파일의 겨웅 reader 클래스를 먼저 설정한다.\n",
        "\n",
        "> line_format(string): 칼럼을 순서대로 나타낸다. 입력된 문자열을 공백으로 분리해 칼럼으로 인식한다.\n",
        "\n",
        "> sep: 칼럼을 분리하는 분리자이며 디폴트는 \\로, 판다스에서는 필요가 없다.\n",
        "\n",
        "> rating_scale: 평점값의 최소 최대를 설정한다.\n",
        "\n",
        "이제 svd 행렬 분해 기법을 이용해 추천을 예측한다. 잠재요인 k 값을 나타내는 파라미터인 n factors 를 50으로 설정해서 데이터를 학습한 뒤 테스트 데이터세트를 적용해 예측평점을 구한다. 그리고 예측 평점과 실제 평점 데이터를 rmse로 평가한다."
      ],
      "metadata": {
        "id": "hQ3M7b-tZSoM"
      }
    },
    {
      "cell_type": "code",
      "source": [
        "trainset, testset = train_test_split(data, test_size=25, random_state=0)\n",
        "# 수행시마다 동일한 결과를 도출하기 위해 random state 설정\n",
        "algo = SVD(n_factors=50, random_state=0)\n",
        "\n",
        "# after training with train dataset, predict with test dataset, and evaluate RMSE\n",
        "algo.fit(trainset)\n",
        "predictions = algo.test(testset)\n",
        "accuracy.rmse(predictions)"
      ],
      "metadata": {
        "id": "4S4rULsKZ1eI",
        "colab": {
          "base_uri": "https://localhost:8080/"
        },
        "outputId": "f8f49746-a19f-4e69-e485-af10cdf6b3d6"
      },
      "execution_count": 38,
      "outputs": [
        {
          "output_type": "stream",
          "name": "stdout",
          "text": [
            "RMSE: 0.7940\n"
          ]
        },
        {
          "output_type": "execute_result",
          "data": {
            "text/plain": [
              "0.7939608260279409"
            ]
          },
          "metadata": {},
          "execution_count": 38
        }
      ]
    },
    {
      "cell_type": "markdown",
      "source": [
        "#### 판다스 dataframe에서 surprise 데이터세트로 로딩\n",
        "\n",
        "데이터셋 로드를 이용하면 서프라이즈 데이터세트로 로딩 가능하나 마찬가지로 사용자아이디 , 아이템아이디, 평점 칼럼순서로 지켜야한다."
      ],
      "metadata": {
        "id": "Gi7uNzpUaqU4"
      }
    },
    {
      "cell_type": "code",
      "source": [
        "ratings"
      ],
      "metadata": {
        "colab": {
          "base_uri": "https://localhost:8080/",
          "height": 424
        },
        "id": "c0Qrl7mGqPQ6",
        "outputId": "38a3fc6c-0145-47fc-c70a-6175c3dc9466"
      },
      "execution_count": 39,
      "outputs": [
        {
          "output_type": "execute_result",
          "data": {
            "text/plain": [
              "        userId  movieId  rating   timestamp\n",
              "0            1        1     4.0   964982703\n",
              "1            1        3     4.0   964981247\n",
              "2            1        6     4.0   964982224\n",
              "3            1       47     5.0   964983815\n",
              "4            1       50     5.0   964982931\n",
              "...        ...      ...     ...         ...\n",
              "100831     610   166534     4.0  1493848402\n",
              "100832     610   168248     5.0  1493850091\n",
              "100833     610   168250     5.0  1494273047\n",
              "100834     610   168252     5.0  1493846352\n",
              "100835     610   170875     3.0  1493846415\n",
              "\n",
              "[100836 rows x 4 columns]"
            ],
            "text/html": [
              "\n",
              "  <div id=\"df-e36ba593-c99e-4500-be7f-bca6ce3ecceb\">\n",
              "    <div class=\"colab-df-container\">\n",
              "      <div>\n",
              "<style scoped>\n",
              "    .dataframe tbody tr th:only-of-type {\n",
              "        vertical-align: middle;\n",
              "    }\n",
              "\n",
              "    .dataframe tbody tr th {\n",
              "        vertical-align: top;\n",
              "    }\n",
              "\n",
              "    .dataframe thead th {\n",
              "        text-align: right;\n",
              "    }\n",
              "</style>\n",
              "<table border=\"1\" class=\"dataframe\">\n",
              "  <thead>\n",
              "    <tr style=\"text-align: right;\">\n",
              "      <th></th>\n",
              "      <th>userId</th>\n",
              "      <th>movieId</th>\n",
              "      <th>rating</th>\n",
              "      <th>timestamp</th>\n",
              "    </tr>\n",
              "  </thead>\n",
              "  <tbody>\n",
              "    <tr>\n",
              "      <th>0</th>\n",
              "      <td>1</td>\n",
              "      <td>1</td>\n",
              "      <td>4.0</td>\n",
              "      <td>964982703</td>\n",
              "    </tr>\n",
              "    <tr>\n",
              "      <th>1</th>\n",
              "      <td>1</td>\n",
              "      <td>3</td>\n",
              "      <td>4.0</td>\n",
              "      <td>964981247</td>\n",
              "    </tr>\n",
              "    <tr>\n",
              "      <th>2</th>\n",
              "      <td>1</td>\n",
              "      <td>6</td>\n",
              "      <td>4.0</td>\n",
              "      <td>964982224</td>\n",
              "    </tr>\n",
              "    <tr>\n",
              "      <th>3</th>\n",
              "      <td>1</td>\n",
              "      <td>47</td>\n",
              "      <td>5.0</td>\n",
              "      <td>964983815</td>\n",
              "    </tr>\n",
              "    <tr>\n",
              "      <th>4</th>\n",
              "      <td>1</td>\n",
              "      <td>50</td>\n",
              "      <td>5.0</td>\n",
              "      <td>964982931</td>\n",
              "    </tr>\n",
              "    <tr>\n",
              "      <th>...</th>\n",
              "      <td>...</td>\n",
              "      <td>...</td>\n",
              "      <td>...</td>\n",
              "      <td>...</td>\n",
              "    </tr>\n",
              "    <tr>\n",
              "      <th>100831</th>\n",
              "      <td>610</td>\n",
              "      <td>166534</td>\n",
              "      <td>4.0</td>\n",
              "      <td>1493848402</td>\n",
              "    </tr>\n",
              "    <tr>\n",
              "      <th>100832</th>\n",
              "      <td>610</td>\n",
              "      <td>168248</td>\n",
              "      <td>5.0</td>\n",
              "      <td>1493850091</td>\n",
              "    </tr>\n",
              "    <tr>\n",
              "      <th>100833</th>\n",
              "      <td>610</td>\n",
              "      <td>168250</td>\n",
              "      <td>5.0</td>\n",
              "      <td>1494273047</td>\n",
              "    </tr>\n",
              "    <tr>\n",
              "      <th>100834</th>\n",
              "      <td>610</td>\n",
              "      <td>168252</td>\n",
              "      <td>5.0</td>\n",
              "      <td>1493846352</td>\n",
              "    </tr>\n",
              "    <tr>\n",
              "      <th>100835</th>\n",
              "      <td>610</td>\n",
              "      <td>170875</td>\n",
              "      <td>3.0</td>\n",
              "      <td>1493846415</td>\n",
              "    </tr>\n",
              "  </tbody>\n",
              "</table>\n",
              "<p>100836 rows × 4 columns</p>\n",
              "</div>\n",
              "      <button class=\"colab-df-convert\" onclick=\"convertToInteractive('df-e36ba593-c99e-4500-be7f-bca6ce3ecceb')\"\n",
              "              title=\"Convert this dataframe to an interactive table.\"\n",
              "              style=\"display:none;\">\n",
              "        \n",
              "  <svg xmlns=\"http://www.w3.org/2000/svg\" height=\"24px\"viewBox=\"0 0 24 24\"\n",
              "       width=\"24px\">\n",
              "    <path d=\"M0 0h24v24H0V0z\" fill=\"none\"/>\n",
              "    <path d=\"M18.56 5.44l.94 2.06.94-2.06 2.06-.94-2.06-.94-.94-2.06-.94 2.06-2.06.94zm-11 1L8.5 8.5l.94-2.06 2.06-.94-2.06-.94L8.5 2.5l-.94 2.06-2.06.94zm10 10l.94 2.06.94-2.06 2.06-.94-2.06-.94-.94-2.06-.94 2.06-2.06.94z\"/><path d=\"M17.41 7.96l-1.37-1.37c-.4-.4-.92-.59-1.43-.59-.52 0-1.04.2-1.43.59L10.3 9.45l-7.72 7.72c-.78.78-.78 2.05 0 2.83L4 21.41c.39.39.9.59 1.41.59.51 0 1.02-.2 1.41-.59l7.78-7.78 2.81-2.81c.8-.78.8-2.07 0-2.86zM5.41 20L4 18.59l7.72-7.72 1.47 1.35L5.41 20z\"/>\n",
              "  </svg>\n",
              "      </button>\n",
              "      \n",
              "  <style>\n",
              "    .colab-df-container {\n",
              "      display:flex;\n",
              "      flex-wrap:wrap;\n",
              "      gap: 12px;\n",
              "    }\n",
              "\n",
              "    .colab-df-convert {\n",
              "      background-color: #E8F0FE;\n",
              "      border: none;\n",
              "      border-radius: 50%;\n",
              "      cursor: pointer;\n",
              "      display: none;\n",
              "      fill: #1967D2;\n",
              "      height: 32px;\n",
              "      padding: 0 0 0 0;\n",
              "      width: 32px;\n",
              "    }\n",
              "\n",
              "    .colab-df-convert:hover {\n",
              "      background-color: #E2EBFA;\n",
              "      box-shadow: 0px 1px 2px rgba(60, 64, 67, 0.3), 0px 1px 3px 1px rgba(60, 64, 67, 0.15);\n",
              "      fill: #174EA6;\n",
              "    }\n",
              "\n",
              "    [theme=dark] .colab-df-convert {\n",
              "      background-color: #3B4455;\n",
              "      fill: #D2E3FC;\n",
              "    }\n",
              "\n",
              "    [theme=dark] .colab-df-convert:hover {\n",
              "      background-color: #434B5C;\n",
              "      box-shadow: 0px 1px 3px 1px rgba(0, 0, 0, 0.15);\n",
              "      filter: drop-shadow(0px 1px 2px rgba(0, 0, 0, 0.3));\n",
              "      fill: #FFFFFF;\n",
              "    }\n",
              "  </style>\n",
              "\n",
              "      <script>\n",
              "        const buttonEl =\n",
              "          document.querySelector('#df-e36ba593-c99e-4500-be7f-bca6ce3ecceb button.colab-df-convert');\n",
              "        buttonEl.style.display =\n",
              "          google.colab.kernel.accessAllowed ? 'block' : 'none';\n",
              "\n",
              "        async function convertToInteractive(key) {\n",
              "          const element = document.querySelector('#df-e36ba593-c99e-4500-be7f-bca6ce3ecceb');\n",
              "          const dataTable =\n",
              "            await google.colab.kernel.invokeFunction('convertToInteractive',\n",
              "                                                     [key], {});\n",
              "          if (!dataTable) return;\n",
              "\n",
              "          const docLinkHtml = 'Like what you see? Visit the ' +\n",
              "            '<a target=\"_blank\" href=https://colab.research.google.com/notebooks/data_table.ipynb>data table notebook</a>'\n",
              "            + ' to learn more about interactive tables.';\n",
              "          element.innerHTML = '';\n",
              "          dataTable['output_type'] = 'display_data';\n",
              "          await google.colab.output.renderOutput(dataTable, element);\n",
              "          const docLink = document.createElement('div');\n",
              "          docLink.innerHTML = docLinkHtml;\n",
              "          element.appendChild(docLink);\n",
              "        }\n",
              "      </script>\n",
              "    </div>\n",
              "  </div>\n",
              "  "
            ]
          },
          "metadata": {},
          "execution_count": 39
        }
      ]
    },
    {
      "cell_type": "code",
      "source": [
        "import pandas as pd\n",
        "from surprise import Reader, Dataset\n",
        "\n",
        "ratings = pd.read_csv('/content/drive/MyDrive/ESAA/OB/ratings_noh.csv')\n",
        "reader = Reader(rating_scale=(0.5,5.0))\n",
        "\n",
        "# ratings dataframe에서 칼럼은 사용자 아이디, 아이템 아이디, 평점 순서를 지켜야한다\n",
        "data = Dataset.load_from_df(ratings[['userId', 'movieId', 'rating']], reader)\n",
        "trainset, testset = train_test_split(data, test_size=25, random_state=0)\n",
        "\n",
        "algo = SVD(n_factors=50, random_state=0)\n",
        "algo.fit(trainset)\n",
        "predictions = algo.test(testset)\n",
        "accuracy.rmse(predictions)"
      ],
      "metadata": {
        "id": "WbwTIIDzaznS"
      },
      "execution_count": null,
      "outputs": []
    },
    {
      "cell_type": "markdown",
      "source": [
        "### surprise 추천 알고리즘 클래스\n",
        "\n",
        "- svd: 행렬분해를 통한 잠재요인 협업 필터링을 위한 svd 알고리즘.\n",
        "\n",
        "- knnbasic: 최근접 이웃 협업 필터링을 위한 knn 알고리즘\n",
        "\n",
        "- biaslineonly: 사용자 bias 와 아이템 bias를 감안한 sgd 베이스라인 알고리즘\n",
        "\n",
        "surprise svd의 비용함수는 사용자 베이스라인 편향성을 감안한 평점예측에 regularization을 사용한다. \n",
        "\n",
        "svd 클래스의 입력파라미터는 다음과 같다. 주로 nfactors와 n epochs 값을 변경해 튜닝할 수 잇으나 튜닝 효과는 크지않다. biased의 경우 큰 이슈가 없는 한 true로 설정을 하는 것이 좋다.\n",
        "\n",
        "- nfactors: 잠재요인의 개수로 디폴트는 100. 커질수록 정확도가 높아질 수 있으나, 과적합 문제가 발생할 수 있다.\n",
        "\n",
        "- n epochs: sgd 수행시 반복횟수, 디폴트는 20\n",
        "- biased: 베이스라인 사용자 편향 적용여부로 ㅣㄷ폴트는 true\n",
        "\n",
        " 추천 알고리즘의 예측성능 벤치마크 결과는 surpriselib.com에서 확인 가능하며 다음과 같다.\n",
        "\n",
        " \n",
        "![image.png](data:image/png;base64,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)"
      ],
      "metadata": {
        "id": "K9rG4WxZbtqa"
      }
    },
    {
      "cell_type": "markdown",
      "source": [
        "svd 알고리즘의 rmse mae 성적이 가장 좋지만 상대적으로 시간이 너무 오래걸려 데이터가 족므만 더 커져도 사용하기 어려울 것으로 보인다. knn 자체는 성능이 상대적으로 뒤지지만 bseline을 결합한 경우 성능평가 수치가 대폭 향상됐다. 베이스라인은 각 개인이 평점을 부여ㅎㅏ는 성향ㅇ르 반영해 평점을 계산한 것을 의미한다.\n",
        "\n",
        "### 베이스라인 평점\n",
        "개인의 성향에 따라 상품의 품질이 같더라도 평가가 달라질 수 있다. 이러한 개인의 성향을 반영해 아이템 평가에 편향성요소를 반영하여 평점을 부과하는 것을 베이스라인 평점이라 한다.\n",
        "\n",
        "보통 전체평균평점 +사용자 편향 점수 + 아이템 편향 점수 공식으로 계산된다.\n",
        "\n",
        "전체평균평점은 모든 사용자의 아이템에 디한 아이템의 평점을 평균한 값, 사용자편향점수: 사용자별 아이템 평점 평균 값 - 전체평균평점, 아이템 편향점수는 아이템볊 평점 평균값-전체평균평점을 의미한다.\n",
        "\n",
        "영화평즘을 베이스라인 평점을 고려해 적용한다. 가령 모든 사용자의 평균적인 영화평점이 3.5이고 어벤져스 3편을 모든 사용자가 평균적으로 4.2라 평가했다면 영화평가를 늘 깐깐하게 하는 사용자 a는 어덯게 평가할지 계산해보자.\n",
        "\n",
        "이는 사용자의 평균 영화평점 + 사용자편향점수(사용자의 전체영화평균평점 - 전체영화평균평점) + 아이템 편향점수로 계산할 수 있다.\n",
        "\n",
        "### 교차검증과 하이퍼파라미터 튜닝\n",
        "\n",
        "surprise는 교차검증과 하이퍼파라미터 튜닝을 위해 사이킷런과 유사한 cross validate와  gridsearchcv 클래스를 제공한다. 먼저 교차검증을 위한 cross validate 함수의 사용법부터 살펴보자. 해당 함수는 surprise model selection 모듈 내에 존재하며 폴드된 데이터세트의 개수와 성능 측정 방법을 명시해 교차검증ㅇ르 수핸한다.\n",
        "\n",
        "다음 예제에서는 cross validatE를 이용해 ratings 를 데이터프레임으로 로딩한 데이터를 5개의 학습 검증 폴드 데이터 세트로 분리해 교차검증을 수행하고 rmse, mae로 성능평가를 진행한다.\n",
        "\n"
      ],
      "metadata": {
        "id": "_DjYiCwsc5x9"
      }
    },
    {
      "cell_type": "code",
      "source": [
        "from surprise.model_selection import cross_validate\n",
        "\n",
        "# pandas dataframe > surprise dataset\n",
        "ratings =pd.read_csv('/content/drive/MyDrive/ESAA/OB/ratings.csv')\n",
        "reader = Reader(rating_scale=(0.5, 5.0))\n",
        "data = Dataset.load_from_df(ratings[['userId', 'movieId','rating']], reader)\n",
        "\n",
        "algo = SVD(random_state=0)\n",
        "cross_validate(algo,data, measure=['RMSE', 'MAE'], cv=5, verbose=True)"
      ],
      "metadata": {
        "id": "gerVlWzIc0TG"
      },
      "execution_count": null,
      "outputs": []
    },
    {
      "cell_type": "markdown",
      "source": [
        "cross validate는 위의 출력결과와 같이 폴드별 성능평가 수치와 전체 폴드의 평균 평가 수치를 함께 보여준다. surprise의 그리드서치도 사이킷런의 그리드서치와 유사하게 교차검증을 통한 하이퍼파라미터 최적화를 수행한다. 하이퍼파라미터 최적화는 알고리즘 유형에 따라 다르지만 svd의 경우 주로 점진적 하강 방식의 반복횟수를 지정하는 nepochs와 svd으 ㅣ잠재요인 ㅋ의 크기를 결정하는 nfactors를 튜닝한다. "
      ],
      "metadata": {
        "id": "akYBk4L3fIym"
      }
    },
    {
      "cell_type": "code",
      "source": [
        "from surprise.model_selection import GridSearchCV\n",
        "\n",
        "param_grid = {'n_epochs':[20,40,60], 'n_factors':[50,100,200]}\n",
        "# cv를 3개의 폴드세트로 지정, 성능평가는 rmse,mse로 수행하도록 그리드서치구성\n",
        "gs = GridSearchCV(SVD, param_grid, measures=['rmse','mse'],cv=3)\n",
        "gs.fit(data)\n",
        "\n",
        "# best rmse score and that hyperparameter\n",
        "print(gs.best_score['rmse'])\n",
        "print(gs.best_params['rmse'])\n",
        "\n"
      ],
      "metadata": {
        "colab": {
          "base_uri": "https://localhost:8080/"
        },
        "id": "48wDszKPq98w",
        "outputId": "7a1978c6-37db-4e18-df68-5f467ce2c708"
      },
      "execution_count": 42,
      "outputs": [
        {
          "output_type": "stream",
          "name": "stdout",
          "text": [
            "0.8774654638049375\n",
            "{'n_epochs': 20, 'n_factors': 50}\n"
          ]
        }
      ]
    },
    {
      "cell_type": "markdown",
      "source": [
        "### surprise를 이용한 개인화 영화 추천 시스템 구축\n",
        "\n",
        "surprise를 이용해 잠재요인 협업 필터링 기반의 개인화된 영화추천을 구현해보자. 지금까지는 surprise가 학습데이터로 fit을 호출한 뒤 테스트데이터로 test를 호출해 예측 평점을 계산하고 mse/rmse로 평가하였다. 이제는 surprise 패키지로 학습된 추천알고리즘을 기반으로 특정 사용자가 아직 평점을 매기지 않은 영화중 개인츃야에 적절한영화를 천해보고자 한다. \n",
        "\n",
        "이번 예제에서는 Ratings 데이터를 학습 데이터와 테스트 데이터로 분리하지 않고 전체를 학습데이터로 사용한다. 그런데 이미 surprise에서는 데이터세트를 train test split으로 쪼개므로 trainset으로 변환하지 않으면 Fit으로ㅓ 학습할 수 없다.\n",
        "\n",
        "\n",
        "```\n",
        "data = Dataset.load_from_df(ratings[['userId', 'movieId', 'rating']],reader)\n",
        "algo = SVD(n_factors=50, random_state=0)\n",
        "algo.fit(data)\n",
        "```\n",
        "\n",
        "데이터 세트 전체를 학습데이ㅓㅌ로 사용하려면 datasetaufolds 클래스를 이용하면 datasetautofolds 객체를 생성한 뒤 vuild full trainset 메서드를 호출하여 전체데이터를 학습데이터세트로 만들 수 있따."
      ],
      "metadata": {
        "id": "KrzRvjHpreH2"
      }
    },
    {
      "cell_type": "code",
      "source": [
        "from surprise.dataset import DatasetAutoFolds\n",
        "\n",
        "reader = Reader(line_format ='user item rating timestamp', sep=',', rating_scale=(0.5, 5))\n",
        "#datasetautofodls 클래스를 rating noh csv 파일 기반으로 생서이\n",
        "data_folds = DatasetAutoFolds(ratings_file='/content/drive/MyDrive/ESAA/OB/ratings_noh.csv', reader=reader)\n",
        "\n",
        "# 전체 데이터를 학습 데이터로 새성성\n",
        "trainset = data_folds.build_full_trainset()"
      ],
      "metadata": {
        "id": "VYRyILDArcQI"
      },
      "execution_count": 43,
      "outputs": []
    },
    {
      "cell_type": "markdown",
      "source": [
        "dataautofolds build full trainset메서드를 이용해 생성된 학습데이터를 ㅎ기반으로 핛브을 수핻ㅇ한다. 그리고 이후에 특정 사용자에 영화를 ㅜ천하기 위해 아직 보지않은 영화목록을 확인해보자. 먼저 svd를 이용해 학습을 수행하자1"
      ],
      "metadata": {
        "id": "rTaJT0MmHSci"
      }
    },
    {
      "cell_type": "code",
      "source": [
        "algo = SVD(n_epochs=20, n_factors=50, random_state=0)\n",
        "algo.fit(trainset)"
      ],
      "metadata": {
        "colab": {
          "base_uri": "https://localhost:8080/"
        },
        "id": "pV7cVA26Hb2K",
        "outputId": "eee7cb50-7e6a-4b8e-e209-03725a6ebc2c"
      },
      "execution_count": 44,
      "outputs": [
        {
          "output_type": "execute_result",
          "data": {
            "text/plain": [
              "<surprise.prediction_algorithms.matrix_factorization.SVD at 0x7f108cf3f430>"
            ]
          },
          "metadata": {},
          "execution_count": 44
        }
      ]
    },
    {
      "cell_type": "markdown",
      "source": [
        "특정 사용자는 user id=9로 지정한다. 간단히 패키지의 api를 샤용하여 userid9가 아직 평점을 매기지 않은 영화를 영화42로선정한 뒤 예측평점을 계산하자"
      ],
      "metadata": {
        "id": "kypZAbumHncj"
      }
    },
    {
      "cell_type": "code",
      "source": [
        "# 영화에 대한 상세속성정보 데이터프레임 로딩\n",
        "movies = pd.read_csv('/content/drive/MyDrive/ESAA/OB/movies.csv')\n",
        "#userid 9 의 movieid 데이터를 추출해 movieid42 데이터가 있는지 확인\n",
        "movieIds = ratings[ratings['userId']==9]['movieId']\n",
        "\n",
        "if movieIds[movieIds==42].count()==0:\n",
        "  print('사용자 아이디 9는 영화아이디 42의 평점 없음')\n",
        "print(movies[movies['movieId']==42])"
      ],
      "metadata": {
        "colab": {
          "base_uri": "https://localhost:8080/"
        },
        "id": "IyPtPnewHwBE",
        "outputId": "8d67601a-1b73-4feb-82b9-0b3f35157f4d"
      },
      "execution_count": 45,
      "outputs": [
        {
          "output_type": "stream",
          "name": "stdout",
          "text": [
            "사용자 아이디 9는 영화아이디 42의 평점 없음\n",
            "    movieId                   title              genres\n",
            "38       42  Dead Presidents (1995)  Action|Crime|Drama\n"
          ]
        }
      ]
    },
    {
      "cell_type": "markdown",
      "source": [
        "movie id42 인 영화에 대해서 userid9 사용자의 추천 예상 평점은 predict 메서드를 이용하면 알 수 있다. 학습된 svd 객체에서 predict 메서드에서 movie id, userid 값을 입력해주면 된다."
      ],
      "metadata": {
        "id": "ZcH03YL6IXFd"
      }
    },
    {
      "cell_type": "code",
      "source": [
        "uid = str(9)\n",
        "iid = str(42) # 문자열값으로 입력해줘야함\n",
        "\n",
        "pred=algo.predict(uid, iid, verbose=True)"
      ],
      "metadata": {
        "colab": {
          "base_uri": "https://localhost:8080/"
        },
        "id": "54QiQQjrIsru",
        "outputId": "de66dbcf-57a3-4872-f8dd-8162fb3c64b8"
      },
      "execution_count": 46,
      "outputs": [
        {
          "output_type": "stream",
          "name": "stdout",
          "text": [
            "user: 9          item: 42         r_ui = None   est = 3.13   {'was_impossible': False}\n"
          ]
        }
      ]
    },
    {
      "cell_type": "markdown",
      "source": [
        "추천예측평점값은 est값으로 3.13이다. 같은 방식으로 예측평점을 생성하여 예측평점 순으로 추천영화를 만들자. 먼저 추천대상이 되는 영화를 추출한다. surprise 내부의 데이터 객체에 대한 엑세스 제약등으로 인해 앞절에서 사용한 get unseen movies 대신 새롭게 만들어 영화정보를 반환하자"
      ],
      "metadata": {
        "id": "OZ2w5e1xI0MQ"
      }
    },
    {
      "cell_type": "code",
      "source": [
        "def get_unseen_surprise(ratings, movies, userId):\n",
        "  seen_movies = ratings[ratings['userId']==userId]['movieId'].tolist()\n",
        "  total_movies = movies['movieId'].tolist()\n",
        "\n",
        "  unseen_movies =[movie for movie in total_movies if movie not in seen_movies]\n",
        "  print('평점 매긴 영화 수:', len(seen_movies), '추천 영화 대상 수:', len(unseen_movies), '전체 영화 수 :', len(total_movies))\n",
        "  return unseen_movies\n",
        "\n",
        "unseen_movies = get_unseen_surprise(ratings, movies, 9)\n"
      ],
      "metadata": {
        "colab": {
          "base_uri": "https://localhost:8080/"
        },
        "id": "sV-vQAvvJF8N",
        "outputId": "f6e42627-4cf9-40fe-b293-e24c929af225"
      },
      "execution_count": 49,
      "outputs": [
        {
          "output_type": "stream",
          "name": "stdout",
          "text": [
            "평점 매긴 영화 수: 46 추천 영화 대상 수: 9696 전체 영화 수 : 9742\n"
          ]
        }
      ]
    },
    {
      "cell_type": "markdown",
      "source": [
        "사용자아이디 9번은 전체 영화중에서 46개만 평점을 매겼다. 따라서 추천대상 영화는 전체 영화에서 4ㅅ6개를 제한 것으로 이 중 학습된 추천알고리즘 클래스인 svd 를 이용해 높은 예측 평점을 가진 순으로 영화를 추천해보자. 이를 recomm_movie_by_surprise 함수를 새롭게 생성한다. 이 함수는 인자로 핛브이 완료된 추천 알고리즘 객체, 추천대상 사용자아이디, 추천대상영화의 리스트 객체, 추천 상위 n개 개수를 받는다.\n",
        "\n",
        "recomm_movie_by_surprise는 추천 대상 영화 모두를 대상으로 추천알고리즘 객체의 predict()메서드를 호출하고 그 결과인 prediction객체를 리스트 객체로 저장한다. 그리고 이렇게 저장된 리스트 내부의 prediction 객체를 예측평점이 높은 순으로 다시 정렬한 뒤 top-n개의 예측 객체에서 영화아이디, 영화제목, 예측 평점 정보를 추출해 반환한다."
      ],
      "metadata": {
        "id": "lv5nyfWPKxLy"
      }
    },
    {
      "cell_type": "code",
      "source": [
        "def recomm_movie_by_surprise(algo, userId, unseen_movies, top_n=10):\n",
        "\n",
        "  predictions = [algo.predict(str(userId), str(movieId)) for movieId in unseen_movies]\n",
        "\n",
        "  def sortkey_est(pred):\n",
        "    return pred.est\n",
        "  \n",
        "  predictions.sort(key=sortkey_est, reverse=True)\n",
        "  top_predictions = predictions[:top_n]\n",
        "\n",
        "  top_movie_ids = [ int(pred.iid) for pred in top_predictions]\n",
        "  top_movie_rating = [pred.est for pred in top_predictions]\n",
        "  top_movie_titles = movies[movies.movieId.isin(top_movies_ids)['title']]\n",
        "\n",
        "  top_movie_preds = [(id, title, rating) for id, title, rating in zip(top_movie_ids, top_movie_titles, top_movie_rating)]\n",
        "\n",
        "  return top_movie_preds\n",
        "\n",
        "unseen_movies = get_unseen_surprise(ratings, movies, 9)\n",
        "top_movie_preds = recomm_movie_by_surprise(algo, 9, unseen_movies, top_n=10)\n",
        "print('####### top10 recommended movie list#######')\n",
        "for top_movie in top_movie_preds:\n",
        "  print(top_movie[1], \":\", top_movie[2])"
      ],
      "metadata": {
        "id": "ihNmSEqNKszY"
      },
      "execution_count": null,
      "outputs": []
    }
  ]
}